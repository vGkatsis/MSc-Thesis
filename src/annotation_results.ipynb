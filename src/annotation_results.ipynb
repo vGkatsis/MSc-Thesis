{
 "cells": [
  {
   "cell_type": "code",
   "execution_count": 1,
   "metadata": {},
   "outputs": [],
   "source": [
    "import json\n",
    "import pandas as pd\n",
    "from os import listdir\n",
    "from os.path import isfile, join"
   ]
  },
  {
   "cell_type": "code",
   "execution_count": 2,
   "metadata": {},
   "outputs": [],
   "source": [
    "# Discard duplicate evaluations when the second does not provide more information.\n",
    "def createResultsList(resultsDir):\n",
    "    resultFiles = [join(resultsDir,file) for file in listdir(resultsDir) if isfile(join(resultsDir, file))]\n",
    "    \n",
    "    results = {}\n",
    "    \n",
    "    for filePath in resultFiles:\n",
    "\n",
    "        if \"Forms_per_Annotator\" in filePath:\n",
    "            resultFiles.remove(filePath);\n",
    "            continue\n",
    "\n",
    "        file = open(filePath, 'r')\n",
    "        firstLine = file.readline()\n",
    "        \n",
    "        resultId = firstLine.split('#')[1]\n",
    "        numLines = sum(1 for line in file)\n",
    "        \n",
    "        if (resultId in results):\n",
    "            if (numLines >= results[resultId][\"lines\"]):\n",
    "            \n",
    "                resultFiles.remove(results[resultId][\"file\"])\n",
    "                results[resultId][\"file\"]  = filePath\n",
    "                results[resultId][\"lines\"] = numLines\n",
    "            \n",
    "            else:\n",
    "                resultFiles.remove(filePath);\n",
    "                \n",
    "        else:            \n",
    "            results[resultId] = {\"file\": filePath, \"lines\": numLines}\n",
    "        \n",
    "        file.close()\n",
    "        \n",
    "    return resultFiles"
   ]
  },
  {
   "cell_type": "code",
   "execution_count": 3,
   "metadata": {},
   "outputs": [],
   "source": [
    "# Read data of evaluatin into a dataframe.\n",
    "def readEvaluationData(evaluationFileName):\n",
    "            \n",
    "    with open(join(\"../annotation/claim-justification_annotator/public/\",evaluationFileName), 'r') as evaluationJson:\n",
    "        evaluationData = json.loads(evaluationJson.read())\n",
    "    \n",
    "    dataFrame = pd.read_json(join(\"../annotation/claim-justification_annotator/public/\",evaluationFileName))\n",
    "\n",
    "    return dataFrame"
   ]
  },
  {
   "cell_type": "code",
   "execution_count": 4,
   "metadata": {},
   "outputs": [],
   "source": [
    "# Find json_file_id when given simple id\n",
    "def findJsonFileId(claimId,evaluationData):\n",
    "    \n",
    "    valueRow = evaluationData.loc[evaluationData['id'] == claimId]\n",
    "    return valueRow[\"json_file_id\"].item()"
   ]
  },
  {
   "cell_type": "code",
   "execution_count": 5,
   "metadata": {},
   "outputs": [],
   "source": [
    "# Find claim and justification given json_file_id\n",
    "def findClaimJustification(jsonFileId, evaluationData):\n",
    "    \n",
    "    valueRow = evaluationData.loc[evaluationData['json_file_id'] == jsonFileId]\n",
    "    return valueRow[\"claim\"].item(), valueRow[\"justification\"].item()"
   ]
  },
  {
   "cell_type": "code",
   "execution_count": 6,
   "metadata": {},
   "outputs": [],
   "source": [
    "def aggregateAnnotationResults(resultsList):\n",
    "    \n",
    "    # Keep all annotation results in the results object.    \n",
    "    results = {}\n",
    "    \n",
    "    # Keep basic information (claim, justification)\n",
    "    basicInfo = {}\n",
    "\n",
    "    # For each kept evaluation.    \n",
    "    for file in resultsList:\n",
    "        resultsFile = open(file, 'r')\n",
    "        resultsLines = resultsFile.readlines()\n",
    "\n",
    "        currEvaluation = resultsLines[0].split('#')[2].replace(\"\\n\",'')\n",
    "        evaluationData = readEvaluationData(currEvaluation)\n",
    "        \n",
    "        # For each data line.        \n",
    "        for line in resultsLines[2:]:\n",
    "\n",
    "            dataList = line.split(',')\n",
    "\n",
    "            for i in range (0,len(dataList)):\n",
    "                dataList[i] = dataList[i].replace('\"', '').strip()\n",
    "\n",
    "            resultId = dataList[0]\n",
    "            jsonFileId = findJsonFileId(int(resultId),evaluationData)\n",
    "\n",
    "            # Check if claim has been ecountered in the past.          \n",
    "            if jsonFileId in results:\n",
    "                result = results[jsonFileId]\n",
    "                basic  = basicInfo[jsonFileId]\n",
    "            else:\n",
    "                result = {\"distortion\": 0,\n",
    "                          \"emphasis\": 0,\n",
    "                          \"unfounded\": 0,\n",
    "                          \"unclear\": 0}\n",
    "                \n",
    "                basic = {\"claim\": None,\n",
    "                         \"justification\": None}\n",
    "\n",
    "            # Find assigned label and check for anomalies occured during the process.            \n",
    "            annotationCounter = 0\n",
    "            if (dataList[1] == \"true\"):\n",
    "                label = \"distortion\" \n",
    "                annotationCounter += 1\n",
    "            elif (dataList[2] == \"true\"):\n",
    "                label = \"emphasis\"\n",
    "                annotationCounter += 1\n",
    "            elif (dataList[3] == \"true\"):\n",
    "                label = \"unfounded\"\n",
    "                annotationCounter += 1\n",
    "            elif (dataList[4] == \"true\"):\n",
    "                label = \"unclear\"\n",
    "                annotationCounter += 1\n",
    "            else:\n",
    "                print(\"Error. Claim is Unlabeld.\")\n",
    "                continue\n",
    "            \n",
    "            if (annotationCounter > 1):\n",
    "                print(\"Error. Claim should be assigned only one label.\")\n",
    "                continue\n",
    "                \n",
    "            result[label] = result[label] + 1\n",
    "            basic[\"claim\"], basic[\"justification\"] = findClaimJustification(jsonFileId,evaluationData)\n",
    "            \n",
    "            results[jsonFileId]   = result\n",
    "            basicInfo[jsonFileId] = basic\n",
    "    \n",
    "    return results, basicInfo"
   ]
  },
  {
   "cell_type": "code",
   "execution_count": 7,
   "metadata": {},
   "outputs": [],
   "source": [
    "def sumOfVotes(result):\n",
    "    return sum(result.values())"
   ]
  },
  {
   "cell_type": "code",
   "execution_count": 8,
   "metadata": {},
   "outputs": [],
   "source": [
    "def isTie(result):\n",
    "    values = list(result.values())\n",
    "    \n",
    "    for value in values:\n",
    "        if not value:\n",
    "            values.remove(value)\n",
    "    \n",
    "    if len(values) >= 2:\n",
    "        testValue = values[0]\n",
    "        for value in values[1:]:\n",
    "            if value != testValue:\n",
    "                return False\n",
    "    \n",
    "    return True"
   ]
  },
  {
   "cell_type": "code",
   "execution_count": 9,
   "metadata": {},
   "outputs": [],
   "source": [
    "def majorityVote(results, key):\n",
    "    \n",
    "    vote = max(results[key], key=results[key].get)\n",
    "    if vote == \"unclear\":\n",
    "        return None\n",
    "    else:\n",
    "        return vote"
   ]
  },
  {
   "cell_type": "code",
   "execution_count": 10,
   "metadata": {},
   "outputs": [],
   "source": [
    "def removeUncertainties(results):\n",
    "\n",
    "    minimumVotes = 3\n",
    "    \n",
    "    unResolvedData = {}\n",
    "    for key in list(results.keys()):        \n",
    "        if (sumOfVotes(results[key]) < minimumVotes) or (isTie(results[key])):\n",
    "            unResolvedData[key] = results[key]\n",
    "            results.pop(key)\n",
    "    \n",
    "    return results, unResolvedData"
   ]
  },
  {
   "cell_type": "code",
   "execution_count": 11,
   "metadata": {},
   "outputs": [
    {
     "name": "stdout",
     "output_type": "stream",
     "text": [
      "Error. Claim is Unlabeld.\n"
     ]
    }
   ],
   "source": [
    "resultsList = createResultsList(\"../data/Annotation_Results/\")\n",
    "results, basicInfo = aggregateAnnotationResults(resultsList)"
   ]
  },
  {
   "cell_type": "code",
   "execution_count": 12,
   "metadata": {},
   "outputs": [],
   "source": [
    "annotationResults, unresolvedData = removeUncertainties(results)"
   ]
  },
  {
   "cell_type": "code",
   "execution_count": 13,
   "metadata": {
    "scrolled": true
   },
   "outputs": [
    {
     "data": {
      "text/html": [
       "<div>\n",
       "<style scoped>\n",
       "    .dataframe tbody tr th:only-of-type {\n",
       "        vertical-align: middle;\n",
       "    }\n",
       "\n",
       "    .dataframe tbody tr th {\n",
       "        vertical-align: top;\n",
       "    }\n",
       "\n",
       "    .dataframe thead th {\n",
       "        text-align: right;\n",
       "    }\n",
       "</style>\n",
       "<table border=\"1\" class=\"dataframe\">\n",
       "  <thead>\n",
       "    <tr style=\"text-align: right;\">\n",
       "      <th></th>\n",
       "      <th>json_file_id</th>\n",
       "      <th>claim</th>\n",
       "      <th>justification</th>\n",
       "      <th>justification_label</th>\n",
       "    </tr>\n",
       "  </thead>\n",
       "  <tbody>\n",
       "    <tr>\n",
       "      <th>0</th>\n",
       "      <td>10540.json</td>\n",
       "      <td>When did the decline of coal start? It started...</td>\n",
       "      <td>Surovell said the decline of coal \"started whe...</td>\n",
       "      <td>distortion</td>\n",
       "    </tr>\n",
       "    <tr>\n",
       "      <th>1</th>\n",
       "      <td>4148.json</td>\n",
       "      <td>Since 2000, nearly 12 million Americans have s...</td>\n",
       "      <td>So where does this leave us?On Sanders side, h...</td>\n",
       "      <td>emphasis</td>\n",
       "    </tr>\n",
       "    <tr>\n",
       "      <th>2</th>\n",
       "      <td>8705.json</td>\n",
       "      <td>Most of the (Affordable Care Act) has already ...</td>\n",
       "      <td>With all the talk about problems with the heal...</td>\n",
       "      <td>distortion</td>\n",
       "    </tr>\n",
       "    <tr>\n",
       "      <th>3</th>\n",
       "      <td>10683.json</td>\n",
       "      <td>In this last election in November, ... 63 perc...</td>\n",
       "      <td>Sanders said that \"in this last election in No...</td>\n",
       "      <td>emphasis</td>\n",
       "    </tr>\n",
       "    <tr>\n",
       "      <th>4</th>\n",
       "      <td>7057.json</td>\n",
       "      <td>Says Mitt Romney wants to get rid of Planned P...</td>\n",
       "      <td>The Planned Parenthood Action Fund aid said th...</td>\n",
       "      <td>distortion</td>\n",
       "    </tr>\n",
       "    <tr>\n",
       "      <th>...</th>\n",
       "      <td>...</td>\n",
       "      <td>...</td>\n",
       "      <td>...</td>\n",
       "      <td>...</td>\n",
       "    </tr>\n",
       "    <tr>\n",
       "      <th>169</th>\n",
       "      <td>9547.json</td>\n",
       "      <td>David Perdue said he'd raise taxes.</td>\n",
       "      <td>Basing the statement alone on Perdues meeting ...</td>\n",
       "      <td>unfounded</td>\n",
       "    </tr>\n",
       "    <tr>\n",
       "      <th>170</th>\n",
       "      <td>12697.json</td>\n",
       "      <td>Says no one from the Bush family attended the ...</td>\n",
       "      <td>Priebus said its not a big deal a Bush isnt at...</td>\n",
       "      <td>unfounded</td>\n",
       "    </tr>\n",
       "    <tr>\n",
       "      <th>171</th>\n",
       "      <td>12499.json</td>\n",
       "      <td>Crime is rising.</td>\n",
       "      <td>Speaking generally about the state of the coun...</td>\n",
       "      <td>emphasis</td>\n",
       "    </tr>\n",
       "    <tr>\n",
       "      <th>172</th>\n",
       "      <td>4928.json</td>\n",
       "      <td>Weve got a personal tax system thats so compli...</td>\n",
       "      <td>Added together, this is likely a bit lower tha...</td>\n",
       "      <td>emphasis</td>\n",
       "    </tr>\n",
       "    <tr>\n",
       "      <th>173</th>\n",
       "      <td>5750.json</td>\n",
       "      <td>The bulk of the people who are shot with a wea...</td>\n",
       "      <td>Biden said \"the bulk\" of people who are shot w...</td>\n",
       "      <td>distortion</td>\n",
       "    </tr>\n",
       "  </tbody>\n",
       "</table>\n",
       "<p>174 rows × 4 columns</p>\n",
       "</div>"
      ],
      "text/plain": [
       "    json_file_id                                              claim  \\\n",
       "0     10540.json  When did the decline of coal start? It started...   \n",
       "1      4148.json  Since 2000, nearly 12 million Americans have s...   \n",
       "2      8705.json  Most of the (Affordable Care Act) has already ...   \n",
       "3     10683.json  In this last election in November, ... 63 perc...   \n",
       "4      7057.json  Says Mitt Romney wants to get rid of Planned P...   \n",
       "..           ...                                                ...   \n",
       "169    9547.json                David Perdue said he'd raise taxes.   \n",
       "170   12697.json  Says no one from the Bush family attended the ...   \n",
       "171   12499.json                                   Crime is rising.   \n",
       "172    4928.json  Weve got a personal tax system thats so compli...   \n",
       "173    5750.json  The bulk of the people who are shot with a wea...   \n",
       "\n",
       "                                         justification justification_label  \n",
       "0    Surovell said the decline of coal \"started whe...          distortion  \n",
       "1    So where does this leave us?On Sanders side, h...            emphasis  \n",
       "2    With all the talk about problems with the heal...          distortion  \n",
       "3    Sanders said that \"in this last election in No...            emphasis  \n",
       "4    The Planned Parenthood Action Fund aid said th...          distortion  \n",
       "..                                                 ...                 ...  \n",
       "169  Basing the statement alone on Perdues meeting ...           unfounded  \n",
       "170  Priebus said its not a big deal a Bush isnt at...           unfounded  \n",
       "171  Speaking generally about the state of the coun...            emphasis  \n",
       "172  Added together, this is likely a bit lower tha...            emphasis  \n",
       "173  Biden said \"the bulk\" of people who are shot w...          distortion  \n",
       "\n",
       "[174 rows x 4 columns]"
      ]
     },
     "metadata": {},
     "output_type": "display_data"
    }
   ],
   "source": [
    "uniqueId = \"json_file_id\"\n",
    "claim = \"claim\"\n",
    "just  = \"justification\"\n",
    "label = \"justification_label\"\n",
    "\n",
    "\n",
    "\n",
    "dataList = []\n",
    "for key in annotationResults:\n",
    "    \n",
    "    majorityLabel = majorityVote(annotationResults, key)\n",
    "    if majorityLabel is not None:\n",
    "        dataList.append({uniqueId: key, \n",
    "                         claim: basicInfo[key][claim],\n",
    "                         just:  basicInfo[key][just],\n",
    "                         label: majorityLabel})\n",
    "\n",
    "\n",
    "resultsColumns = [uniqueId, claim, just, label]\n",
    "data = pd.DataFrame(dataList,columns=resultsColumns)\n",
    "display(data)"
   ]
  },
  {
   "cell_type": "code",
   "execution_count": 14,
   "metadata": {},
   "outputs": [
    {
     "data": {
      "text/plain": [
       "distortion    71\n",
       "unfounded     56\n",
       "emphasis      47\n",
       "Name: justification_label, dtype: int64"
      ]
     },
     "execution_count": 14,
     "metadata": {},
     "output_type": "execute_result"
    }
   ],
   "source": [
    "data[\"justification_label\"].value_counts()"
   ]
  },
  {
   "cell_type": "code",
   "execution_count": 15,
   "metadata": {
    "scrolled": false
   },
   "outputs": [
    {
     "name": "stdout",
     "output_type": "stream",
     "text": [
      "Remaining Unresolved Data Are:  5\n"
     ]
    }
   ],
   "source": [
    "# for key in unresolvedData:\n",
    "#     if isTie(unresolvedData[key]):\n",
    "#         print(key)\n",
    "#         print(json.dumps(unresolvedData[key], indent=4, sort_keys=True))\n",
    "print(\"Remaining Unresolved Data Are: \", len(unresolvedData.keys()))"
   ]
  },
  {
   "cell_type": "code",
   "execution_count": 16,
   "metadata": {},
   "outputs": [],
   "source": [
    "data.to_csv('../data/Justification_Data/Justification_Data.tsv', sep=\"\\t\")"
   ]
  }
 ],
 "metadata": {
  "kernelspec": {
   "display_name": "Python 3",
   "language": "python",
   "name": "python3"
  },
  "language_info": {
   "codemirror_mode": {
    "name": "ipython",
    "version": 3
   },
   "file_extension": ".py",
   "mimetype": "text/x-python",
   "name": "python",
   "nbconvert_exporter": "python",
   "pygments_lexer": "ipython3",
   "version": "3.8.10"
  }
 },
 "nbformat": 4,
 "nbformat_minor": 4
}
