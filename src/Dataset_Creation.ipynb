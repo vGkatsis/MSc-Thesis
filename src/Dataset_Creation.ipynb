{
 "cells": [
  {
   "cell_type": "code",
   "execution_count": 21,
   "metadata": {},
   "outputs": [],
   "source": [
    "import json\n",
    "import pandas as pd\n",
    "import numpy as np"
   ]
  },
  {
   "cell_type": "code",
   "execution_count": 22,
   "metadata": {},
   "outputs": [],
   "source": [
    "# Read Summarisation Model results from json file.\n",
    "\n",
    "with open(\"../data/Model_Results/summarisation_results.jsonl\", 'r') as json_file:\n",
    "    json_list = list(json_file)\n",
    "\n",
    "    \n",
    "summarisationResults = {}\n",
    "for json_str in json_list:\n",
    "    \n",
    "    result = json.loads(json_str)\n",
    "    summaryList = sorted(result[\"sentence_scores\"], key=lambda x:x[1], reverse=True)[:4]\n",
    "    summary = \"\"\n",
    "    for sentence in summaryList:\n",
    "        summary += sentence[0] + ' '\n",
    "    \n",
    "    summarisationResults[result[\"id\"]] = summary"
   ]
  },
  {
   "cell_type": "code",
   "execution_count": 23,
   "metadata": {},
   "outputs": [],
   "source": [
    "summarisationData = pd.DataFrame(data=summarisationResults, index=[0])"
   ]
  },
  {
   "cell_type": "code",
   "execution_count": 24,
   "metadata": {},
   "outputs": [
    {
     "data": {
      "text/html": [
       "<div>\n",
       "<style scoped>\n",
       "    .dataframe tbody tr th:only-of-type {\n",
       "        vertical-align: middle;\n",
       "    }\n",
       "\n",
       "    .dataframe tbody tr th {\n",
       "        vertical-align: top;\n",
       "    }\n",
       "\n",
       "    .dataframe thead th {\n",
       "        text-align: right;\n",
       "    }\n",
       "</style>\n",
       "<table border=\"1\" class=\"dataframe\">\n",
       "  <thead>\n",
       "    <tr style=\"text-align: right;\">\n",
       "      <th></th>\n",
       "      <th>11972.json</th>\n",
       "      <th>11685.json</th>\n",
       "      <th>11096.json</th>\n",
       "      <th>5209.json</th>\n",
       "      <th>9524.json</th>\n",
       "      <th>5962.json</th>\n",
       "      <th>7070.json</th>\n",
       "      <th>1046.json</th>\n",
       "      <th>12849.json</th>\n",
       "      <th>13270.json</th>\n",
       "      <th>...</th>\n",
       "      <th>11576.json</th>\n",
       "      <th>3461.json</th>\n",
       "      <th>9464.json</th>\n",
       "      <th>10227.json</th>\n",
       "      <th>11707.json</th>\n",
       "      <th>3425.json</th>\n",
       "      <th>2977.json</th>\n",
       "      <th>294.json</th>\n",
       "      <th>3580.json</th>\n",
       "      <th>8384.json</th>\n",
       "    </tr>\n",
       "  </thead>\n",
       "  <tbody>\n",
       "    <tr>\n",
       "      <th>0</th>\n",
       "      <td>\"Building a wall\" on the border \"will take lit...</td>\n",
       "      <td>Those numbers show that as of October 2015, th...</td>\n",
       "      <td>If he did, he would have known that Senator Mc...</td>\n",
       "      <td>\"…She supports taking $500 billion away from M...</td>\n",
       "      <td>Scott Walker helped run a \"criminal scheme\" to...</td>\n",
       "      <td>The campaign accurately quoted a figure whose ...</td>\n",
       "      <td>So $30-31 million per year would, in fact, be ...</td>\n",
       "      <td>The Obama administration has emphasized many o...</td>\n",
       "      <td>\"It matters who’s leading the country, and it ...</td>\n",
       "      <td>Pence described the donors as major. \"The nati...</td>\n",
       "      <td>...</td>\n",
       "      <td>We’re not sure Sanders made that entirely clea...</td>\n",
       "      <td>The $20 million designated for Cuba \"focuses o...</td>\n",
       "      <td>There also are no Asian or Pacific Islander Re...</td>\n",
       "      <td>\"The United States is in the longest stretch o...</td>\n",
       "      <td>\"Secretary Clinton changes her position on thi...</td>\n",
       "      <td>Under the header \"New jobs created by the Stre...</td>\n",
       "      <td>They said low pay, increased work demands and ...</td>\n",
       "      <td>• Comstock, an adviser and frequent spokeswoma...</td>\n",
       "      <td>\"House Republicans under Paul Ryan's leadershi...</td>\n",
       "      <td>\"I will work in a bipartisan way to get it don...</td>\n",
       "    </tr>\n",
       "  </tbody>\n",
       "</table>\n",
       "<p>1 rows × 1400 columns</p>\n",
       "</div>"
      ],
      "text/plain": [
       "                                          11972.json  \\\n",
       "0  \"Building a wall\" on the border \"will take lit...   \n",
       "\n",
       "                                          11685.json  \\\n",
       "0  Those numbers show that as of October 2015, th...   \n",
       "\n",
       "                                          11096.json  \\\n",
       "0  If he did, he would have known that Senator Mc...   \n",
       "\n",
       "                                           5209.json  \\\n",
       "0  \"…She supports taking $500 billion away from M...   \n",
       "\n",
       "                                           9524.json  \\\n",
       "0  Scott Walker helped run a \"criminal scheme\" to...   \n",
       "\n",
       "                                           5962.json  \\\n",
       "0  The campaign accurately quoted a figure whose ...   \n",
       "\n",
       "                                           7070.json  \\\n",
       "0  So $30-31 million per year would, in fact, be ...   \n",
       "\n",
       "                                           1046.json  \\\n",
       "0  The Obama administration has emphasized many o...   \n",
       "\n",
       "                                          12849.json  \\\n",
       "0  \"It matters who’s leading the country, and it ...   \n",
       "\n",
       "                                          13270.json  ...  \\\n",
       "0  Pence described the donors as major. \"The nati...  ...   \n",
       "\n",
       "                                          11576.json  \\\n",
       "0  We’re not sure Sanders made that entirely clea...   \n",
       "\n",
       "                                           3461.json  \\\n",
       "0  The $20 million designated for Cuba \"focuses o...   \n",
       "\n",
       "                                           9464.json  \\\n",
       "0  There also are no Asian or Pacific Islander Re...   \n",
       "\n",
       "                                          10227.json  \\\n",
       "0  \"The United States is in the longest stretch o...   \n",
       "\n",
       "                                          11707.json  \\\n",
       "0  \"Secretary Clinton changes her position on thi...   \n",
       "\n",
       "                                           3425.json  \\\n",
       "0  Under the header \"New jobs created by the Stre...   \n",
       "\n",
       "                                           2977.json  \\\n",
       "0  They said low pay, increased work demands and ...   \n",
       "\n",
       "                                            294.json  \\\n",
       "0  • Comstock, an adviser and frequent spokeswoma...   \n",
       "\n",
       "                                           3580.json  \\\n",
       "0  \"House Republicans under Paul Ryan's leadershi...   \n",
       "\n",
       "                                           8384.json  \n",
       "0  \"I will work in a bipartisan way to get it don...  \n",
       "\n",
       "[1 rows x 1400 columns]"
      ]
     },
     "metadata": {},
     "output_type": "display_data"
    }
   ],
   "source": [
    "display(summarisationData)"
   ]
  },
  {
   "cell_type": "code",
   "execution_count": 25,
   "metadata": {},
   "outputs": [],
   "source": [
    "# Read DeClarE results from json file.\n",
    "with open('../data/Model_Results/DeClarE_Results.json') as file:\n",
    "    declareResults = json.load(file)"
   ]
  },
  {
   "cell_type": "code",
   "execution_count": 26,
   "metadata": {},
   "outputs": [],
   "source": [
    "exist = 0\n",
    "nExist = 0\n",
    "for json_id in summarisationData.columns:\n",
    "\n",
    "    if json_id not in declareResults.keys():\n",
    "        del summarisationData[json_id]"
   ]
  },
  {
   "cell_type": "code",
   "execution_count": 27,
   "metadata": {
    "scrolled": false
   },
   "outputs": [
    {
     "data": {
      "text/html": [
       "<div>\n",
       "<style scoped>\n",
       "    .dataframe tbody tr th:only-of-type {\n",
       "        vertical-align: middle;\n",
       "    }\n",
       "\n",
       "    .dataframe tbody tr th {\n",
       "        vertical-align: top;\n",
       "    }\n",
       "\n",
       "    .dataframe thead th {\n",
       "        text-align: right;\n",
       "    }\n",
       "</style>\n",
       "<table border=\"1\" class=\"dataframe\">\n",
       "  <thead>\n",
       "    <tr style=\"text-align: right;\">\n",
       "      <th></th>\n",
       "      <th>10540.json</th>\n",
       "      <th>4148.json</th>\n",
       "      <th>8705.json</th>\n",
       "      <th>10683.json</th>\n",
       "      <th>7057.json</th>\n",
       "      <th>9727.json</th>\n",
       "      <th>1926.json</th>\n",
       "      <th>11418.json</th>\n",
       "      <th>3652.json</th>\n",
       "      <th>8187.json</th>\n",
       "      <th>...</th>\n",
       "      <th>6411.json</th>\n",
       "      <th>361.json</th>\n",
       "      <th>11576.json</th>\n",
       "      <th>3461.json</th>\n",
       "      <th>10227.json</th>\n",
       "      <th>11707.json</th>\n",
       "      <th>3425.json</th>\n",
       "      <th>2977.json</th>\n",
       "      <th>294.json</th>\n",
       "      <th>3580.json</th>\n",
       "    </tr>\n",
       "  </thead>\n",
       "  <tbody>\n",
       "    <tr>\n",
       "      <th>0</th>\n",
       "      <td>\"When did the decline of coal start? \"That sta...</td>\n",
       "      <td>Sanders ended the tweet with his signature has...</td>\n",
       "      <td>The law added about3.1 million young adults to...</td>\n",
       "      <td>• \"63 percent of the American people chose not...</td>\n",
       "      <td>That would be speculation -- but that speculat...</td>\n",
       "      <td>\"The president's come out with rules that say ...</td>\n",
       "      <td>And in a July 2009 speech at the Council on Fo...</td>\n",
       "      <td>\"African-American youth unemployment is 51 per...</td>\n",
       "      <td>He took exactly none of his own deficit reduct...</td>\n",
       "      <td>\"He’s the person who invented the scheme to re...</td>\n",
       "      <td>...</td>\n",
       "      <td>\"As president, Barack Obama has never visited ...</td>\n",
       "      <td>Asked during a Texas campaign event about the ...</td>\n",
       "      <td>We’re not sure Sanders made that entirely clea...</td>\n",
       "      <td>The $20 million designated for Cuba \"focuses o...</td>\n",
       "      <td>\"The United States is in the longest stretch o...</td>\n",
       "      <td>\"Secretary Clinton changes her position on thi...</td>\n",
       "      <td>Under the header \"New jobs created by the Stre...</td>\n",
       "      <td>They said low pay, increased work demands and ...</td>\n",
       "      <td>• Comstock, an adviser and frequent spokeswoma...</td>\n",
       "      <td>\"House Republicans under Paul Ryan's leadershi...</td>\n",
       "    </tr>\n",
       "  </tbody>\n",
       "</table>\n",
       "<p>1 rows × 121 columns</p>\n",
       "</div>"
      ],
      "text/plain": [
       "                                          10540.json  \\\n",
       "0  \"When did the decline of coal start? \"That sta...   \n",
       "\n",
       "                                           4148.json  \\\n",
       "0  Sanders ended the tweet with his signature has...   \n",
       "\n",
       "                                           8705.json  \\\n",
       "0  The law added about3.1 million young adults to...   \n",
       "\n",
       "                                          10683.json  \\\n",
       "0  • \"63 percent of the American people chose not...   \n",
       "\n",
       "                                           7057.json  \\\n",
       "0  That would be speculation -- but that speculat...   \n",
       "\n",
       "                                           9727.json  \\\n",
       "0  \"The president's come out with rules that say ...   \n",
       "\n",
       "                                           1926.json  \\\n",
       "0  And in a July 2009 speech at the Council on Fo...   \n",
       "\n",
       "                                          11418.json  \\\n",
       "0  \"African-American youth unemployment is 51 per...   \n",
       "\n",
       "                                           3652.json  \\\n",
       "0  He took exactly none of his own deficit reduct...   \n",
       "\n",
       "                                           8187.json  ...  \\\n",
       "0  \"He’s the person who invented the scheme to re...  ...   \n",
       "\n",
       "                                           6411.json  \\\n",
       "0  \"As president, Barack Obama has never visited ...   \n",
       "\n",
       "                                            361.json  \\\n",
       "0  Asked during a Texas campaign event about the ...   \n",
       "\n",
       "                                          11576.json  \\\n",
       "0  We’re not sure Sanders made that entirely clea...   \n",
       "\n",
       "                                           3461.json  \\\n",
       "0  The $20 million designated for Cuba \"focuses o...   \n",
       "\n",
       "                                          10227.json  \\\n",
       "0  \"The United States is in the longest stretch o...   \n",
       "\n",
       "                                          11707.json  \\\n",
       "0  \"Secretary Clinton changes her position on thi...   \n",
       "\n",
       "                                           3425.json  \\\n",
       "0  Under the header \"New jobs created by the Stre...   \n",
       "\n",
       "                                           2977.json  \\\n",
       "0  They said low pay, increased work demands and ...   \n",
       "\n",
       "                                            294.json  \\\n",
       "0  • Comstock, an adviser and frequent spokeswoma...   \n",
       "\n",
       "                                           3580.json  \n",
       "0  \"House Republicans under Paul Ryan's leadershi...  \n",
       "\n",
       "[1 rows x 121 columns]"
      ]
     },
     "metadata": {},
     "output_type": "display_data"
    }
   ],
   "source": [
    "display(summarisationData)"
   ]
  },
  {
   "cell_type": "code",
   "execution_count": 28,
   "metadata": {},
   "outputs": [],
   "source": [
    "# Read Justification data from tsv into dataframe\n",
    "justificationData = pd.read_csv ('../data/Justification_Data/Justification_Data.tsv', sep='\\t')\n",
    "\n",
    "# Removed Unwanted Column\n",
    "del justificationData[\"Unnamed: 0\"]"
   ]
  },
  {
   "cell_type": "code",
   "execution_count": 29,
   "metadata": {},
   "outputs": [],
   "source": [
    "summarisationDataDict = {}\n",
    "\n",
    "for json_id in summarisationData.columns:\n",
    "    \n",
    "    features = {}\n",
    "    \n",
    "    justDataRow = justificationData.loc[justificationData['json_file_id'] == json_id]\n",
    "    \n",
    "    features[\"claim\"] = justDataRow[\"claim\"].values[0]\n",
    "    features[\"justification_label\"] = justDataRow[\"justification_label\"].values[0]\n",
    "    \n",
    "    summarisationDataDict[json_id] = features"
   ]
  },
  {
   "cell_type": "code",
   "execution_count": 39,
   "metadata": {
    "scrolled": true
   },
   "outputs": [
    {
     "data": {
      "text/plain": [
       "distortion    49\n",
       "unfounded     37\n",
       "emphasis      35\n",
       "Name: justification_label, dtype: int64"
      ]
     },
     "execution_count": 39,
     "metadata": {},
     "output_type": "execute_result"
    }
   ],
   "source": [
    "summarisationData = pd.DataFrame().from_dict(data=summarisationDataDict, orient=\"index\")\n",
    "\n",
    "summarisationData[\"justification_label\"].value_counts()"
   ]
  },
  {
   "cell_type": "code",
   "execution_count": 31,
   "metadata": {},
   "outputs": [],
   "source": [
    "import random\n",
    "from sklearn.model_selection import train_test_split"
   ]
  },
  {
   "cell_type": "code",
   "execution_count": 32,
   "metadata": {},
   "outputs": [],
   "source": [
    "justification_classes = {\"distortion\": 14, \"unfounded\": 2, \"emphasis\": 0}\n",
    "for just_class in justification_classes:\n",
    "    \n",
    "    summarisationDataIndices = list(summarisationData.index[summarisationData['justification_label'] == just_class])\n",
    "    \n",
    "    randIndexList = random.sample(summarisationDataIndices, justification_classes[just_class])\n",
    "    if randIndexList:\n",
    "        summarisationData.drop(randIndexList, inplace=True)"
   ]
  },
  {
   "cell_type": "code",
   "execution_count": 38,
   "metadata": {
    "scrolled": true
   },
   "outputs": [
    {
     "data": {
      "text/plain": [
       "distortion    35\n",
       "emphasis      35\n",
       "unfounded     35\n",
       "Name: justification_label, dtype: int64"
      ]
     },
     "execution_count": 38,
     "metadata": {},
     "output_type": "execute_result"
    }
   ],
   "source": [
    "summarisationData[\"justification_label\"].value_counts()"
   ]
  },
  {
   "cell_type": "code",
   "execution_count": 34,
   "metadata": {},
   "outputs": [],
   "source": [
    "tempData = summarisationData\n",
    "\n",
    "y = tempData[\"justification_label\"].to_frame()"
   ]
  },
  {
   "cell_type": "code",
   "execution_count": 36,
   "metadata": {},
   "outputs": [],
   "source": [
    "X_train, X_test, y_train, y_test = train_test_split(tempData, y,stratify=y, test_size=0.3)\n",
    "\n",
    "X_test, X_val, y_test, y_val = train_test_split(X_test, y_test, stratify=y_test, test_size=0.4)"
   ]
  },
  {
   "cell_type": "code",
   "execution_count": 37,
   "metadata": {},
   "outputs": [],
   "source": [
    "X_train.to_csv('../data/Train_Eval_Test_Data/train2.tsv', sep=\"\\t\")\n",
    "X_test.to_csv('../data/Train_Eval_Test_Data/test2.tsv', sep=\"\\t\")\n",
    "X_val.to_csv('../data/Train_Eval_Test_Data/val2.tsv', sep=\"\\t\")"
   ]
  }
 ],
 "metadata": {
  "kernelspec": {
   "display_name": "Python 3",
   "language": "python",
   "name": "python3"
  },
  "language_info": {
   "codemirror_mode": {
    "name": "ipython",
    "version": 3
   },
   "file_extension": ".py",
   "mimetype": "text/x-python",
   "name": "python",
   "nbconvert_exporter": "python",
   "pygments_lexer": "ipython3",
   "version": "3.8.10"
  }
 },
 "nbformat": 4,
 "nbformat_minor": 4
}
