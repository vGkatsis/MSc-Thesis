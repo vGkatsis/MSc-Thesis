{
 "cells": [
  {
   "cell_type": "code",
   "execution_count": 1,
   "metadata": {},
   "outputs": [],
   "source": [
    "import json\n",
    "import pandas as pd\n",
    "import numpy as np"
   ]
  },
  {
   "cell_type": "code",
   "execution_count": 2,
   "metadata": {},
   "outputs": [],
   "source": [
    "# Read DeClarE results from json file.\n",
    "declareResults = pd.read_json(\"../data/Model_Results/DeClarE_Results.json\", orient=\"index\")"
   ]
  },
  {
   "cell_type": "code",
   "execution_count": 4,
   "metadata": {},
   "outputs": [],
   "source": [
    "attentionDataDict = {}\n",
    "\n",
    "for index, row in declareResults.iterrows():\n",
    "    \n",
    "    features = {}\n",
    "        \n",
    "    features[\"attentionWeights\"] = row[\"attentionWeights\"]\n",
    "    features[\"veracity\"] = row[\"veracity\"]\n",
    "    \n",
    "    attentionDataDict[index] = features\n"
   ]
  },
  {
   "cell_type": "code",
   "execution_count": 7,
   "metadata": {},
   "outputs": [
    {
     "data": {
      "text/html": [
       "<div>\n",
       "<style scoped>\n",
       "    .dataframe tbody tr th:only-of-type {\n",
       "        vertical-align: middle;\n",
       "    }\n",
       "\n",
       "    .dataframe tbody tr th {\n",
       "        vertical-align: top;\n",
       "    }\n",
       "\n",
       "    .dataframe thead th {\n",
       "        text-align: right;\n",
       "    }\n",
       "</style>\n",
       "<table border=\"1\" class=\"dataframe\">\n",
       "  <thead>\n",
       "    <tr style=\"text-align: right;\">\n",
       "      <th></th>\n",
       "      <th>attentionWeights</th>\n",
       "      <th>veracity</th>\n",
       "    </tr>\n",
       "  </thead>\n",
       "  <tbody>\n",
       "    <tr>\n",
       "      <th>10000.json</th>\n",
       "      <td>[average, than, feet, population, least, july,...</td>\n",
       "      <td>True</td>\n",
       "    </tr>\n",
       "    <tr>\n",
       "      <th>10054.json</th>\n",
       "      <td>[ten, least, mexican, slipping]</td>\n",
       "      <td>False</td>\n",
       "    </tr>\n",
       "    <tr>\n",
       "      <th>10141.json</th>\n",
       "      <td>[percent, billion, income, tax, deficits, debt...</td>\n",
       "      <td>True</td>\n",
       "    </tr>\n",
       "    <tr>\n",
       "      <th>10142.json</th>\n",
       "      <td>[fell, rose, share, first, american, predicts,...</td>\n",
       "      <td>False</td>\n",
       "    </tr>\n",
       "    <tr>\n",
       "      <th>10200.json</th>\n",
       "      <td>[million, benchmark, rate, unemployment, wages...</td>\n",
       "      <td>True</td>\n",
       "    </tr>\n",
       "    <tr>\n",
       "      <th>...</th>\n",
       "      <td>...</td>\n",
       "      <td>...</td>\n",
       "    </tr>\n",
       "    <tr>\n",
       "      <th>9492.json</th>\n",
       "      <td>[figure, tax, more, irs, weekly, last, inaudib...</td>\n",
       "      <td>True</td>\n",
       "    </tr>\n",
       "    <tr>\n",
       "      <th>9547.json</th>\n",
       "      <td>[tax, wage, rate, percent, billion, dollar, mi...</td>\n",
       "      <td>False</td>\n",
       "    </tr>\n",
       "    <tr>\n",
       "      <th>9652.json</th>\n",
       "      <td>[thirds, than, million, premiums, average, pri...</td>\n",
       "      <td>True</td>\n",
       "    </tr>\n",
       "    <tr>\n",
       "      <th>9727.json</th>\n",
       "      <td>[deficits, budget, share, jobs, than, rated, b...</td>\n",
       "      <td>False</td>\n",
       "    </tr>\n",
       "    <tr>\n",
       "      <th>9876.json</th>\n",
       "      <td>[rate, costs, profits, jumped, previous, highe...</td>\n",
       "      <td>False</td>\n",
       "    </tr>\n",
       "  </tbody>\n",
       "</table>\n",
       "<p>122 rows × 2 columns</p>\n",
       "</div>"
      ],
      "text/plain": [
       "                                             attentionWeights  veracity\n",
       "10000.json  [average, than, feet, population, least, july,...      True\n",
       "10054.json                    [ten, least, mexican, slipping]     False\n",
       "10141.json  [percent, billion, income, tax, deficits, debt...      True\n",
       "10142.json  [fell, rose, share, first, american, predicts,...     False\n",
       "10200.json  [million, benchmark, rate, unemployment, wages...      True\n",
       "...                                                       ...       ...\n",
       "9492.json   [figure, tax, more, irs, weekly, last, inaudib...      True\n",
       "9547.json   [tax, wage, rate, percent, billion, dollar, mi...     False\n",
       "9652.json   [thirds, than, million, premiums, average, pri...      True\n",
       "9727.json   [deficits, budget, share, jobs, than, rated, b...     False\n",
       "9876.json   [rate, costs, profits, jumped, previous, highe...     False\n",
       "\n",
       "[122 rows x 2 columns]"
      ]
     },
     "metadata": {},
     "output_type": "display_data"
    }
   ],
   "source": [
    "attentionData = pd.DataFrame().from_dict(data = attentionDataDict, orient=\"index\")\n",
    "\n",
    "display(attentionData)"
   ]
  },
  {
   "cell_type": "code",
   "execution_count": 8,
   "metadata": {},
   "outputs": [],
   "source": [
    "x_trainDf = pd.read_csv ('../data/Train_Eval_Test_Data/train.tsv', sep='\\t')\n",
    "x_trainDf.columns = [\"json_id\", \"claim\", \"justification_label\"]\n",
    "\n",
    "x_testDf = pd.read_csv ('../data/Train_Eval_Test_Data/test.tsv', sep='\\t')\n",
    "x_testDf.columns = [\"json_id\", \"claim\", \"justification_label\"]\n",
    "\n",
    "x_valDf = pd.read_csv ('../data/Train_Eval_Test_Data/val.tsv', sep='\\t')\n",
    "x_valDf.columns = [\"json_id\", \"claim\", \"justification_label\"]"
   ]
  },
  {
   "cell_type": "code",
   "execution_count": 9,
   "metadata": {},
   "outputs": [],
   "source": [
    "x_trainDf[\"attentionWeights\"] = \"\"\n",
    "x_testDf[\"attentionWeights\"]  = \"\"\n",
    "x_valDf[\"attentionWeights\"]   = \"\""
   ]
  },
  {
   "cell_type": "code",
   "execution_count": 11,
   "metadata": {},
   "outputs": [],
   "source": [
    "def addAttentionWeights(data, attention):\n",
    "\n",
    "    for index, row in data.iterrows():\n",
    "        if row[\"json_id\"] in list(attentionData.index.values):\n",
    "            row[\"attentionWeights\"] = attention.loc[row[\"json_id\"]][\"attentionWeights\"]"
   ]
  },
  {
   "cell_type": "code",
   "execution_count": 12,
   "metadata": {},
   "outputs": [],
   "source": [
    "addAttentionWeights(x_trainDf, attentionData)\n",
    "addAttentionWeights(x_testDf, attentionData)\n",
    "addAttentionWeights(x_valDf, attentionData)"
   ]
  },
  {
   "cell_type": "code",
   "execution_count": 13,
   "metadata": {},
   "outputs": [],
   "source": [
    "y_trainDf = pd.DataFrame(data=x_trainDf[\"justification_label\"])\n",
    "y_testDf  = pd.DataFrame(data=x_testDf[\"justification_label\"])\n",
    "y_valDf   = pd.DataFrame(data=x_valDf[\"justification_label\"])\n",
    "# Create list containing claims + attention explanations\n",
    "\n",
    "trainClaimAtt  = []\n",
    "yTrainLabels   = y_trainDf['justification_label'].tolist()\n",
    "\n",
    "testClaimAtt   = []\n",
    "yTestLabels    = y_testDf['justification_label'].tolist()\n",
    "\n",
    "evalClaimAtt   = []\n",
    "yEvalLabels    = y_valDf['justification_label'].tolist()\n",
    "\n",
    "for index, row in x_trainDf.iterrows():\n",
    "    trainClaimAtt.append(row['claim'] + ' '.join(row['attentionWeights']))\n",
    "\n",
    "for index, row in x_testDf.iterrows():\n",
    "    testClaimAtt.append(row['claim'] + ' '.join(row['attentionWeights']))\n",
    "\n",
    "for index, row in x_valDf.iterrows():\n",
    "    evalClaimAtt.append(row['claim'] + ' '.join(row['attentionWeights']))\n",
    "    \n",
    "totalClaimAtt = trainClaimAtt + testClaimAtt + evalClaimAtt\n",
    "yTotalLabels = np.array(yTrainLabels + yTestLabels + yEvalLabels)"
   ]
  },
  {
   "cell_type": "code",
   "execution_count": 14,
   "metadata": {},
   "outputs": [],
   "source": [
    "import nltk\n",
    "from sklearn.feature_extraction.text import CountVectorizer\n",
    "from sklearn.feature_extraction.text import TfidfTransformer\n",
    "from sklearn.metrics import confusion_matrix\n",
    "from sklearn.metrics import ConfusionMatrixDisplay\n",
    "from sklearn.metrics import classification_report, accuracy_score"
   ]
  },
  {
   "cell_type": "code",
   "execution_count": 15,
   "metadata": {},
   "outputs": [],
   "source": [
    "# Convert words to number using Bag of Words (Bow)\n",
    "vectorizer = CountVectorizer(max_features=30, min_df=5, max_df=0.7)\n",
    "vectorizedTrain = vectorizer.fit_transform(trainClaimAtt).toarray()\n",
    "vectorizedTest  = vectorizer.fit_transform(testClaimAtt).toarray()\n",
    "vectorizedEval  = vectorizer.fit_transform(evalClaimAtt).toarray()\n",
    "vectorizedTotal = vectorizer.fit_transform(totalClaimAtt).toarray()\n",
    "\n",
    "# Convert Bow values according to TfIdf\n",
    "tfidfconverter = TfidfTransformer()\n",
    "XTrain = tfidfconverter.fit_transform(vectorizedTrain).toarray()\n",
    "XTest  = tfidfconverter.fit_transform(vectorizedTest).toarray()\n",
    "XEval  = tfidfconverter.fit_transform(vectorizedEval).toarray()\n",
    "XTotal = tfidfconverter.fit_transform(vectorizedTotal).toarray()"
   ]
  },
  {
   "cell_type": "code",
   "execution_count": 16,
   "metadata": {},
   "outputs": [
    {
     "name": "stdout",
     "output_type": "stream",
     "text": [
      "              precision    recall  f1-score   support\n",
      "\n",
      "  distortion       0.25      0.25      0.25         8\n",
      "    emphasis       0.14      0.11      0.12         9\n",
      "   unfounded       0.50      0.62      0.56         8\n",
      "\n",
      "    accuracy                           0.32        25\n",
      "   macro avg       0.30      0.33      0.31        25\n",
      "weighted avg       0.29      0.32      0.30        25\n",
      "\n",
      "0.32\n"
     ]
    },
    {
     "data": {
      "image/png": "[encoded data removed]",
      "text/plain": [
       "<Figure size 432x288 with 2 Axes>"
      ]
     },
     "metadata": {
      "needs_background": "light"
     },
     "output_type": "display_data"
    }
   ],
   "source": [
    "from sklearn.dummy import DummyClassifier\n",
    "\n",
    "# Dummy Classifier With Method Stratified\n",
    "dummy_clf = DummyClassifier(strategy=\"stratified\")\n",
    "dummy_clf.fit(XTrain, yTrainLabels)\n",
    "\n",
    "yPredLabels = dummy_clf.predict(XTest)\n",
    "\n",
    "# Evaluate Results\n",
    "ConfusionMatrixDisplay.from_predictions(yTestLabels, yPredLabels, cmap='Reds')\n",
    "print(classification_report(yTestLabels,yPredLabels))\n",
    "print(accuracy_score(yTestLabels,yPredLabels))"
   ]
  },
  {
   "cell_type": "code",
   "execution_count": 17,
   "metadata": {},
   "outputs": [
    {
     "name": "stdout",
     "output_type": "stream",
     "text": [
      "              precision    recall  f1-score   support\n",
      "\n",
      "  distortion       0.17      0.12      0.14         8\n",
      "    emphasis       0.36      0.44      0.40         9\n",
      "   unfounded       0.12      0.12      0.12         8\n",
      "\n",
      "    accuracy                           0.24        25\n",
      "   macro avg       0.22      0.23      0.22        25\n",
      "weighted avg       0.22      0.24      0.23        25\n",
      "\n",
      "0.24\n"
     ]
    },
    {
     "data": {
      "image/png": "[encoded data removed]",
      "text/plain": [
       "<Figure size 432x288 with 2 Axes>"
      ]
     },
     "metadata": {
      "needs_background": "light"
     },
     "output_type": "display_data"
    }
   ],
   "source": [
    "from sklearn.ensemble import RandomForestClassifier\n",
    "\n",
    "# Random Forest Classification Method\n",
    "randForestClas = RandomForestClassifier(n_estimators=1000, random_state=0)\n",
    "randForestClas.fit(XTrain,yTrainLabels)\n",
    "\n",
    "yPredLabels = randForestClas.predict(XTest)\n",
    "\n",
    "ConfusionMatrixDisplay.from_predictions(yTestLabels, yPredLabels, cmap='Reds')\n",
    "print(classification_report(yTestLabels,yPredLabels))\n",
    "print(accuracy_score(yTestLabels,yPredLabels))"
   ]
  },
  {
   "cell_type": "code",
   "execution_count": 18,
   "metadata": {},
   "outputs": [
    {
     "name": "stdout",
     "output_type": "stream",
     "text": [
      "              precision    recall  f1-score   support\n",
      "\n",
      "  distortion       0.42      0.62      0.50         8\n",
      "    emphasis       0.14      0.11      0.12         9\n",
      "   unfounded       0.00      0.00      0.00         8\n",
      "\n",
      "    accuracy                           0.24        25\n",
      "   macro avg       0.19      0.25      0.21        25\n",
      "weighted avg       0.18      0.24      0.20        25\n",
      "\n",
      "0.24\n"
     ]
    },
    {
     "data": {
      "image/png": "[encoded data removed]",
      "text/plain": [
       "<Figure size 432x288 with 2 Axes>"
      ]
     },
     "metadata": {
      "needs_background": "light"
     },
     "output_type": "display_data"
    }
   ],
   "source": [
    "from sklearn.neighbors import KNeighborsClassifier\n",
    "\n",
    "# K-Neighbors Classifier\n",
    "kNeighborsClas = KNeighborsClassifier(n_neighbors=3)\n",
    "kNeighborsClas.fit(XTrain,yTrainLabels)\n",
    "\n",
    "yPredLabels = kNeighborsClas.predict(XTest)\n",
    "\n",
    "# Evaluate Results\n",
    "ConfusionMatrixDisplay.from_predictions(yTestLabels, yPredLabels, cmap='Reds')\n",
    "print(classification_report(yTestLabels,yPredLabels))\n",
    "print(accuracy_score(yTestLabels,yPredLabels))"
   ]
  },
  {
   "cell_type": "code",
   "execution_count": 19,
   "metadata": {},
   "outputs": [
    {
     "name": "stdout",
     "output_type": "stream",
     "text": [
      "              precision    recall  f1-score   support\n",
      "\n",
      "  distortion       0.40      0.50      0.44         8\n",
      "    emphasis       0.43      0.33      0.38         9\n",
      "   unfounded       0.25      0.25      0.25         8\n",
      "\n",
      "    accuracy                           0.36        25\n",
      "   macro avg       0.36      0.36      0.36        25\n",
      "weighted avg       0.36      0.36      0.36        25\n",
      "\n",
      "0.36\n"
     ]
    },
    {
     "data": {
      "image/png": "[encoded data removed]",
      "text/plain": [
       "<Figure size 432x288 with 2 Axes>"
      ]
     },
     "metadata": {
      "needs_background": "light"
     },
     "output_type": "display_data"
    }
   ],
   "source": [
    "from sklearn.svm import SVC\n",
    "\n",
    "# SVM Classifier\n",
    "svmClas = SVC()\n",
    "svmClas.fit(XTrain,yTrainLabels)\n",
    "\n",
    "yPredLabels = svmClas.predict(XTest)\n",
    "\n",
    "# Evaluate Results\n",
    "ConfusionMatrixDisplay.from_predictions(yTestLabels, yPredLabels, cmap='Reds')\n",
    "print(classification_report(yTestLabels,yPredLabels))\n",
    "print(accuracy_score(yTestLabels,yPredLabels))"
   ]
  },
  {
   "cell_type": "code",
   "execution_count": 20,
   "metadata": {},
   "outputs": [
    {
     "name": "stdout",
     "output_type": "stream",
     "text": [
      "              precision    recall  f1-score   support\n",
      "\n",
      "  distortion       0.45      0.62      0.53         8\n",
      "    emphasis       0.50      0.33      0.40         9\n",
      "   unfounded       0.25      0.25      0.25         8\n",
      "\n",
      "    accuracy                           0.40        25\n",
      "   macro avg       0.40      0.40      0.39        25\n",
      "weighted avg       0.41      0.40      0.39        25\n",
      "\n",
      "0.4\n"
     ]
    },
    {
     "data": {
      "image/png": "[encoded data removed]",
      "text/plain": [
       "<Figure size 432x288 with 2 Axes>"
      ]
     },
     "metadata": {
      "needs_background": "light"
     },
     "output_type": "display_data"
    }
   ],
   "source": [
    "from sklearn.gaussian_process import GaussianProcessClassifier\n",
    "\n",
    "# Gaussian Process Classifier\n",
    "gaussianProcClas = GaussianProcessClassifier()\n",
    "gaussianProcClas.fit(XTrain,yTrainLabels)\n",
    "\n",
    "yPredLabels = gaussianProcClas.predict(XTest)\n",
    "\n",
    "# Evaluate Results\n",
    "ConfusionMatrixDisplay.from_predictions(yTestLabels, yPredLabels, cmap='Reds')\n",
    "print(classification_report(yTestLabels,yPredLabels))\n",
    "print(accuracy_score(yTestLabels,yPredLabels))"
   ]
  },
  {
   "cell_type": "code",
   "execution_count": 21,
   "metadata": {},
   "outputs": [
    {
     "name": "stdout",
     "output_type": "stream",
     "text": [
      "              precision    recall  f1-score   support\n",
      "\n",
      "  distortion       0.29      0.25      0.27         8\n",
      "    emphasis       0.40      0.44      0.42         9\n",
      "   unfounded       0.38      0.38      0.38         8\n",
      "\n",
      "    accuracy                           0.36        25\n",
      "   macro avg       0.35      0.36      0.35        25\n",
      "weighted avg       0.36      0.36      0.36        25\n",
      "\n",
      "0.36\n"
     ]
    },
    {
     "data": {
      "image/png": "[encoded data removed]",
      "text/plain": [
       "<Figure size 432x288 with 2 Axes>"
      ]
     },
     "metadata": {
      "needs_background": "light"
     },
     "output_type": "display_data"
    }
   ],
   "source": [
    "from sklearn.tree import DecisionTreeClassifier\n",
    "\n",
    "# Decision Tree Classifier\n",
    "decisionTreeClas = DecisionTreeClassifier()\n",
    "decisionTreeClas.fit(XTrain,yTrainLabels)\n",
    "\n",
    "yPredLabels = decisionTreeClas.predict(XTest)\n",
    "\n",
    "# Evaluate Results\n",
    "ConfusionMatrixDisplay.from_predictions(yTestLabels, yPredLabels, cmap='Reds')\n",
    "print(classification_report(yTestLabels,yPredLabels))\n",
    "print(accuracy_score(yTestLabels,yPredLabels))"
   ]
  },
  {
   "cell_type": "code",
   "execution_count": 22,
   "metadata": {},
   "outputs": [
    {
     "name": "stdout",
     "output_type": "stream",
     "text": [
      "              precision    recall  f1-score   support\n",
      "\n",
      "  distortion       0.00      0.00      0.00         8\n",
      "    emphasis       0.50      0.33      0.40         9\n",
      "   unfounded       0.27      0.50      0.35         8\n",
      "\n",
      "    accuracy                           0.28        25\n",
      "   macro avg       0.26      0.28      0.25        25\n",
      "weighted avg       0.27      0.28      0.26        25\n",
      "\n",
      "0.28\n"
     ]
    },
    {
     "data": {
      "image/png": "[encoded data removed]",
      "text/plain": [
       "<Figure size 432x288 with 2 Axes>"
      ]
     },
     "metadata": {
      "needs_background": "light"
     },
     "output_type": "display_data"
    }
   ],
   "source": [
    "from sklearn.ensemble import AdaBoostClassifier\n",
    "\n",
    "# Ada Boost Classifier\n",
    "adaBoostClas = AdaBoostClassifier()\n",
    "adaBoostClas.fit(XTrain,yTrainLabels)\n",
    "\n",
    "yPredLabels = adaBoostClas.predict(XTest)\n",
    "\n",
    "# Evaluate Results\n",
    "ConfusionMatrixDisplay.from_predictions(yTestLabels, yPredLabels, cmap='Reds')\n",
    "print(classification_report(yTestLabels,yPredLabels))\n",
    "print(accuracy_score(yTestLabels,yPredLabels))"
   ]
  },
  {
   "cell_type": "code",
   "execution_count": 23,
   "metadata": {},
   "outputs": [
    {
     "name": "stdout",
     "output_type": "stream",
     "text": [
      "              precision    recall  f1-score   support\n",
      "\n",
      "  distortion       0.44      0.50      0.47         8\n",
      "    emphasis       0.50      0.33      0.40         9\n",
      "   unfounded       0.40      0.50      0.44         8\n",
      "\n",
      "    accuracy                           0.44        25\n",
      "   macro avg       0.45      0.44      0.44        25\n",
      "weighted avg       0.45      0.44      0.44        25\n",
      "\n",
      "0.44\n"
     ]
    },
    {
     "data": {
      "image/png": "[encoded data removed]",
      "text/plain": [
       "<Figure size 432x288 with 2 Axes>"
      ]
     },
     "metadata": {
      "needs_background": "light"
     },
     "output_type": "display_data"
    }
   ],
   "source": [
    "from sklearn.naive_bayes import GaussianNB\n",
    "\n",
    "# Naive Bayes Classifier\n",
    "gaussianNBClas = GaussianNB()\n",
    "gaussianNBClas.fit(XTrain,yTrainLabels)\n",
    "\n",
    "yPredLabels = gaussianNBClas.predict(XTest)\n",
    "\n",
    "# Evaluate Results\n",
    "ConfusionMatrixDisplay.from_predictions(yTestLabels, yPredLabels, cmap='Reds', normalize=\"pred\")\n",
    "print(classification_report(yTestLabels,yPredLabels))\n",
    "print(accuracy_score(yTestLabels,yPredLabels))"
   ]
  }
 ],
 "metadata": {
  "kernelspec": {
   "display_name": "Python 3",
   "language": "python",
   "name": "python3"
  },
  "language_info": {
   "codemirror_mode": {
    "name": "ipython",
    "version": 3
   },
   "file_extension": ".py",
   "mimetype": "text/x-python",
   "name": "python",
   "nbconvert_exporter": "python",
   "pygments_lexer": "ipython3",
   "version": "3.8.10"
  }
 },
 "nbformat": 4,
 "nbformat_minor": 4
}
