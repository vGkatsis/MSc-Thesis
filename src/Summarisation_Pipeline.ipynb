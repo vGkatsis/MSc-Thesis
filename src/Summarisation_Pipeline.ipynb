{
 "cells": [
  {
   "cell_type": "code",
   "execution_count": 169,
   "metadata": {},
   "outputs": [],
   "source": [
    "import json\n",
    "import pandas as pd\n",
    "import numpy as np\n",
    "from nltk.stem import SnowballStemmer"
   ]
  },
  {
   "cell_type": "code",
   "execution_count": 446,
   "metadata": {},
   "outputs": [],
   "source": [
    "# Read Summarisation Model results from json file.\n",
    "\n",
    "with open(\"../data/Model_Results/summarisation_results.jsonl\", 'r') as json_file:\n",
    "    json_list = list(json_file)\n",
    "\n",
    "    \n",
    "summarisationResults = {}\n",
    "for json_str in json_list:\n",
    "    \n",
    "    result = json.loads(json_str)\n",
    "    summaryList = sorted(result[\"sentence_scores\"], key=lambda x:x[1], reverse=True)[:4]\n",
    "    summary = \"\"\n",
    "    for sentence in summaryList:\n",
    "        summary += sentence[0] + ' '\n",
    "    \n",
    "    summarisationResults[result[\"id\"]] = summary"
   ]
  },
  {
   "cell_type": "code",
   "execution_count": 447,
   "metadata": {},
   "outputs": [],
   "source": [
    "summarisationData = pd.DataFrame(data=summarisationResults, index=[0])"
   ]
  },
  {
   "cell_type": "code",
   "execution_count": 448,
   "metadata": {},
   "outputs": [],
   "source": [
    "summarisationDataDict = {}\n",
    "\n",
    "for json_id in summarisationData.columns:\n",
    "    \n",
    "    features = {}\n",
    "    \n",
    "    features[\"summary\"] = summarisationData[json_id].values[0]\n",
    "    \n",
    "    summarisationDataDict[json_id] = features"
   ]
  },
  {
   "cell_type": "code",
   "execution_count": 449,
   "metadata": {
    "scrolled": true
   },
   "outputs": [
    {
     "data": {
      "text/html": [
       "<div>\n",
       "<style scoped>\n",
       "    .dataframe tbody tr th:only-of-type {\n",
       "        vertical-align: middle;\n",
       "    }\n",
       "\n",
       "    .dataframe tbody tr th {\n",
       "        vertical-align: top;\n",
       "    }\n",
       "\n",
       "    .dataframe thead th {\n",
       "        text-align: right;\n",
       "    }\n",
       "</style>\n",
       "<table border=\"1\" class=\"dataframe\">\n",
       "  <thead>\n",
       "    <tr style=\"text-align: right;\">\n",
       "      <th></th>\n",
       "      <th>11972.json</th>\n",
       "      <th>11685.json</th>\n",
       "      <th>11096.json</th>\n",
       "      <th>5209.json</th>\n",
       "      <th>9524.json</th>\n",
       "      <th>5962.json</th>\n",
       "      <th>7070.json</th>\n",
       "      <th>1046.json</th>\n",
       "      <th>12849.json</th>\n",
       "      <th>13270.json</th>\n",
       "      <th>...</th>\n",
       "      <th>11576.json</th>\n",
       "      <th>3461.json</th>\n",
       "      <th>9464.json</th>\n",
       "      <th>10227.json</th>\n",
       "      <th>11707.json</th>\n",
       "      <th>3425.json</th>\n",
       "      <th>2977.json</th>\n",
       "      <th>294.json</th>\n",
       "      <th>3580.json</th>\n",
       "      <th>8384.json</th>\n",
       "    </tr>\n",
       "  </thead>\n",
       "  <tbody>\n",
       "    <tr>\n",
       "      <th>summary</th>\n",
       "      <td>\"Building a wall\" on the border \"will take lit...</td>\n",
       "      <td>Those numbers show that as of October 2015, th...</td>\n",
       "      <td>If he did, he would have known that Senator Mc...</td>\n",
       "      <td>\"…She supports taking $500 billion away from M...</td>\n",
       "      <td>Scott Walker helped run a \"criminal scheme\" to...</td>\n",
       "      <td>The campaign accurately quoted a figure whose ...</td>\n",
       "      <td>So $30-31 million per year would, in fact, be ...</td>\n",
       "      <td>The Obama administration has emphasized many o...</td>\n",
       "      <td>\"It matters who’s leading the country, and it ...</td>\n",
       "      <td>Pence described the donors as major. \"The nati...</td>\n",
       "      <td>...</td>\n",
       "      <td>We’re not sure Sanders made that entirely clea...</td>\n",
       "      <td>The $20 million designated for Cuba \"focuses o...</td>\n",
       "      <td>There also are no Asian or Pacific Islander Re...</td>\n",
       "      <td>\"The United States is in the longest stretch o...</td>\n",
       "      <td>\"Secretary Clinton changes her position on thi...</td>\n",
       "      <td>Under the header \"New jobs created by the Stre...</td>\n",
       "      <td>They said low pay, increased work demands and ...</td>\n",
       "      <td>• Comstock, an adviser and frequent spokeswoma...</td>\n",
       "      <td>\"House Republicans under Paul Ryan's leadershi...</td>\n",
       "      <td>\"I will work in a bipartisan way to get it don...</td>\n",
       "    </tr>\n",
       "  </tbody>\n",
       "</table>\n",
       "<p>1 rows × 1400 columns</p>\n",
       "</div>"
      ],
      "text/plain": [
       "                                                11972.json  \\\n",
       "summary  \"Building a wall\" on the border \"will take lit...   \n",
       "\n",
       "                                                11685.json  \\\n",
       "summary  Those numbers show that as of October 2015, th...   \n",
       "\n",
       "                                                11096.json  \\\n",
       "summary  If he did, he would have known that Senator Mc...   \n",
       "\n",
       "                                                 5209.json  \\\n",
       "summary  \"…She supports taking $500 billion away from M...   \n",
       "\n",
       "                                                 9524.json  \\\n",
       "summary  Scott Walker helped run a \"criminal scheme\" to...   \n",
       "\n",
       "                                                 5962.json  \\\n",
       "summary  The campaign accurately quoted a figure whose ...   \n",
       "\n",
       "                                                 7070.json  \\\n",
       "summary  So $30-31 million per year would, in fact, be ...   \n",
       "\n",
       "                                                 1046.json  \\\n",
       "summary  The Obama administration has emphasized many o...   \n",
       "\n",
       "                                                12849.json  \\\n",
       "summary  \"It matters who’s leading the country, and it ...   \n",
       "\n",
       "                                                13270.json  ...  \\\n",
       "summary  Pence described the donors as major. \"The nati...  ...   \n",
       "\n",
       "                                                11576.json  \\\n",
       "summary  We’re not sure Sanders made that entirely clea...   \n",
       "\n",
       "                                                 3461.json  \\\n",
       "summary  The $20 million designated for Cuba \"focuses o...   \n",
       "\n",
       "                                                 9464.json  \\\n",
       "summary  There also are no Asian or Pacific Islander Re...   \n",
       "\n",
       "                                                10227.json  \\\n",
       "summary  \"The United States is in the longest stretch o...   \n",
       "\n",
       "                                                11707.json  \\\n",
       "summary  \"Secretary Clinton changes her position on thi...   \n",
       "\n",
       "                                                 3425.json  \\\n",
       "summary  Under the header \"New jobs created by the Stre...   \n",
       "\n",
       "                                                 2977.json  \\\n",
       "summary  They said low pay, increased work demands and ...   \n",
       "\n",
       "                                                  294.json  \\\n",
       "summary  • Comstock, an adviser and frequent spokeswoma...   \n",
       "\n",
       "                                                 3580.json  \\\n",
       "summary  \"House Republicans under Paul Ryan's leadershi...   \n",
       "\n",
       "                                                 8384.json  \n",
       "summary  \"I will work in a bipartisan way to get it don...  \n",
       "\n",
       "[1 rows x 1400 columns]"
      ]
     },
     "metadata": {},
     "output_type": "display_data"
    }
   ],
   "source": [
    "summarisationData = pd.DataFrame().from_dict(data=summarisationDataDict)\n",
    "\n",
    "display(summarisationData)"
   ]
  },
  {
   "cell_type": "code",
   "execution_count": 451,
   "metadata": {},
   "outputs": [],
   "source": [
    "x_trainDf = pd.read_csv ('../data/Train_Eval_Test_Data/train.tsv', sep='\\t')\n",
    "x_trainDf.columns = [\"json_id\", \"claim\", \"justification_label\"]\n",
    "\n",
    "x_testDf = pd.read_csv ('../data/Train_Eval_Test_Data/test.tsv', sep='\\t')\n",
    "x_testDf.columns = [\"json_id\", \"claim\", \"justification_label\"]\n",
    "\n",
    "x_valDf = pd.read_csv ('../data/Train_Eval_Test_Data/val.tsv', sep='\\t')\n",
    "x_valDf.columns = [\"json_id\", \"claim\", \"justification_label\"]"
   ]
  },
  {
   "cell_type": "code",
   "execution_count": 452,
   "metadata": {},
   "outputs": [],
   "source": [
    "x_trainDf[\"summary\"] = \"\"\n",
    "x_testDf[\"summary\"]  = \"\"\n",
    "x_valDf[\"summary\"]   = \"\""
   ]
  },
  {
   "cell_type": "code",
   "execution_count": 453,
   "metadata": {},
   "outputs": [],
   "source": [
    "def addSummary(data, summaries):\n",
    "    \n",
    "    for index, row in data.iterrows():\n",
    "        if row[\"json_id\"] in summaries.columns:\n",
    "            row[\"summary\"] = summaries[row[\"json_id\"]].values[0]"
   ]
  },
  {
   "cell_type": "code",
   "execution_count": 454,
   "metadata": {},
   "outputs": [],
   "source": [
    "addSummary(x_trainDf, summarisationData)\n",
    "addSummary(x_testDf, summarisationData)\n",
    "addSummary(x_valDf, summarisationData)"
   ]
  },
  {
   "cell_type": "code",
   "execution_count": 455,
   "metadata": {},
   "outputs": [],
   "source": [
    "y_trainDf = pd.DataFrame(data=x_trainDf[\"justification_label\"])\n",
    "y_testDf  = pd.DataFrame(data=x_testDf[\"justification_label\"])\n",
    "y_valDf   = pd.DataFrame(data=x_valDf[\"justification_label\"])"
   ]
  },
  {
   "cell_type": "code",
   "execution_count": 456,
   "metadata": {},
   "outputs": [],
   "source": [
    "def cleanAndStemm(sentence):\n",
    "    \n",
    "    sb = SnowballStemmer(\"english\")\n",
    "    \n",
    "    sentenceList = []\n",
    "    for token in sentence.split(' '):\n",
    "        \n",
    "        token = token.lower()\n",
    "        token = sb.stem(token)\n",
    "        \n",
    "        sentenceList.append(token)\n",
    "        \n",
    "    newSentence = ' '.join(sentenceList)\n",
    "    return newSentence"
   ]
  },
  {
   "cell_type": "code",
   "execution_count": 457,
   "metadata": {},
   "outputs": [],
   "source": [
    "# Create list containing claims + attention explanations\n",
    "\n",
    "trainClaimSumm  = []\n",
    "yTrainLabels   = y_trainDf['justification_label'].tolist()\n",
    "\n",
    "testClaimSumm   = []\n",
    "yTestLabels    = y_testDf['justification_label'].tolist()\n",
    "\n",
    "evalClaimSumm   = []\n",
    "yEvalLabels    = y_valDf['justification_label'].tolist()\n",
    "\n",
    "for index, row in x_trainDf.iterrows():\n",
    "    trainClaimSumm.append(cleanAndStemm(row['claim']) + cleanAndStemm(row['summary']))\n",
    "\n",
    "for index, row in x_testDf.iterrows():\n",
    "    testClaimSumm.append(cleanAndStemm(row['claim']) + cleanAndStemm(row['summary']))\n",
    "\n",
    "for index, row in x_valDf.iterrows():\n",
    "    evalClaimSumm.append(cleanAndStemm(row['claim']) + cleanAndStemm(row['summary']))\n",
    "    \n",
    "totalClaimSumm = trainClaimSumm + testClaimSumm + evalClaimSumm\n",
    "yTotalLabels = np.array(yTrainLabels + yTestLabels + yEvalLabels)"
   ]
  },
  {
   "cell_type": "code",
   "execution_count": 458,
   "metadata": {},
   "outputs": [],
   "source": [
    "import nltk\n",
    "import gensim\n",
    "from gensim.models import Word2Vec\n",
    "from sklearn.feature_extraction.text import CountVectorizer\n",
    "from sklearn.feature_extraction.text import TfidfTransformer\n",
    "from sklearn.metrics import confusion_matrix\n",
    "from sklearn.metrics import ConfusionMatrixDisplay\n",
    "from sklearn.metrics import classification_report, accuracy_score"
   ]
  },
  {
   "cell_type": "code",
   "execution_count": 459,
   "metadata": {},
   "outputs": [],
   "source": [
    "# Convert words to number using Bag of Words (Bow)\n",
    "vectorizer = CountVectorizer(max_features=30)\n",
    "vectorizedTrain = vectorizer.fit_transform(trainClaimSumm).toarray()\n",
    "vectorizedTest  = vectorizer.fit_transform(testClaimSumm).toarray()\n",
    "vectorizedEval  = vectorizer.fit_transform(evalClaimSumm).toarray()\n",
    "vectorizedTotal = vectorizer.fit_transform(totalClaimSumm).toarray()\n",
    "\n",
    "# Convert Bow values according to TfIdf\n",
    "tfidfconverter = TfidfTransformer()\n",
    "XTrain = tfidfconverter.fit_transform(vectorizedTrain).toarray()\n",
    "XTest  = tfidfconverter.fit_transform(vectorizedTest).toarray()\n",
    "XEval  = tfidfconverter.fit_transform(vectorizedEval).toarray()\n",
    "XTotal = tfidfconverter.fit_transform(vectorizedTotal).toarray()"
   ]
  },
  {
   "cell_type": "code",
   "execution_count": 460,
   "metadata": {},
   "outputs": [],
   "source": [
    "# Transform the data into a list of lists for the Word2Vec model\n",
    "\n",
    "w2vTrainClaimSum = []\n",
    "w2vTestClaimSum  = []\n",
    "w2vEvalClaimSum  = []\n",
    "\n",
    "for index, row in x_trainDf.iterrows():\n",
    "    w2vTrainClaimSum.append((row['claim'] + row['summary']).split(\" \"))\n",
    "\n",
    "for index, row in x_testDf.iterrows():\n",
    "    w2vTestClaimSum.append((row['claim'] + row['summary']).split(\" \"))\n",
    "\n",
    "for index, row in x_valDf.iterrows():\n",
    "    w2vEvalClaimSum.append((row['claim'] + row['summary']).split(\" \"))\n"
   ]
  },
  {
   "cell_type": "code",
   "execution_count": 461,
   "metadata": {},
   "outputs": [
    {
     "name": "stderr",
     "output_type": "stream",
     "text": [
      "<ipython-input-461-f86b847b1e84>:8: VisibleDeprecationWarning: Creating an ndarray from ragged nested sequences (which is a list-or-tuple of lists-or-tuples-or ndarrays with different lengths or shapes) is deprecated. If you meant to do this, you must specify 'dtype=object' when creating the ndarray.\n",
      "  X_train_vect = np.array([np.array([model.wv[i] for i in ls if i in words])\n",
      "<ipython-input-461-f86b847b1e84>:10: VisibleDeprecationWarning: Creating an ndarray from ragged nested sequences (which is a list-or-tuple of lists-or-tuples-or ndarrays with different lengths or shapes) is deprecated. If you meant to do this, you must specify 'dtype=object' when creating the ndarray.\n",
      "  X_test_vect = np.array([np.array([model.wv[i] for i in ls if i in words])\n"
     ]
    }
   ],
   "source": [
    "# Vectorize using Word2Vec\n",
    "\n",
    "# min_count = 3 & size = 40 & window=8 & sg=1 \n",
    "\n",
    "model = Word2Vec(sentences=w2vTrainClaimSum, min_count=3,size=40,workers=4, window=8, sg=1)\n",
    "\n",
    "words = set(model.wv.index2word)\n",
    "X_train_vect = np.array([np.array([model.wv[i] for i in ls if i in words])\n",
    "                         for ls in w2vTrainClaimSum])\n",
    "X_test_vect = np.array([np.array([model.wv[i] for i in ls if i in words])\n",
    "                         for ls in w2vTestClaimSum])\n",
    "\n",
    "X_train_vect_avg = []\n",
    "for v in X_train_vect:\n",
    "    if v.size:\n",
    "        X_train_vect_avg.append(v.mean(axis=0))\n",
    "    else:\n",
    "        X_train_vect_avg.append(np.zeros(100, dtype=float))\n",
    "        \n",
    "X_test_vect_avg = []\n",
    "for v in X_test_vect:\n",
    "    if v.size:\n",
    "        X_test_vect_avg.append(v.mean(axis=0))\n",
    "    else:\n",
    "        X_test_vect_avg.append(np.zeros(100, dtype=float))"
   ]
  },
  {
   "cell_type": "code",
   "execution_count": 184,
   "metadata": {},
   "outputs": [
    {
     "name": "stdout",
     "output_type": "stream",
     "text": [
      "              precision    recall  f1-score   support\n",
      "\n",
      "  distortion       0.29      0.25      0.27         8\n",
      "    emphasis       0.45      0.56      0.50         9\n",
      "   unfounded       0.29      0.25      0.27         8\n",
      "\n",
      "    accuracy                           0.36        25\n",
      "   macro avg       0.34      0.35      0.34        25\n",
      "weighted avg       0.35      0.36      0.35        25\n",
      "\n",
      "0.36\n"
     ]
    },
    {
     "data": {
      "image/png": "[encoded data removed]",
      "text/plain": [
       "<Figure size 432x288 with 2 Axes>"
      ]
     },
     "metadata": {
      "needs_background": "light"
     },
     "output_type": "display_data"
    }
   ],
   "source": [
    "from sklearn.dummy import DummyClassifier\n",
    "\n",
    "# Dummy Classifier With Method Stratified\n",
    "dummy_clf = DummyClassifier(strategy=\"stratified\")\n",
    "dummy_clf.fit(XTrain, yTrainLabels)\n",
    "\n",
    "yPredLabels = dummy_clf.predict(XTest)\n",
    "\n",
    "# Evaluate Results\n",
    "ConfusionMatrixDisplay.from_predictions(yTestLabels, yPredLabels, cmap='Greens')\n",
    "print(classification_report(yTestLabels,yPredLabels))\n",
    "print(accuracy_score(yTestLabels,yPredLabels))"
   ]
  },
  {
   "cell_type": "code",
   "execution_count": 186,
   "metadata": {},
   "outputs": [
    {
     "name": "stdout",
     "output_type": "stream",
     "text": [
      "              precision    recall  f1-score   support\n",
      "\n",
      "  distortion       0.33      0.12      0.18         8\n",
      "    emphasis       0.38      0.67      0.48         9\n",
      "   unfounded       0.50      0.38      0.43         8\n",
      "\n",
      "    accuracy                           0.40        25\n",
      "   macro avg       0.40      0.39      0.36        25\n",
      "weighted avg       0.40      0.40      0.37        25\n",
      "\n",
      "0.4\n"
     ]
    },
    {
     "data": {
      "image/png": "[encoded data removed]",
      "text/plain": [
       "<Figure size 432x288 with 2 Axes>"
      ]
     },
     "metadata": {
      "needs_background": "light"
     },
     "output_type": "display_data"
    }
   ],
   "source": [
    "from sklearn.ensemble import RandomForestClassifier\n",
    "\n",
    "# Random Forest Classification Method\n",
    "randForestClas = RandomForestClassifier(n_estimators=1000, random_state=0)\n",
    "randForestClas.fit(XTrain,yTrainLabels)\n",
    "\n",
    "yPredLabels = randForestClas.predict(XTest)\n",
    "\n",
    "ConfusionMatrixDisplay.from_predictions(yTestLabels, yPredLabels, cmap='Greens')\n",
    "print(classification_report(yTestLabels,yPredLabels))\n",
    "print(accuracy_score(yTestLabels,yPredLabels))"
   ]
  },
  {
   "cell_type": "code",
   "execution_count": 462,
   "metadata": {},
   "outputs": [
    {
     "name": "stdout",
     "output_type": "stream",
     "text": [
      "              precision    recall  f1-score   support\n",
      "\n",
      "  distortion       0.40      0.29      0.33         7\n",
      "    emphasis       0.22      0.29      0.25         7\n",
      "   unfounded       0.29      0.29      0.29         7\n",
      "\n",
      "    accuracy                           0.29        21\n",
      "   macro avg       0.30      0.29      0.29        21\n",
      "weighted avg       0.30      0.29      0.29        21\n",
      "\n",
      "0.2857142857142857\n"
     ]
    },
    {
     "data": {
      "image/png": "[encoded data removed]",
      "text/plain": [
       "<Figure size 432x288 with 2 Axes>"
      ]
     },
     "metadata": {
      "needs_background": "light"
     },
     "output_type": "display_data"
    }
   ],
   "source": [
    "# Word 2 Vec\n",
    "\n",
    "from sklearn.dummy import DummyClassifier\n",
    "\n",
    "# Dummy Classifier With Method Stratified\n",
    "dummy_clf = DummyClassifier(strategy=\"stratified\")\n",
    "dummy_clf.fit(X_train_vect_avg, yTrainLabels)\n",
    "\n",
    "yPredLabels = dummy_clf.predict(X_test_vect_avg)\n",
    "\n",
    "# Evaluate Results\n",
    "ConfusionMatrixDisplay.from_predictions(yTestLabels, yPredLabels, cmap='Greens')\n",
    "print(classification_report(yTestLabels,yPredLabels))\n",
    "print(accuracy_score(yTestLabels,yPredLabels))"
   ]
  },
  {
   "cell_type": "code",
   "execution_count": 188,
   "metadata": {},
   "outputs": [
    {
     "name": "stdout",
     "output_type": "stream",
     "text": [
      "              precision    recall  f1-score   support\n",
      "\n",
      "  distortion       0.50      0.75      0.60         8\n",
      "    emphasis       0.44      0.44      0.44         9\n",
      "   unfounded       0.75      0.38      0.50         8\n",
      "\n",
      "    accuracy                           0.52        25\n",
      "   macro avg       0.56      0.52      0.51        25\n",
      "weighted avg       0.56      0.52      0.51        25\n",
      "\n",
      "0.52\n"
     ]
    },
    {
     "data": {
      "image/png": "[encoded data removed]",
      "text/plain": [
       "<Figure size 432x288 with 2 Axes>"
      ]
     },
     "metadata": {
      "needs_background": "light"
     },
     "output_type": "display_data"
    }
   ],
   "source": [
    "from sklearn.neighbors import KNeighborsClassifier\n",
    "\n",
    "# K-Neighbors Classifier\n",
    "kNeighborsClas = KNeighborsClassifier(n_neighbors=2)\n",
    "kNeighborsClas.fit(XTrain,yTrainLabels)\n",
    "\n",
    "yPredLabels = kNeighborsClas.predict(XTest)\n",
    "\n",
    "# Evaluate Results\n",
    "ConfusionMatrixDisplay.from_predictions(yTestLabels, yPredLabels, cmap='Greens')\n",
    "print(classification_report(yTestLabels,yPredLabels))\n",
    "print(accuracy_score(yTestLabels,yPredLabels))"
   ]
  },
  {
   "cell_type": "code",
   "execution_count": 463,
   "metadata": {},
   "outputs": [
    {
     "name": "stdout",
     "output_type": "stream",
     "text": [
      "              precision    recall  f1-score   support\n",
      "\n",
      "  distortion       0.38      0.43      0.40         7\n",
      "    emphasis       0.18      0.29      0.22         7\n",
      "   unfounded       0.00      0.00      0.00         7\n",
      "\n",
      "    accuracy                           0.24        21\n",
      "   macro avg       0.19      0.24      0.21        21\n",
      "weighted avg       0.19      0.24      0.21        21\n",
      "\n",
      "0.23809523809523808\n"
     ]
    },
    {
     "data": {
      "image/png": "[encoded data removed]",
      "text/plain": [
       "<Figure size 432x288 with 2 Axes>"
      ]
     },
     "metadata": {
      "needs_background": "light"
     },
     "output_type": "display_data"
    }
   ],
   "source": [
    "# Word2Vec\n",
    "\n",
    "from sklearn.neighbors import KNeighborsClassifier\n",
    "\n",
    "# K-Neighbors Classifier\n",
    "kNeighborsClas = KNeighborsClassifier(n_neighbors=2)\n",
    "kNeighborsClas.fit(X_train_vect_avg,yTrainLabels)\n",
    "\n",
    "yPredLabels = kNeighborsClas.predict(X_test_vect_avg)\n",
    "\n",
    "# Evaluate Results\n",
    "ConfusionMatrixDisplay.from_predictions(yTestLabels, yPredLabels, cmap='Greens')\n",
    "print(classification_report(yTestLabels,yPredLabels))\n",
    "print(accuracy_score(yTestLabels,yPredLabels))"
   ]
  },
  {
   "cell_type": "code",
   "execution_count": 92,
   "metadata": {},
   "outputs": [
    {
     "name": "stdout",
     "output_type": "stream",
     "text": [
      "              precision    recall  f1-score   support\n",
      "\n",
      "  distortion       0.50      0.50      0.50         8\n",
      "    emphasis       0.38      0.56      0.45         9\n",
      "   unfounded       0.25      0.12      0.17         8\n",
      "\n",
      "    accuracy                           0.40        25\n",
      "   macro avg       0.38      0.39      0.37        25\n",
      "weighted avg       0.38      0.40      0.38        25\n",
      "\n",
      "0.4\n"
     ]
    },
    {
     "data": {
      "image/png": "[encoded data removed]",
      "text/plain": [
       "<Figure size 432x288 with 2 Axes>"
      ]
     },
     "metadata": {
      "needs_background": "light"
     },
     "output_type": "display_data"
    }
   ],
   "source": [
    "from sklearn.svm import SVC\n",
    "\n",
    "# SVM Classifier\n",
    "svmClas = SVC()\n",
    "svmClas.fit(XTrain,yTrainLabels)\n",
    "\n",
    "yPredLabels = svmClas.predict(XTest)\n",
    "\n",
    "# Evaluate Results\n",
    "ConfusionMatrixDisplay.from_predictions(yTestLabels, yPredLabels, cmap='Greens')\n",
    "print(classification_report(yTestLabels,yPredLabels))\n",
    "print(accuracy_score(yTestLabels,yPredLabels))"
   ]
  },
  {
   "cell_type": "code",
   "execution_count": 464,
   "metadata": {},
   "outputs": [
    {
     "name": "stdout",
     "output_type": "stream",
     "text": [
      "              precision    recall  f1-score   support\n",
      "\n",
      "  distortion       0.35      1.00      0.52         7\n",
      "    emphasis       1.00      0.14      0.25         7\n",
      "   unfounded       0.00      0.00      0.00         7\n",
      "\n",
      "    accuracy                           0.38        21\n",
      "   macro avg       0.45      0.38      0.26        21\n",
      "weighted avg       0.45      0.38      0.26        21\n",
      "\n",
      "0.38095238095238093\n"
     ]
    },
    {
     "name": "stderr",
     "output_type": "stream",
     "text": [
      "/usr/local/lib/python3.8/dist-packages/sklearn/metrics/_classification.py:1318: UndefinedMetricWarning: Precision and F-score are ill-defined and being set to 0.0 in labels with no predicted samples. Use `zero_division` parameter to control this behavior.\n",
      "  _warn_prf(average, modifier, msg_start, len(result))\n",
      "/usr/local/lib/python3.8/dist-packages/sklearn/metrics/_classification.py:1318: UndefinedMetricWarning: Precision and F-score are ill-defined and being set to 0.0 in labels with no predicted samples. Use `zero_division` parameter to control this behavior.\n",
      "  _warn_prf(average, modifier, msg_start, len(result))\n",
      "/usr/local/lib/python3.8/dist-packages/sklearn/metrics/_classification.py:1318: UndefinedMetricWarning: Precision and F-score are ill-defined and being set to 0.0 in labels with no predicted samples. Use `zero_division` parameter to control this behavior.\n",
      "  _warn_prf(average, modifier, msg_start, len(result))\n"
     ]
    },
    {
     "data": {
      "image/png": "[encoded data removed]",
      "text/plain": [
       "<Figure size 432x288 with 2 Axes>"
      ]
     },
     "metadata": {
      "needs_background": "light"
     },
     "output_type": "display_data"
    }
   ],
   "source": [
    "# Word2Vec\n",
    "\n",
    "from sklearn.svm import SVC\n",
    "\n",
    "# SVM Classifier\n",
    "svmClas = SVC()\n",
    "svmClas.fit(X_train_vect_avg,yTrainLabels)\n",
    "\n",
    "yPredLabels = svmClas.predict(X_test_vect_avg)\n",
    "\n",
    "# Evaluate Results\n",
    "ConfusionMatrixDisplay.from_predictions(yTestLabels, yPredLabels, cmap='Greens')\n",
    "print(classification_report(yTestLabels,yPredLabels))\n",
    "print(accuracy_score(yTestLabels,yPredLabels))"
   ]
  },
  {
   "cell_type": "code",
   "execution_count": 93,
   "metadata": {},
   "outputs": [
    {
     "name": "stdout",
     "output_type": "stream",
     "text": [
      "              precision    recall  f1-score   support\n",
      "\n",
      "  distortion       0.38      0.38      0.38         8\n",
      "    emphasis       0.27      0.33      0.30         9\n",
      "   unfounded       0.17      0.12      0.14         8\n",
      "\n",
      "    accuracy                           0.28        25\n",
      "   macro avg       0.27      0.28      0.27        25\n",
      "weighted avg       0.27      0.28      0.27        25\n",
      "\n",
      "0.28\n"
     ]
    },
    {
     "data": {
      "image/png": "[encoded data removed]",
      "text/plain": [
       "<Figure size 432x288 with 2 Axes>"
      ]
     },
     "metadata": {
      "needs_background": "light"
     },
     "output_type": "display_data"
    }
   ],
   "source": [
    "from sklearn.gaussian_process import GaussianProcessClassifier\n",
    "\n",
    "# Gaussian Process Classifier\n",
    "gaussianProcClas = GaussianProcessClassifier()\n",
    "gaussianProcClas.fit(XTrain,yTrainLabels)\n",
    "\n",
    "yPredLabels = gaussianProcClas.predict(XTest)\n",
    "\n",
    "# Evaluate Results\n",
    "ConfusionMatrixDisplay.from_predictions(yTestLabels, yPredLabels, cmap='Greens')\n",
    "print(classification_report(yTestLabels,yPredLabels))\n",
    "print(accuracy_score(yTestLabels,yPredLabels))"
   ]
  },
  {
   "cell_type": "code",
   "execution_count": 465,
   "metadata": {},
   "outputs": [
    {
     "name": "stdout",
     "output_type": "stream",
     "text": [
      "              precision    recall  f1-score   support\n",
      "\n",
      "  distortion       0.29      0.57      0.38         7\n",
      "    emphasis       0.00      0.00      0.00         7\n",
      "   unfounded       0.00      0.00      0.00         7\n",
      "\n",
      "    accuracy                           0.19        21\n",
      "   macro avg       0.10      0.19      0.13        21\n",
      "weighted avg       0.10      0.19      0.13        21\n",
      "\n",
      "0.19047619047619047\n"
     ]
    },
    {
     "data": {
      "image/png": "[encoded data removed]",
      "text/plain": [
       "<Figure size 432x288 with 2 Axes>"
      ]
     },
     "metadata": {
      "needs_background": "light"
     },
     "output_type": "display_data"
    }
   ],
   "source": [
    "# Word2Vec\n",
    "\n",
    "from sklearn.gaussian_process import GaussianProcessClassifier\n",
    "\n",
    "# Gaussian Process Classifier\n",
    "gaussianProcClas = GaussianProcessClassifier()\n",
    "gaussianProcClas.fit(X_train_vect_avg,yTrainLabels)\n",
    "\n",
    "yPredLabels = gaussianProcClas.predict(X_test_vect_avg)\n",
    "\n",
    "# Evaluate Results\n",
    "ConfusionMatrixDisplay.from_predictions(yTestLabels, yPredLabels, cmap='Greens')\n",
    "print(classification_report(yTestLabels,yPredLabels))\n",
    "print(accuracy_score(yTestLabels,yPredLabels))"
   ]
  },
  {
   "cell_type": "code",
   "execution_count": 94,
   "metadata": {},
   "outputs": [
    {
     "name": "stdout",
     "output_type": "stream",
     "text": [
      "              precision    recall  f1-score   support\n",
      "\n",
      "  distortion       0.36      0.50      0.42         8\n",
      "    emphasis       0.40      0.22      0.29         9\n",
      "   unfounded       0.33      0.38      0.35         8\n",
      "\n",
      "    accuracy                           0.36        25\n",
      "   macro avg       0.37      0.37      0.35        25\n",
      "weighted avg       0.37      0.36      0.35        25\n",
      "\n",
      "0.36\n"
     ]
    },
    {
     "data": {
      "image/png": "[encoded data removed]",
      "text/plain": [
       "<Figure size 432x288 with 2 Axes>"
      ]
     },
     "metadata": {
      "needs_background": "light"
     },
     "output_type": "display_data"
    }
   ],
   "source": [
    "from sklearn.tree import DecisionTreeClassifier\n",
    "\n",
    "# Decision Tree Classifier\n",
    "decisionTreeClas = DecisionTreeClassifier()\n",
    "decisionTreeClas.fit(XTrain,yTrainLabels)\n",
    "\n",
    "yPredLabels = decisionTreeClas.predict(XTest)\n",
    "\n",
    "# Evaluate Results\n",
    "ConfusionMatrixDisplay.from_predictions(yTestLabels, yPredLabels, cmap='Greens')\n",
    "print(classification_report(yTestLabels,yPredLabels))\n",
    "print(accuracy_score(yTestLabels,yPredLabels))"
   ]
  },
  {
   "cell_type": "code",
   "execution_count": 466,
   "metadata": {},
   "outputs": [
    {
     "name": "stdout",
     "output_type": "stream",
     "text": [
      "              precision    recall  f1-score   support\n",
      "\n",
      "  distortion       0.20      0.14      0.17         7\n",
      "    emphasis       0.29      0.29      0.29         7\n",
      "   unfounded       0.44      0.57      0.50         7\n",
      "\n",
      "    accuracy                           0.33        21\n",
      "   macro avg       0.31      0.33      0.32        21\n",
      "weighted avg       0.31      0.33      0.32        21\n",
      "\n",
      "0.3333333333333333\n"
     ]
    },
    {
     "data": {
      "image/png": "[encoded data removed]",
      "text/plain": [
       "<Figure size 432x288 with 2 Axes>"
      ]
     },
     "metadata": {
      "needs_background": "light"
     },
     "output_type": "display_data"
    }
   ],
   "source": [
    "# Word2Vec\n",
    "\n",
    "from sklearn.tree import DecisionTreeClassifier\n",
    "\n",
    "# Decision Tree Classifier\n",
    "decisionTreeClas = DecisionTreeClassifier()\n",
    "decisionTreeClas.fit(X_train_vect_avg,yTrainLabels)\n",
    "\n",
    "yPredLabels = decisionTreeClas.predict(X_test_vect_avg)\n",
    "\n",
    "# Evaluate Results\n",
    "ConfusionMatrixDisplay.from_predictions(yTestLabels, yPredLabels, cmap='Greens')\n",
    "print(classification_report(yTestLabels,yPredLabels))\n",
    "print(accuracy_score(yTestLabels,yPredLabels))"
   ]
  },
  {
   "cell_type": "code",
   "execution_count": 95,
   "metadata": {},
   "outputs": [
    {
     "name": "stdout",
     "output_type": "stream",
     "text": [
      "              precision    recall  f1-score   support\n",
      "\n",
      "  distortion       0.50      0.12      0.20         8\n",
      "    emphasis       0.35      0.67      0.46         9\n",
      "   unfounded       0.00      0.00      0.00         8\n",
      "\n",
      "    accuracy                           0.28        25\n",
      "   macro avg       0.28      0.26      0.22        25\n",
      "weighted avg       0.29      0.28      0.23        25\n",
      "\n",
      "0.28\n"
     ]
    },
    {
     "data": {
      "image/png": "[encoded data removed]",
      "text/plain": [
       "<Figure size 432x288 with 2 Axes>"
      ]
     },
     "metadata": {
      "needs_background": "light"
     },
     "output_type": "display_data"
    }
   ],
   "source": [
    "from sklearn.ensemble import AdaBoostClassifier\n",
    "\n",
    "# Ada Boost Classifier\n",
    "adaBoostClas = AdaBoostClassifier()\n",
    "adaBoostClas.fit(XTrain,yTrainLabels)\n",
    "\n",
    "yPredLabels = adaBoostClas.predict(XTest)\n",
    "\n",
    "# Evaluate Results\n",
    "ConfusionMatrixDisplay.from_predictions(yTestLabels, yPredLabels, cmap='Greens')\n",
    "print(classification_report(yTestLabels,yPredLabels))\n",
    "print(accuracy_score(yTestLabels,yPredLabels))"
   ]
  },
  {
   "cell_type": "code",
   "execution_count": 467,
   "metadata": {},
   "outputs": [
    {
     "name": "stdout",
     "output_type": "stream",
     "text": [
      "              precision    recall  f1-score   support\n",
      "\n",
      "  distortion       0.17      0.14      0.15         7\n",
      "    emphasis       0.17      0.14      0.15         7\n",
      "   unfounded       0.44      0.57      0.50         7\n",
      "\n",
      "    accuracy                           0.29        21\n",
      "   macro avg       0.26      0.29      0.27        21\n",
      "weighted avg       0.26      0.29      0.27        21\n",
      "\n",
      "0.2857142857142857\n"
     ]
    },
    {
     "data": {
      "image/png": "[encoded data removed]",
      "text/plain": [
       "<Figure size 432x288 with 2 Axes>"
      ]
     },
     "metadata": {
      "needs_background": "light"
     },
     "output_type": "display_data"
    }
   ],
   "source": [
    "# Word2Vec\n",
    "from sklearn.tree import DecisionTreeClassifier\n",
    "\n",
    "# Decision Tree Classifier\n",
    "decisionTreeClas = DecisionTreeClassifier()\n",
    "decisionTreeClas.fit(X_train_vect_avg,yTrainLabels)\n",
    "\n",
    "yPredLabels = decisionTreeClas.predict(X_test_vect_avg)\n",
    "\n",
    "# Evaluate Results\n",
    "ConfusionMatrixDisplay.from_predictions(yTestLabels, yPredLabels, cmap='Greens')\n",
    "print(classification_report(yTestLabels,yPredLabels))\n",
    "print(accuracy_score(yTestLabels,yPredLabels))"
   ]
  },
  {
   "cell_type": "code",
   "execution_count": 96,
   "metadata": {},
   "outputs": [
    {
     "name": "stdout",
     "output_type": "stream",
     "text": [
      "              precision    recall  f1-score   support\n",
      "\n",
      "  distortion       0.57      0.50      0.53         8\n",
      "    emphasis       0.40      0.22      0.29         9\n",
      "   unfounded       0.46      0.75      0.57         8\n",
      "\n",
      "    accuracy                           0.48        25\n",
      "   macro avg       0.48      0.49      0.46        25\n",
      "weighted avg       0.47      0.48      0.46        25\n",
      "\n",
      "0.48\n"
     ]
    },
    {
     "data": {
      "image/png": "[encoded data removed]",
      "text/plain": [
       "<Figure size 432x288 with 2 Axes>"
      ]
     },
     "metadata": {
      "needs_background": "light"
     },
     "output_type": "display_data"
    }
   ],
   "source": [
    "from sklearn.naive_bayes import GaussianNB\n",
    "\n",
    "# Naive Bayes Classifier\n",
    "gaussianNBClas = GaussianNB()\n",
    "gaussianNBClas.fit(XTrain,yTrainLabels)\n",
    "\n",
    "yPredLabels = gaussianNBClas.predict(XTest)\n",
    "\n",
    "# Evaluate Results\n",
    "ConfusionMatrixDisplay.from_predictions(yTestLabels, yPredLabels, cmap='Greens')\n",
    "print(classification_report(yTestLabels,yPredLabels))\n",
    "print(accuracy_score(yTestLabels,yPredLabels))"
   ]
  },
  {
   "cell_type": "code",
   "execution_count": 468,
   "metadata": {},
   "outputs": [
    {
     "name": "stdout",
     "output_type": "stream",
     "text": [
      "              precision    recall  f1-score   support\n",
      "\n",
      "  distortion       0.00      0.00      0.00         7\n",
      "    emphasis       0.30      0.43      0.35         7\n",
      "   unfounded       0.44      0.57      0.50         7\n",
      "\n",
      "    accuracy                           0.33        21\n",
      "   macro avg       0.25      0.33      0.28        21\n",
      "weighted avg       0.25      0.33      0.28        21\n",
      "\n",
      "0.3333333333333333\n"
     ]
    },
    {
     "data": {
      "image/png": "[encoded data removed]",
      "text/plain": [
       "<Figure size 432x288 with 2 Axes>"
      ]
     },
     "metadata": {
      "needs_background": "light"
     },
     "output_type": "display_data"
    }
   ],
   "source": [
    "# Word2Vec\n",
    "\n",
    "from sklearn.tree import DecisionTreeClassifier\n",
    "\n",
    "# Decision Tree Classifier\n",
    "decisionTreeClas = DecisionTreeClassifier()\n",
    "decisionTreeClas.fit(X_train_vect_avg,yTrainLabels)\n",
    "\n",
    "yPredLabels = decisionTreeClas.predict(X_test_vect_avg)\n",
    "\n",
    "# Evaluate Results\n",
    "ConfusionMatrixDisplay.from_predictions(yTestLabels, yPredLabels, cmap='Greens')\n",
    "print(classification_report(yTestLabels,yPredLabels))\n",
    "print(accuracy_score(yTestLabels,yPredLabels))"
   ]
  },
  {
   "cell_type": "code",
   "execution_count": 97,
   "metadata": {},
   "outputs": [
    {
     "name": "stdout",
     "output_type": "stream",
     "text": [
      "              precision    recall  f1-score   support\n",
      "\n",
      "  distortion       0.29      0.25      0.27         8\n",
      "    emphasis       0.30      0.33      0.32         9\n",
      "   unfounded       0.12      0.12      0.12         8\n",
      "\n",
      "    accuracy                           0.24        25\n",
      "   macro avg       0.24      0.24      0.24        25\n",
      "weighted avg       0.24      0.24      0.24        25\n",
      "\n",
      "0.24\n"
     ]
    },
    {
     "data": {
      "image/png": "[encoded data removed]",
      "text/plain": [
       "<Figure size 432x288 with 2 Axes>"
      ]
     },
     "metadata": {
      "needs_background": "light"
     },
     "output_type": "display_data"
    }
   ],
   "source": [
    "from sklearn.naive_bayes import MultinomialNB\n",
    "# Multinomial Naive Bayes Classifier\n",
    "multiNBClas = MultinomialNB()\n",
    "multiNBClas.fit(XTrain,yTrainLabels)\n",
    "\n",
    "yPredLabels = multiNBClas.predict(XTest)\n",
    "\n",
    "# Evaluate Results\n",
    "ConfusionMatrixDisplay.from_predictions(yTestLabels, yPredLabels, cmap='Greens')\n",
    "print(classification_report(yTestLabels,yPredLabels))\n",
    "print(accuracy_score(yTestLabels,yPredLabels))"
   ]
  },
  {
   "cell_type": "code",
   "execution_count": 443,
   "metadata": {},
   "outputs": [
    {
     "name": "stdout",
     "output_type": "stream",
     "text": [
      "              precision    recall  f1-score   support\n",
      "\n",
      "  distortion       0.29      0.25      0.27         8\n",
      "    emphasis       0.00      0.00      0.00         9\n",
      "   unfounded       0.41      0.88      0.56         8\n",
      "\n",
      "    accuracy                           0.36        25\n",
      "   macro avg       0.23      0.38      0.28        25\n",
      "weighted avg       0.22      0.36      0.26        25\n",
      "\n",
      "0.36\n"
     ]
    },
    {
     "data": {
      "image/png": "[encoded data removed]",
      "text/plain": [
       "<Figure size 432x288 with 2 Axes>"
      ]
     },
     "metadata": {
      "needs_background": "light"
     },
     "output_type": "display_data"
    }
   ],
   "source": [
    "from sklearn.linear_model import SGDClassifier\n",
    "# Multinomial Naive Bayes Classifier\n",
    "sgdClas = SGDClassifier(loss='hinge', penalty='l2',alpha=1e-3, random_state=42,max_iter=5, tol=None)\n",
    "sgdClas.fit(XTrain,yTrainLabels)\n",
    "\n",
    "yPredLabels = sgdClas.predict(XTest)\n",
    "\n",
    "# Evaluate Results\n",
    "ConfusionMatrixDisplay.from_predictions(yTestLabels, yPredLabels, cmap='Greens')\n",
    "print(classification_report(yTestLabels,yPredLabels))\n",
    "print(accuracy_score(yTestLabels,yPredLabels))"
   ]
  },
  {
   "cell_type": "code",
   "execution_count": 469,
   "metadata": {},
   "outputs": [
    {
     "name": "stdout",
     "output_type": "stream",
     "text": [
      "              precision    recall  f1-score   support\n",
      "\n",
      "  distortion       0.00      0.00      0.00         7\n",
      "    emphasis       0.00      0.00      0.00         7\n",
      "   unfounded       0.33      1.00      0.50         7\n",
      "\n",
      "    accuracy                           0.33        21\n",
      "   macro avg       0.11      0.33      0.17        21\n",
      "weighted avg       0.11      0.33      0.17        21\n",
      "\n",
      "0.3333333333333333\n"
     ]
    },
    {
     "name": "stderr",
     "output_type": "stream",
     "text": [
      "/usr/local/lib/python3.8/dist-packages/sklearn/metrics/_classification.py:1318: UndefinedMetricWarning: Precision and F-score are ill-defined and being set to 0.0 in labels with no predicted samples. Use `zero_division` parameter to control this behavior.\n",
      "  _warn_prf(average, modifier, msg_start, len(result))\n",
      "/usr/local/lib/python3.8/dist-packages/sklearn/metrics/_classification.py:1318: UndefinedMetricWarning: Precision and F-score are ill-defined and being set to 0.0 in labels with no predicted samples. Use `zero_division` parameter to control this behavior.\n",
      "  _warn_prf(average, modifier, msg_start, len(result))\n",
      "/usr/local/lib/python3.8/dist-packages/sklearn/metrics/_classification.py:1318: UndefinedMetricWarning: Precision and F-score are ill-defined and being set to 0.0 in labels with no predicted samples. Use `zero_division` parameter to control this behavior.\n",
      "  _warn_prf(average, modifier, msg_start, len(result))\n"
     ]
    },
    {
     "data": {
      "image/png": "[encoded data removed]",
      "text/plain": [
       "<Figure size 432x288 with 2 Axes>"
      ]
     },
     "metadata": {
      "needs_background": "light"
     },
     "output_type": "display_data"
    }
   ],
   "source": [
    "# Word2Vec\n",
    "from sklearn.linear_model import SGDClassifier\n",
    "# Multinomial Naive Bayes Classifier\n",
    "sgdClas = SGDClassifier(loss='hinge', penalty='l2',alpha=1e-3, random_state=42,max_iter=5, tol=None)\n",
    "sgdClas.fit(X_train_vect_avg,yTrainLabels)\n",
    "\n",
    "yPredLabels = sgdClas.predict(X_test_vect_avg)\n",
    "\n",
    "# Evaluate Results\n",
    "ConfusionMatrixDisplay.from_predictions(yTestLabels, yPredLabels, cmap='Greens')\n",
    "print(classification_report(yTestLabels,yPredLabels))\n",
    "print(accuracy_score(yTestLabels,yPredLabels))"
   ]
  },
  {
   "cell_type": "code",
   "execution_count": 423,
   "metadata": {},
   "outputs": [
    {
     "name": "stdout",
     "output_type": "stream",
     "text": [
      "              precision    recall  f1-score   support\n",
      "\n",
      "  distortion       0.20      0.12      0.15         8\n",
      "    emphasis       0.33      0.44      0.38         9\n",
      "   unfounded       0.25      0.25      0.25         8\n",
      "\n",
      "    accuracy                           0.28        25\n",
      "   macro avg       0.26      0.27      0.26        25\n",
      "weighted avg       0.26      0.28      0.27        25\n",
      "\n",
      "0.28\n"
     ]
    },
    {
     "data": {
      "image/png": "[encoded data removed]",
      "text/plain": [
       "<Figure size 432x288 with 2 Axes>"
      ]
     },
     "metadata": {
      "needs_background": "light"
     },
     "output_type": "display_data"
    }
   ],
   "source": [
    "from sklearn.linear_model import LogisticRegression\n",
    "# Logistic Regression\n",
    "logRegClas = LogisticRegression()\n",
    "logRegClas.fit(XTrain,yTrainLabels)\n",
    "\n",
    "yPredLabels = logRegClas.predict(XTest)\n",
    "\n",
    "# Evaluate Results\n",
    "ConfusionMatrixDisplay.from_predictions(yTestLabels, yPredLabels, cmap='Greens')\n",
    "print(classification_report(yTestLabels,yPredLabels))\n",
    "print(accuracy_score(yTestLabels,yPredLabels))"
   ]
  },
  {
   "cell_type": "code",
   "execution_count": 470,
   "metadata": {},
   "outputs": [
    {
     "name": "stdout",
     "output_type": "stream",
     "text": [
      "              precision    recall  f1-score   support\n",
      "\n",
      "  distortion       0.25      0.57      0.35         7\n",
      "    emphasis       0.00      0.00      0.00         7\n",
      "   unfounded       0.00      0.00      0.00         7\n",
      "\n",
      "    accuracy                           0.19        21\n",
      "   macro avg       0.08      0.19      0.12        21\n",
      "weighted avg       0.08      0.19      0.12        21\n",
      "\n",
      "0.19047619047619047\n"
     ]
    },
    {
     "data": {
      "image/png": "[encoded data removed]",
      "text/plain": [
       "<Figure size 432x288 with 2 Axes>"
      ]
     },
     "metadata": {
      "needs_background": "light"
     },
     "output_type": "display_data"
    }
   ],
   "source": [
    "# Word2Vec\n",
    "from sklearn.linear_model import LogisticRegression\n",
    "# Logistic Regression\n",
    "logRegClas = LogisticRegression()\n",
    "logRegClas.fit(X_train_vect_avg,yTrainLabels)\n",
    "\n",
    "yPredLabels = logRegClas.predict(X_test_vect_avg)\n",
    "\n",
    "# Evaluate Results\n",
    "ConfusionMatrixDisplay.from_predictions(yTestLabels, yPredLabels, cmap='Greens')\n",
    "print(classification_report(yTestLabels,yPredLabels))\n",
    "print(accuracy_score(yTestLabels,yPredLabels))"
   ]
  }
 ],
 "metadata": {
  "kernelspec": {
   "display_name": "Python 3",
   "language": "python",
   "name": "python3"
  },
  "language_info": {
   "codemirror_mode": {
    "name": "ipython",
    "version": 3
   },
   "file_extension": ".py",
   "mimetype": "text/x-python",
   "name": "python",
   "nbconvert_exporter": "python",
   "pygments_lexer": "ipython3",
   "version": "3.8.10"
  }
 },
 "nbformat": 4,
 "nbformat_minor": 4
}
