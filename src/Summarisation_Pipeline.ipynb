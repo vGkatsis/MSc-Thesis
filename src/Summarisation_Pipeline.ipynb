{
 "cells": [
  {
   "cell_type": "code",
   "execution_count": 1,
   "metadata": {},
   "outputs": [],
   "source": [
    "import json\n",
    "import pandas as pd\n",
    "import numpy as np"
   ]
  },
  {
   "cell_type": "code",
   "execution_count": 2,
   "metadata": {},
   "outputs": [],
   "source": [
    "# Read Summarisation Model results from json file.\n",
    "\n",
    "with open(\"../data/Model_Results/summarisation_results.jsonl\", 'r') as json_file:\n",
    "    json_list = list(json_file)\n",
    "\n",
    "    \n",
    "summarisationResults = {}\n",
    "for json_str in json_list:\n",
    "    \n",
    "    result = json.loads(json_str)\n",
    "    summaryList = sorted(result[\"sentence_scores\"], key=lambda x:x[1], reverse=True)[:4]\n",
    "    summary = \"\"\n",
    "    for sentence in summaryList:\n",
    "        summary += sentence[0] + ' '\n",
    "    \n",
    "    summarisationResults[result[\"id\"]] = summary"
   ]
  },
  {
   "cell_type": "code",
   "execution_count": 3,
   "metadata": {},
   "outputs": [],
   "source": [
    "summarisationData = pd.DataFrame(data=summarisationResults, index=[0])"
   ]
  },
  {
   "cell_type": "code",
   "execution_count": 9,
   "metadata": {},
   "outputs": [],
   "source": [
    "summarisationDataDict = {}\n",
    "\n",
    "for json_id in summarisationData.columns:\n",
    "    \n",
    "    features = {}\n",
    "    \n",
    "    justDataRow = justificationData.loc[justificationData['json_file_id'] == json_id]\n",
    "    \n",
    "    features[\"summary\"] = summarisationData[json_id].values[0]\n",
    "    \n",
    "    summarisationDataDict[json_id] = features"
   ]
  },
  {
   "cell_type": "code",
   "execution_count": 15,
   "metadata": {
    "scrolled": true
   },
   "outputs": [
    {
     "data": {
      "text/html": [
       "<div>\n",
       "<style scoped>\n",
       "    .dataframe tbody tr th:only-of-type {\n",
       "        vertical-align: middle;\n",
       "    }\n",
       "\n",
       "    .dataframe tbody tr th {\n",
       "        vertical-align: top;\n",
       "    }\n",
       "\n",
       "    .dataframe thead th {\n",
       "        text-align: right;\n",
       "    }\n",
       "</style>\n",
       "<table border=\"1\" class=\"dataframe\">\n",
       "  <thead>\n",
       "    <tr style=\"text-align: right;\">\n",
       "      <th></th>\n",
       "      <th>11972.json</th>\n",
       "      <th>11685.json</th>\n",
       "      <th>11096.json</th>\n",
       "      <th>5209.json</th>\n",
       "      <th>9524.json</th>\n",
       "      <th>5962.json</th>\n",
       "      <th>7070.json</th>\n",
       "      <th>1046.json</th>\n",
       "      <th>12849.json</th>\n",
       "      <th>13270.json</th>\n",
       "      <th>...</th>\n",
       "      <th>11576.json</th>\n",
       "      <th>3461.json</th>\n",
       "      <th>9464.json</th>\n",
       "      <th>10227.json</th>\n",
       "      <th>11707.json</th>\n",
       "      <th>3425.json</th>\n",
       "      <th>2977.json</th>\n",
       "      <th>294.json</th>\n",
       "      <th>3580.json</th>\n",
       "      <th>8384.json</th>\n",
       "    </tr>\n",
       "  </thead>\n",
       "  <tbody>\n",
       "    <tr>\n",
       "      <th>summary</th>\n",
       "      <td>\"Building a wall\" on the border \"will take lit...</td>\n",
       "      <td>Those numbers show that as of October 2015, th...</td>\n",
       "      <td>If he did, he would have known that Senator Mc...</td>\n",
       "      <td>\"…She supports taking $500 billion away from M...</td>\n",
       "      <td>Scott Walker helped run a \"criminal scheme\" to...</td>\n",
       "      <td>The campaign accurately quoted a figure whose ...</td>\n",
       "      <td>So $30-31 million per year would, in fact, be ...</td>\n",
       "      <td>The Obama administration has emphasized many o...</td>\n",
       "      <td>\"It matters who’s leading the country, and it ...</td>\n",
       "      <td>Pence described the donors as major. \"The nati...</td>\n",
       "      <td>...</td>\n",
       "      <td>We’re not sure Sanders made that entirely clea...</td>\n",
       "      <td>The $20 million designated for Cuba \"focuses o...</td>\n",
       "      <td>There also are no Asian or Pacific Islander Re...</td>\n",
       "      <td>\"The United States is in the longest stretch o...</td>\n",
       "      <td>\"Secretary Clinton changes her position on thi...</td>\n",
       "      <td>Under the header \"New jobs created by the Stre...</td>\n",
       "      <td>They said low pay, increased work demands and ...</td>\n",
       "      <td>• Comstock, an adviser and frequent spokeswoma...</td>\n",
       "      <td>\"House Republicans under Paul Ryan's leadershi...</td>\n",
       "      <td>\"I will work in a bipartisan way to get it don...</td>\n",
       "    </tr>\n",
       "  </tbody>\n",
       "</table>\n",
       "<p>1 rows × 1400 columns</p>\n",
       "</div>"
      ],
      "text/plain": [
       "                                                11972.json  \\\n",
       "summary  \"Building a wall\" on the border \"will take lit...   \n",
       "\n",
       "                                                11685.json  \\\n",
       "summary  Those numbers show that as of October 2015, th...   \n",
       "\n",
       "                                                11096.json  \\\n",
       "summary  If he did, he would have known that Senator Mc...   \n",
       "\n",
       "                                                 5209.json  \\\n",
       "summary  \"…She supports taking $500 billion away from M...   \n",
       "\n",
       "                                                 9524.json  \\\n",
       "summary  Scott Walker helped run a \"criminal scheme\" to...   \n",
       "\n",
       "                                                 5962.json  \\\n",
       "summary  The campaign accurately quoted a figure whose ...   \n",
       "\n",
       "                                                 7070.json  \\\n",
       "summary  So $30-31 million per year would, in fact, be ...   \n",
       "\n",
       "                                                 1046.json  \\\n",
       "summary  The Obama administration has emphasized many o...   \n",
       "\n",
       "                                                12849.json  \\\n",
       "summary  \"It matters who’s leading the country, and it ...   \n",
       "\n",
       "                                                13270.json  ...  \\\n",
       "summary  Pence described the donors as major. \"The nati...  ...   \n",
       "\n",
       "                                                11576.json  \\\n",
       "summary  We’re not sure Sanders made that entirely clea...   \n",
       "\n",
       "                                                 3461.json  \\\n",
       "summary  The $20 million designated for Cuba \"focuses o...   \n",
       "\n",
       "                                                 9464.json  \\\n",
       "summary  There also are no Asian or Pacific Islander Re...   \n",
       "\n",
       "                                                10227.json  \\\n",
       "summary  \"The United States is in the longest stretch o...   \n",
       "\n",
       "                                                11707.json  \\\n",
       "summary  \"Secretary Clinton changes her position on thi...   \n",
       "\n",
       "                                                 3425.json  \\\n",
       "summary  Under the header \"New jobs created by the Stre...   \n",
       "\n",
       "                                                 2977.json  \\\n",
       "summary  They said low pay, increased work demands and ...   \n",
       "\n",
       "                                                  294.json  \\\n",
       "summary  • Comstock, an adviser and frequent spokeswoma...   \n",
       "\n",
       "                                                 3580.json  \\\n",
       "summary  \"House Republicans under Paul Ryan's leadershi...   \n",
       "\n",
       "                                                 8384.json  \n",
       "summary  \"I will work in a bipartisan way to get it don...  \n",
       "\n",
       "[1 rows x 1400 columns]"
      ]
     },
     "metadata": {},
     "output_type": "display_data"
    }
   ],
   "source": [
    "summarisationData = pd.DataFrame().from_dict(data=summarisationDataDict)\n",
    "\n",
    "display(summarisationData)"
   ]
  },
  {
   "cell_type": "code",
   "execution_count": 12,
   "metadata": {},
   "outputs": [],
   "source": [
    "x_trainDf = pd.read_csv ('../data/Train_Eval_Test_Data/train.tsv', sep='\\t')\n",
    "x_trainDf.columns = [\"json_id\", \"claim\", \"justification_label\"]\n",
    "\n",
    "x_testDf = pd.read_csv ('../data/Train_Eval_Test_Data/test.tsv', sep='\\t')\n",
    "x_testDf.columns = [\"json_id\", \"claim\", \"justification_label\"]\n",
    "\n",
    "x_valDf = pd.read_csv ('../data/Train_Eval_Test_Data/val.tsv', sep='\\t')\n",
    "x_valDf.columns = [\"json_id\", \"claim\", \"justification_label\"]"
   ]
  },
  {
   "cell_type": "code",
   "execution_count": 13,
   "metadata": {},
   "outputs": [],
   "source": [
    "x_trainDf[\"summary\"] = \"\"\n",
    "x_testDf[\"summary\"]  = \"\"\n",
    "x_valDf[\"summary\"]   = \"\""
   ]
  },
  {
   "cell_type": "code",
   "execution_count": 14,
   "metadata": {},
   "outputs": [],
   "source": [
    "def addSummary(data, summaries):\n",
    "    \n",
    "    for index, row in data.iterrows():\n",
    "        if row[\"json_id\"] in summaries.columns:\n",
    "            row[\"summary\"] = summaries[row[\"json_id\"]].values[0]"
   ]
  },
  {
   "cell_type": "code",
   "execution_count": 16,
   "metadata": {},
   "outputs": [],
   "source": [
    "addSummary(x_trainDf, summarisationData)\n",
    "addSummary(x_testDf, summarisationData)\n",
    "addSummary(x_valDf, summarisationData)"
   ]
  },
  {
   "cell_type": "code",
   "execution_count": 18,
   "metadata": {},
   "outputs": [],
   "source": [
    "y_trainDf = pd.DataFrame(data=x_trainDf[\"justification_label\"])\n",
    "y_testDf  = pd.DataFrame(data=x_testDf[\"justification_label\"])\n",
    "y_valDf   = pd.DataFrame(data=x_valDf[\"justification_label\"])"
   ]
  },
  {
   "cell_type": "code",
   "execution_count": 19,
   "metadata": {},
   "outputs": [],
   "source": [
    "# Create list containing claims + attention explanations\n",
    "\n",
    "trainClaimSumm  = []\n",
    "yTrainLabels   = y_trainDf['justification_label'].tolist()\n",
    "\n",
    "testClaimSumm   = []\n",
    "yTestLabels    = y_testDf['justification_label'].tolist()\n",
    "\n",
    "evalClaimSumm   = []\n",
    "yEvalLabels    = y_valDf['justification_label'].tolist()\n",
    "\n",
    "for index, row in x_trainDf.iterrows():\n",
    "    trainClaimSumm.append(row['claim'] + row['summary'])\n",
    "\n",
    "for index, row in x_testDf.iterrows():\n",
    "    testClaimSumm.append(row['claim'] + row['summary'])\n",
    "\n",
    "for index, row in x_valDf.iterrows():\n",
    "    evalClaimSumm.append(row['claim'] + row['summary'])\n",
    "    \n",
    "totalClaimSumm = trainClaimSumm + testClaimSumm + evalClaimSumm\n",
    "yTotalLabels = np.array(yTrainLabels + yTestLabels + yEvalLabels)"
   ]
  },
  {
   "cell_type": "code",
   "execution_count": 20,
   "metadata": {},
   "outputs": [],
   "source": [
    "import nltk\n",
    "from sklearn.feature_extraction.text import CountVectorizer\n",
    "from sklearn.feature_extraction.text import TfidfTransformer\n",
    "from sklearn.metrics import confusion_matrix\n",
    "from sklearn.metrics import ConfusionMatrixDisplay\n",
    "from sklearn.metrics import classification_report, accuracy_score"
   ]
  },
  {
   "cell_type": "code",
   "execution_count": 21,
   "metadata": {},
   "outputs": [],
   "source": [
    "# Convert words to number using Bag of Words (Bow)\n",
    "vectorizer = CountVectorizer(max_features=30, min_df=5, max_df=0.7)\n",
    "vectorizedTrain = vectorizer.fit_transform(trainClaimSumm).toarray()\n",
    "vectorizedTest  = vectorizer.fit_transform(testClaimSumm).toarray()\n",
    "vectorizedEval  = vectorizer.fit_transform(evalClaimSumm).toarray()\n",
    "vectorizedTotal = vectorizer.fit_transform(totalClaimSumm).toarray()\n",
    "\n",
    "# Convert Bow values according to TfIdf\n",
    "tfidfconverter = TfidfTransformer()\n",
    "XTrain = tfidfconverter.fit_transform(vectorizedTrain).toarray()\n",
    "XTest  = tfidfconverter.fit_transform(vectorizedTest).toarray()\n",
    "XEval  = tfidfconverter.fit_transform(vectorizedEval).toarray()\n",
    "XTotal = tfidfconverter.fit_transform(vectorizedTotal).toarray()"
   ]
  },
  {
   "cell_type": "code",
   "execution_count": 22,
   "metadata": {
    "scrolled": false
   },
   "outputs": [
    {
     "name": "stdout",
     "output_type": "stream",
     "text": [
      "              precision    recall  f1-score   support\n",
      "\n",
      "  distortion       0.57      0.50      0.53         8\n",
      "    emphasis       0.25      0.22      0.24         9\n",
      "   unfounded       0.40      0.50      0.44         8\n",
      "\n",
      "    accuracy                           0.40        25\n",
      "   macro avg       0.41      0.41      0.40        25\n",
      "weighted avg       0.40      0.40      0.40        25\n",
      "\n",
      "0.4\n"
     ]
    },
    {
     "data": {
      "image/png": "[encoded data removed]",
      "text/plain": [
       "<Figure size 432x288 with 2 Axes>"
      ]
     },
     "metadata": {
      "needs_background": "light"
     },
     "output_type": "display_data"
    }
   ],
   "source": [
    "from sklearn.dummy import DummyClassifier\n",
    "\n",
    "# Dummy Classifier With Method Stratified\n",
    "dummy_clf = DummyClassifier(strategy=\"stratified\")\n",
    "dummy_clf.fit(XTrain, yTrainLabels)\n",
    "\n",
    "yPredLabels = dummy_clf.predict(XTest)\n",
    "\n",
    "# Evaluate Results\n",
    "ConfusionMatrixDisplay.from_predictions(yTestLabels, yPredLabels, cmap='Greens')\n",
    "print(classification_report(yTestLabels,yPredLabels))\n",
    "print(accuracy_score(yTestLabels,yPredLabels))"
   ]
  },
  {
   "cell_type": "code",
   "execution_count": 23,
   "metadata": {},
   "outputs": [
    {
     "name": "stdout",
     "output_type": "stream",
     "text": [
      "              precision    recall  f1-score   support\n",
      "\n",
      "  distortion       0.43      0.38      0.40         8\n",
      "    emphasis       0.40      0.44      0.42         9\n",
      "   unfounded       0.38      0.38      0.38         8\n",
      "\n",
      "    accuracy                           0.40        25\n",
      "   macro avg       0.40      0.40      0.40        25\n",
      "weighted avg       0.40      0.40      0.40        25\n",
      "\n",
      "0.4\n"
     ]
    },
    {
     "data": {
      "image/png": "[encoded data removed]",
      "text/plain": [
       "<Figure size 432x288 with 2 Axes>"
      ]
     },
     "metadata": {
      "needs_background": "light"
     },
     "output_type": "display_data"
    }
   ],
   "source": [
    "from sklearn.ensemble import RandomForestClassifier\n",
    "\n",
    "# Random Forest Classification Method\n",
    "randForestClas = RandomForestClassifier(n_estimators=1000, random_state=0)\n",
    "randForestClas.fit(XTrain,yTrainLabels)\n",
    "\n",
    "yPredLabels = randForestClas.predict(XTest)\n",
    "\n",
    "ConfusionMatrixDisplay.from_predictions(yTestLabels, yPredLabels, cmap='Greens')\n",
    "print(classification_report(yTestLabels,yPredLabels))\n",
    "print(accuracy_score(yTestLabels,yPredLabels))"
   ]
  },
  {
   "cell_type": "code",
   "execution_count": 24,
   "metadata": {},
   "outputs": [
    {
     "name": "stdout",
     "output_type": "stream",
     "text": [
      "              precision    recall  f1-score   support\n",
      "\n",
      "  distortion       0.45      0.62      0.53         8\n",
      "    emphasis       0.33      0.22      0.27         9\n",
      "   unfounded       0.62      0.62      0.62         8\n",
      "\n",
      "    accuracy                           0.48        25\n",
      "   macro avg       0.47      0.49      0.47        25\n",
      "weighted avg       0.47      0.48      0.46        25\n",
      "\n",
      "0.48\n"
     ]
    },
    {
     "data": {
      "image/png": "[encoded data removed]",
      "text/plain": [
       "<Figure size 432x288 with 2 Axes>"
      ]
     },
     "metadata": {
      "needs_background": "light"
     },
     "output_type": "display_data"
    }
   ],
   "source": [
    "from sklearn.neighbors import KNeighborsClassifier\n",
    "\n",
    "# K-Neighbors Classifier\n",
    "kNeighborsClas = KNeighborsClassifier(n_neighbors=7)\n",
    "kNeighborsClas.fit(XTrain,yTrainLabels)\n",
    "\n",
    "yPredLabels = kNeighborsClas.predict(XTest)\n",
    "\n",
    "# Evaluate Results\n",
    "ConfusionMatrixDisplay.from_predictions(yTestLabels, yPredLabels, cmap='Greens')\n",
    "print(classification_report(yTestLabels,yPredLabels))\n",
    "print(accuracy_score(yTestLabels,yPredLabels))"
   ]
  },
  {
   "cell_type": "code",
   "execution_count": 25,
   "metadata": {},
   "outputs": [
    {
     "name": "stdout",
     "output_type": "stream",
     "text": [
      "              precision    recall  f1-score   support\n",
      "\n",
      "  distortion       0.67      0.50      0.57         8\n",
      "    emphasis       0.33      0.22      0.27         9\n",
      "   unfounded       0.23      0.38      0.29         8\n",
      "\n",
      "    accuracy                           0.36        25\n",
      "   macro avg       0.41      0.37      0.37        25\n",
      "weighted avg       0.41      0.36      0.37        25\n",
      "\n",
      "0.36\n"
     ]
    },
    {
     "data": {
      "image/png": "[encoded data removed]",
      "text/plain": [
       "<Figure size 432x288 with 2 Axes>"
      ]
     },
     "metadata": {
      "needs_background": "light"
     },
     "output_type": "display_data"
    }
   ],
   "source": [
    "from sklearn.svm import SVC\n",
    "\n",
    "# SVM Classifier\n",
    "svmClas = SVC()\n",
    "svmClas.fit(XTrain,yTrainLabels)\n",
    "\n",
    "yPredLabels = svmClas.predict(XTest)\n",
    "\n",
    "# Evaluate Results\n",
    "ConfusionMatrixDisplay.from_predictions(yTestLabels, yPredLabels, cmap='Greens')\n",
    "print(classification_report(yTestLabels,yPredLabels))\n",
    "print(accuracy_score(yTestLabels,yPredLabels))"
   ]
  },
  {
   "cell_type": "code",
   "execution_count": 26,
   "metadata": {},
   "outputs": [
    {
     "name": "stdout",
     "output_type": "stream",
     "text": [
      "              precision    recall  f1-score   support\n",
      "\n",
      "  distortion       0.56      0.62      0.59         8\n",
      "    emphasis       0.33      0.33      0.33         9\n",
      "   unfounded       0.14      0.12      0.13         8\n",
      "\n",
      "    accuracy                           0.36        25\n",
      "   macro avg       0.34      0.36      0.35        25\n",
      "weighted avg       0.34      0.36      0.35        25\n",
      "\n",
      "0.36\n"
     ]
    },
    {
     "data": {
      "image/png": "[encoded data removed]",
      "text/plain": [
       "<Figure size 432x288 with 2 Axes>"
      ]
     },
     "metadata": {
      "needs_background": "light"
     },
     "output_type": "display_data"
    }
   ],
   "source": [
    "from sklearn.gaussian_process import GaussianProcessClassifier\n",
    "\n",
    "# Gaussian Process Classifier\n",
    "gaussianProcClas = GaussianProcessClassifier()\n",
    "gaussianProcClas.fit(XTrain,yTrainLabels)\n",
    "\n",
    "yPredLabels = gaussianProcClas.predict(XTest)\n",
    "\n",
    "# Evaluate Results\n",
    "ConfusionMatrixDisplay.from_predictions(yTestLabels, yPredLabels, cmap='Greens')\n",
    "print(classification_report(yTestLabels,yPredLabels))\n",
    "print(accuracy_score(yTestLabels,yPredLabels))"
   ]
  },
  {
   "cell_type": "code",
   "execution_count": 27,
   "metadata": {},
   "outputs": [
    {
     "name": "stdout",
     "output_type": "stream",
     "text": [
      "              precision    recall  f1-score   support\n",
      "\n",
      "  distortion       0.25      0.25      0.25         8\n",
      "    emphasis       0.42      0.56      0.48         9\n",
      "   unfounded       0.20      0.12      0.15         8\n",
      "\n",
      "    accuracy                           0.32        25\n",
      "   macro avg       0.29      0.31      0.29        25\n",
      "weighted avg       0.29      0.32      0.30        25\n",
      "\n",
      "0.32\n"
     ]
    },
    {
     "data": {
      "image/png": "[encoded data removed]",
      "text/plain": [
       "<Figure size 432x288 with 2 Axes>"
      ]
     },
     "metadata": {
      "needs_background": "light"
     },
     "output_type": "display_data"
    }
   ],
   "source": [
    "from sklearn.tree import DecisionTreeClassifier\n",
    "\n",
    "# Decision Tree Classifier\n",
    "decisionTreeClas = DecisionTreeClassifier()\n",
    "decisionTreeClas.fit(XTrain,yTrainLabels)\n",
    "\n",
    "yPredLabels = decisionTreeClas.predict(XTest)\n",
    "\n",
    "# Evaluate Results\n",
    "ConfusionMatrixDisplay.from_predictions(yTestLabels, yPredLabels, cmap='Greens')\n",
    "print(classification_report(yTestLabels,yPredLabels))\n",
    "print(accuracy_score(yTestLabels,yPredLabels))"
   ]
  },
  {
   "cell_type": "code",
   "execution_count": 28,
   "metadata": {},
   "outputs": [
    {
     "name": "stdout",
     "output_type": "stream",
     "text": [
      "              precision    recall  f1-score   support\n",
      "\n",
      "  distortion       0.00      0.00      0.00         8\n",
      "    emphasis       0.42      0.56      0.48         9\n",
      "   unfounded       0.00      0.00      0.00         8\n",
      "\n",
      "    accuracy                           0.20        25\n",
      "   macro avg       0.14      0.19      0.16        25\n",
      "weighted avg       0.15      0.20      0.17        25\n",
      "\n",
      "0.2\n"
     ]
    },
    {
     "data": {
      "image/png": "[encoded data removed]",
      "text/plain": [
       "<Figure size 432x288 with 2 Axes>"
      ]
     },
     "metadata": {
      "needs_background": "light"
     },
     "output_type": "display_data"
    }
   ],
   "source": [
    "from sklearn.ensemble import AdaBoostClassifier\n",
    "\n",
    "# Ada Boost Classifier\n",
    "adaBoostClas = AdaBoostClassifier()\n",
    "adaBoostClas.fit(XTrain,yTrainLabels)\n",
    "\n",
    "yPredLabels = adaBoostClas.predict(XTest)\n",
    "\n",
    "# Evaluate Results\n",
    "ConfusionMatrixDisplay.from_predictions(yTestLabels, yPredLabels, cmap='Greens')\n",
    "print(classification_report(yTestLabels,yPredLabels))\n",
    "print(accuracy_score(yTestLabels,yPredLabels))"
   ]
  },
  {
   "cell_type": "code",
   "execution_count": 29,
   "metadata": {},
   "outputs": [
    {
     "name": "stdout",
     "output_type": "stream",
     "text": [
      "              precision    recall  f1-score   support\n",
      "\n",
      "  distortion       0.27      0.38      0.32         8\n",
      "    emphasis       0.30      0.33      0.32         9\n",
      "   unfounded       0.25      0.12      0.17         8\n",
      "\n",
      "    accuracy                           0.28        25\n",
      "   macro avg       0.27      0.28      0.27        25\n",
      "weighted avg       0.28      0.28      0.27        25\n",
      "\n",
      "0.28\n"
     ]
    },
    {
     "data": {
      "image/png": "[encoded data removed]",
      "text/plain": [
       "<Figure size 432x288 with 2 Axes>"
      ]
     },
     "metadata": {
      "needs_background": "light"
     },
     "output_type": "display_data"
    }
   ],
   "source": [
    "from sklearn.naive_bayes import GaussianNB\n",
    "\n",
    "# Naive Bayes Classifier\n",
    "gaussianNBClas = GaussianNB()\n",
    "gaussianNBClas.fit(XTrain,yTrainLabels)\n",
    "\n",
    "yPredLabels = gaussianNBClas.predict(XTest)\n",
    "\n",
    "# Evaluate Results\n",
    "ConfusionMatrixDisplay.from_predictions(yTestLabels, yPredLabels, cmap='Greens')\n",
    "print(classification_report(yTestLabels,yPredLabels))\n",
    "print(accuracy_score(yTestLabels,yPredLabels))"
   ]
  }
 ],
 "metadata": {
  "kernelspec": {
   "display_name": "Python 3",
   "language": "python",
   "name": "python3"
  },
  "language_info": {
   "codemirror_mode": {
    "name": "ipython",
    "version": 3
   },
   "file_extension": ".py",
   "mimetype": "text/x-python",
   "name": "python",
   "nbconvert_exporter": "python",
   "pygments_lexer": "ipython3",
   "version": "3.8.10"
  }
 },
 "nbformat": 4,
 "nbformat_minor": 4
}
