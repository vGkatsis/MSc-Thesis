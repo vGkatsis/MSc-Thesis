{
 "cells": [
  {
   "cell_type": "code",
   "execution_count": 4,
   "metadata": {
    "executionInfo": {
     "elapsed": 319,
     "status": "ok",
     "timestamp": 1648557084175,
     "user": {
      "displayName": "Vasileios Gkatsis",
      "userId": "03929032417908238113"
     },
     "user_tz": -180
    },
    "id": "Rj_7Mmlwfewb"
   },
   "outputs": [],
   "source": [
    "import json\n",
    "import string\n",
    "import pandas as pd\n",
    "import numpy as np"
   ]
  },
  {
   "cell_type": "code",
   "execution_count": 5,
   "metadata": {
    "executionInfo": {
     "elapsed": 1229,
     "status": "ok",
     "timestamp": 1648557087251,
     "user": {
      "displayName": "Vasileios Gkatsis",
      "userId": "03929032417908238113"
     },
     "user_tz": -180
    },
    "id": "RHoss53Hfewh"
   },
   "outputs": [],
   "source": [
    "# Read Summarisation Model results from json file.\n",
    "\n",
    "with open(\"../data/Model_Results/summarisation_results.jsonl\", 'r') as json_file:\n",
    "    json_list = list(json_file)\n",
    "\n",
    "    \n",
    "summarisationResults = {}\n",
    "for json_str in json_list:\n",
    "    \n",
    "    result = json.loads(json_str)\n",
    "    summaryList = sorted(result[\"sentence_scores\"], key=lambda x:x[1], reverse=True)[:4]\n",
    "    summary = \"\"\n",
    "    for sentence in summaryList:\n",
    "        summary += sentence[0] + ' '\n",
    "    \n",
    "    summarisationResults[result[\"id\"]] = summary"
   ]
  },
  {
   "cell_type": "code",
   "execution_count": 6,
   "metadata": {
    "executionInfo": {
     "elapsed": 267,
     "status": "ok",
     "timestamp": 1648557092692,
     "user": {
      "displayName": "Vasileios Gkatsis",
      "userId": "03929032417908238113"
     },
     "user_tz": -180
    },
    "id": "WcZ3cV0Ofewi"
   },
   "outputs": [],
   "source": [
    "summarisationData = pd.DataFrame(data=summarisationResults, index=[0])"
   ]
  },
  {
   "cell_type": "code",
   "execution_count": 7,
   "metadata": {
    "executionInfo": {
     "elapsed": 299,
     "status": "ok",
     "timestamp": 1648557094235,
     "user": {
      "displayName": "Vasileios Gkatsis",
      "userId": "03929032417908238113"
     },
     "user_tz": -180
    },
    "id": "9lSPV0ehfewj"
   },
   "outputs": [],
   "source": [
    "summarisationDataDict = {}\n",
    "\n",
    "for json_id in summarisationData.columns:\n",
    "    \n",
    "    features = {}\n",
    "    \n",
    "    features[\"summary\"] = summarisationData[json_id].values[0]\n",
    "    \n",
    "    summarisationDataDict[json_id] = features"
   ]
  },
  {
   "cell_type": "code",
   "execution_count": 8,
   "metadata": {
    "colab": {
     "base_uri": "https://localhost:8080/",
     "height": 278
    },
    "executionInfo": {
     "elapsed": 302,
     "status": "ok",
     "timestamp": 1648557096135,
     "user": {
      "displayName": "Vasileios Gkatsis",
      "userId": "03929032417908238113"
     },
     "user_tz": -180
    },
    "id": "WC1Cu3dcfewk",
    "outputId": "de6c8946-2ee5-461a-f0a6-3fdeb82cc969",
    "scrolled": true
   },
   "outputs": [
    {
     "data": {
      "text/html": [
       "<div>\n",
       "<style scoped>\n",
       "    .dataframe tbody tr th:only-of-type {\n",
       "        vertical-align: middle;\n",
       "    }\n",
       "\n",
       "    .dataframe tbody tr th {\n",
       "        vertical-align: top;\n",
       "    }\n",
       "\n",
       "    .dataframe thead th {\n",
       "        text-align: right;\n",
       "    }\n",
       "</style>\n",
       "<table border=\"1\" class=\"dataframe\">\n",
       "  <thead>\n",
       "    <tr style=\"text-align: right;\">\n",
       "      <th></th>\n",
       "      <th>11972.json</th>\n",
       "      <th>11685.json</th>\n",
       "      <th>11096.json</th>\n",
       "      <th>5209.json</th>\n",
       "      <th>9524.json</th>\n",
       "      <th>5962.json</th>\n",
       "      <th>7070.json</th>\n",
       "      <th>1046.json</th>\n",
       "      <th>12849.json</th>\n",
       "      <th>13270.json</th>\n",
       "      <th>...</th>\n",
       "      <th>11576.json</th>\n",
       "      <th>3461.json</th>\n",
       "      <th>9464.json</th>\n",
       "      <th>10227.json</th>\n",
       "      <th>11707.json</th>\n",
       "      <th>3425.json</th>\n",
       "      <th>2977.json</th>\n",
       "      <th>294.json</th>\n",
       "      <th>3580.json</th>\n",
       "      <th>8384.json</th>\n",
       "    </tr>\n",
       "  </thead>\n",
       "  <tbody>\n",
       "    <tr>\n",
       "      <th>summary</th>\n",
       "      <td>\"Building a wall\" on the border \"will take lit...</td>\n",
       "      <td>Those numbers show that as of October 2015, th...</td>\n",
       "      <td>If he did, he would have known that Senator Mc...</td>\n",
       "      <td>\"…She supports taking $500 billion away from M...</td>\n",
       "      <td>Scott Walker helped run a \"criminal scheme\" to...</td>\n",
       "      <td>The campaign accurately quoted a figure whose ...</td>\n",
       "      <td>So $30-31 million per year would, in fact, be ...</td>\n",
       "      <td>The Obama administration has emphasized many o...</td>\n",
       "      <td>\"It matters who’s leading the country, and it ...</td>\n",
       "      <td>Pence described the donors as major. \"The nati...</td>\n",
       "      <td>...</td>\n",
       "      <td>We’re not sure Sanders made that entirely clea...</td>\n",
       "      <td>The $20 million designated for Cuba \"focuses o...</td>\n",
       "      <td>There also are no Asian or Pacific Islander Re...</td>\n",
       "      <td>\"The United States is in the longest stretch o...</td>\n",
       "      <td>\"Secretary Clinton changes her position on thi...</td>\n",
       "      <td>Under the header \"New jobs created by the Stre...</td>\n",
       "      <td>They said low pay, increased work demands and ...</td>\n",
       "      <td>• Comstock, an adviser and frequent spokeswoma...</td>\n",
       "      <td>\"House Republicans under Paul Ryan's leadershi...</td>\n",
       "      <td>\"I will work in a bipartisan way to get it don...</td>\n",
       "    </tr>\n",
       "  </tbody>\n",
       "</table>\n",
       "<p>1 rows × 1400 columns</p>\n",
       "</div>"
      ],
      "text/plain": [
       "                                                11972.json  \\\n",
       "summary  \"Building a wall\" on the border \"will take lit...   \n",
       "\n",
       "                                                11685.json  \\\n",
       "summary  Those numbers show that as of October 2015, th...   \n",
       "\n",
       "                                                11096.json  \\\n",
       "summary  If he did, he would have known that Senator Mc...   \n",
       "\n",
       "                                                 5209.json  \\\n",
       "summary  \"…She supports taking $500 billion away from M...   \n",
       "\n",
       "                                                 9524.json  \\\n",
       "summary  Scott Walker helped run a \"criminal scheme\" to...   \n",
       "\n",
       "                                                 5962.json  \\\n",
       "summary  The campaign accurately quoted a figure whose ...   \n",
       "\n",
       "                                                 7070.json  \\\n",
       "summary  So $30-31 million per year would, in fact, be ...   \n",
       "\n",
       "                                                 1046.json  \\\n",
       "summary  The Obama administration has emphasized many o...   \n",
       "\n",
       "                                                12849.json  \\\n",
       "summary  \"It matters who’s leading the country, and it ...   \n",
       "\n",
       "                                                13270.json  ...  \\\n",
       "summary  Pence described the donors as major. \"The nati...  ...   \n",
       "\n",
       "                                                11576.json  \\\n",
       "summary  We’re not sure Sanders made that entirely clea...   \n",
       "\n",
       "                                                 3461.json  \\\n",
       "summary  The $20 million designated for Cuba \"focuses o...   \n",
       "\n",
       "                                                 9464.json  \\\n",
       "summary  There also are no Asian or Pacific Islander Re...   \n",
       "\n",
       "                                                10227.json  \\\n",
       "summary  \"The United States is in the longest stretch o...   \n",
       "\n",
       "                                                11707.json  \\\n",
       "summary  \"Secretary Clinton changes her position on thi...   \n",
       "\n",
       "                                                 3425.json  \\\n",
       "summary  Under the header \"New jobs created by the Stre...   \n",
       "\n",
       "                                                 2977.json  \\\n",
       "summary  They said low pay, increased work demands and ...   \n",
       "\n",
       "                                                  294.json  \\\n",
       "summary  • Comstock, an adviser and frequent spokeswoma...   \n",
       "\n",
       "                                                 3580.json  \\\n",
       "summary  \"House Republicans under Paul Ryan's leadershi...   \n",
       "\n",
       "                                                 8384.json  \n",
       "summary  \"I will work in a bipartisan way to get it don...  \n",
       "\n",
       "[1 rows x 1400 columns]"
      ]
     },
     "metadata": {},
     "output_type": "display_data"
    }
   ],
   "source": [
    "summarisationData = pd.DataFrame().from_dict(data=summarisationDataDict)\n",
    "\n",
    "display(summarisationData)"
   ]
  },
  {
   "cell_type": "code",
   "execution_count": 9,
   "metadata": {
    "executionInfo": {
     "elapsed": 283,
     "status": "ok",
     "timestamp": 1648557662487,
     "user": {
      "displayName": "Vasileios Gkatsis",
      "userId": "03929032417908238113"
     },
     "user_tz": -180
    },
    "id": "S_czfNPmfewq"
   },
   "outputs": [],
   "source": [
    "import nltk\n",
    "from nltk.corpus import stopwords\n",
    "from nltk.stem import SnowballStemmer\n",
    "from nltk.stem import WordNetLemmatizer\n",
    "import gensim\n",
    "from gensim.models import Word2Vec\n",
    "from sklearn.feature_extraction.text import CountVectorizer\n",
    "from sklearn.feature_extraction.text import TfidfTransformer\n",
    "from sklearn.metrics import confusion_matrix\n",
    "from sklearn.metrics import ConfusionMatrixDisplay\n",
    "from sklearn.model_selection import GridSearchCV\n",
    "from sklearn.metrics import classification_report, accuracy_score\n",
    "from sklearn.model_selection import train_test_split"
   ]
  },
  {
   "cell_type": "code",
   "execution_count": 10,
   "metadata": {
    "executionInfo": {
     "elapsed": 290,
     "status": "ok",
     "timestamp": 1648557103393,
     "user": {
      "displayName": "Vasileios Gkatsis",
      "userId": "03929032417908238113"
     },
     "user_tz": -180
    },
    "id": "2_AlF5Azfewn"
   },
   "outputs": [],
   "source": [
    "def addSummary(data, summaries):\n",
    "    \n",
    "    for index, row in data.iterrows():\n",
    "        if row[\"json_id\"] in summaries.columns:\n",
    "            row[\"summary\"] = summaries[row[\"json_id\"]].values[0]"
   ]
  },
  {
   "cell_type": "code",
   "execution_count": 11,
   "metadata": {
    "colab": {
     "base_uri": "https://localhost:8080/"
    },
    "executionInfo": {
     "elapsed": 658,
     "status": "ok",
     "timestamp": 1648557144632,
     "user": {
      "displayName": "Vasileios Gkatsis",
      "userId": "03929032417908238113"
     },
     "user_tz": -180
    },
    "id": "X_InwU74hXTd",
    "outputId": "2f4ca094-46c9-48a9-8068-35240a691c67"
   },
   "outputs": [
    {
     "name": "stdout",
     "output_type": "stream",
     "text": [
      "[nltk_data] Downloading package wordnet to /home/vassilis/nltk_data...\n",
      "[nltk_data]   Package wordnet is already up-to-date!\n",
      "[nltk_data] Downloading package stopwords to\n",
      "[nltk_data]     /home/vassilis/nltk_data...\n",
      "[nltk_data]   Package stopwords is already up-to-date!\n"
     ]
    },
    {
     "data": {
      "text/plain": [
       "True"
      ]
     },
     "execution_count": 11,
     "metadata": {},
     "output_type": "execute_result"
    }
   ],
   "source": [
    "nltk.download('wordnet')\n",
    "nltk.download('stopwords')"
   ]
  },
  {
   "cell_type": "code",
   "execution_count": 12,
   "metadata": {
    "executionInfo": {
     "elapsed": 268,
     "status": "ok",
     "timestamp": 1648557146953,
     "user": {
      "displayName": "Vasileios Gkatsis",
      "userId": "03929032417908238113"
     },
     "user_tz": -180
    },
    "id": "NH8jdWVPfewp"
   },
   "outputs": [],
   "source": [
    "def cleanAndStemm(sentence):\n",
    "    \n",
    "    stop_words = set(stopwords.words('english'))\n",
    "    wordnet_lemmatizer = WordNetLemmatizer()\n",
    "\n",
    "    sentenceList = []\n",
    "    for token in sentence.split(' '):\n",
    "        \n",
    "        token = token.lower()\n",
    "        token = token.translate(str.maketrans('', '', string.punctuation))\n",
    "        \n",
    "        if token in stop_words:\n",
    "            continue\n",
    "        \n",
    "        token = wordnet_lemmatizer.lemmatize(token)\n",
    "        \n",
    "        sentenceList.append(token)\n",
    "        \n",
    "    newSentence = ' '.join(sentenceList)\n",
    "    return newSentence"
   ]
  },
  {
   "cell_type": "code",
   "execution_count": 13,
   "metadata": {
    "executionInfo": {
     "elapsed": 266,
     "status": "ok",
     "timestamp": 1648557159697,
     "user": {
      "displayName": "Vasileios Gkatsis",
      "userId": "03929032417908238113"
     },
     "user_tz": -180
    },
    "id": "viD9YGpPfews"
   },
   "outputs": [],
   "source": [
    "def TenFoldValidation_BowTfIdf(summarisationData, classifier):\n",
    "    \n",
    "    accuracyResults = np.zeros([10])\n",
    "        \n",
    "    for counter in range(10):\n",
    "        x_trainDf = pd.read_csv ('../data/Train_Eval_Test_Data/Iteration' + str(counter + 1) + '/train' + str(counter + 1) + '.tsv', sep='\\t')\n",
    "        x_trainDf.columns = [\"json_id\", \"claim\", \"justification_label\"]\n",
    "\n",
    "        x_testDf = pd.read_csv ('../data/Train_Eval_Test_Data/Iteration' + str(counter + 1) + '/test' + str(counter + 1) + '.tsv', sep='\\t')\n",
    "        x_testDf.columns = [\"json_id\", \"claim\", \"justification_label\"]\n",
    "        \n",
    "        x_trainDf[\"summary\"] = \"\"\n",
    "        x_testDf[\"summary\"]  = \"\"\n",
    "        \n",
    "        addSummary(x_trainDf, summarisationData)\n",
    "        addSummary(x_testDf, summarisationData)\n",
    "        \n",
    "        y_trainDf = pd.DataFrame(data=x_trainDf[\"justification_label\"])\n",
    "        y_testDf  = pd.DataFrame(data=x_testDf[\"justification_label\"])\n",
    "        \n",
    "        trainClaimSumm  = []\n",
    "        yTrainLabels   = y_trainDf['justification_label'].tolist()\n",
    "\n",
    "        testClaimSumm   = []\n",
    "        yTestLabels    = y_testDf['justification_label'].tolist()\n",
    "\n",
    "        for index, row in x_trainDf.iterrows():\n",
    "            trainClaimSumm.append(cleanAndStemm(row['claim']) + cleanAndStemm(row['summary']))\n",
    "\n",
    "        for index, row in x_testDf.iterrows():\n",
    "            testClaimSumm.append(cleanAndStemm(row['claim']) + cleanAndStemm(row['summary']))\n",
    "\n",
    "            \n",
    "        # Convert words to number using Bag of Words (Bow)\n",
    "        vectorizer = CountVectorizer(max_features=30)\n",
    "        vectorizedTrain = vectorizer.fit_transform(trainClaimSumm).toarray()\n",
    "        vectorizedTest  = vectorizer.fit_transform(testClaimSumm).toarray()\n",
    "\n",
    "        # Convert Bow values according to TfIdf\n",
    "        tfidfconverter = TfidfTransformer()\n",
    "        XTrain = tfidfconverter.fit_transform(vectorizedTrain).toarray()\n",
    "        XTest  = tfidfconverter.fit_transform(vectorizedTest).toarray()\n",
    "\n",
    "        classifier.fit(XTrain,yTrainLabels)\n",
    "\n",
    "        yPredLabels = classifier.predict(XTest)\n",
    "        \n",
    "        accuracyScore = accuracy_score(yTestLabels,yPredLabels)\n",
    "        accuracyResults[counter] = accuracyScore\n",
    "\n",
    "        # ConfusionMatrixDisplay.from_predictions(yTestLabels, yPredLabels, cmap='Greens')\n",
    "#         print(classification_report(yTestLabels,yPredLabels))\n",
    "        print(\"Iteration:\",counter+1,\" Accuracy Score: \",accuracyScore)\n",
    "    \n",
    "    return accuracyResults, np.mean(accuracyResults)"
   ]
  },
  {
   "cell_type": "code",
   "execution_count": 20,
   "metadata": {
    "executionInfo": {
     "elapsed": 323,
     "status": "ok",
     "timestamp": 1648561705020,
     "user": {
      "displayName": "Vasileios Gkatsis",
      "userId": "03929032417908238113"
     },
     "user_tz": -180
    },
    "id": "7LN7BDdzq1xi"
   },
   "outputs": [],
   "source": [
    "def HyperParameterTuningBowTfIdf(summarisationData, classifier):\n",
    "\n",
    "    bestAccuracyVal  = 0.0\n",
    "    bestAccuracyTest = 0.0\n",
    "    bestClassifier = None\n",
    "\n",
    "    for counter in range(1):\n",
    "        print(\"Fold \", counter + 1, \" of tuning.\")\n",
    "        x_trainDf = pd.read_csv ('../data/Train_Eval_Test_Data/Iteration' + str(counter + 1) + '/train' + str(counter + 1) + '.tsv', sep='\\t')\n",
    "        x_trainDf.columns = [\"json_id\", \"claim\", \"justification_label\"]\n",
    "\n",
    "        x_valDf = pd.read_csv ('../data/Train_Eval_Test_Data/Iteration' + str(counter + 1) + '/val' + str(counter + 1) + '.tsv', sep='\\t')\n",
    "        x_valDf.columns = [\"json_id\", \"claim\", \"justification_label\"]\n",
    "        \n",
    "        x_trainDf[\"summary\"] = \"\"\n",
    "        x_valDf[\"summary\"] = \"\"\n",
    "        \n",
    "        addSummary(x_trainDf, summarisationData)\n",
    "        addSummary(x_valDf, summarisationData)\n",
    "        \n",
    "        y_trainDf = pd.DataFrame(data=x_trainDf[\"justification_label\"])\n",
    "        y_valDf = pd.DataFrame(data=x_valDf[\"justification_label\"])\n",
    "        \n",
    "        trainClaimSumm  = []\n",
    "        yTrainLabels   = y_trainDf['justification_label'].tolist()\n",
    "\n",
    "        valClaimSumm  = []\n",
    "        yValLabels   = y_valDf['justification_label'].tolist()\n",
    "\n",
    "        for index, row in x_trainDf.iterrows():\n",
    "            trainClaimSumm.append(cleanAndStemm(row['claim']) + cleanAndStemm(row['summary']))\n",
    "\n",
    "        for index, row in x_valDf.iterrows():\n",
    "            valClaimSumm.append(cleanAndStemm(row['claim']) + cleanAndStemm(row['summary']))\n",
    "\n",
    "            \n",
    "        # Convert words to number using Bag of Words (Bow)\n",
    "        vectorizer = CountVectorizer(max_features=30)\n",
    "        vectorizedTrain = vectorizer.fit_transform(trainClaimSumm).toarray()\n",
    "        vectorizedVal = vectorizer.fit_transform(valClaimSumm).toarray()\n",
    "\n",
    "        # Convert Bow values according to TfIdf\n",
    "        tfidfconverter = TfidfTransformer()\n",
    "        XTrain = tfidfconverter.fit_transform(vectorizedTrain).toarray()\n",
    "        XVal = tfidfconverter.fit_transform(vectorizedVal).toarray()\n",
    "\n",
    "#         X_train, X_test, y_train, y_test = train_test_split(XTrain, yTrainLabels,stratify=yTrainLabels, test_size=0.15)\n",
    "\n",
    "        classifier.fit(XTrain,yTrainLabels)\n",
    "\n",
    "#         yPredTest = classifier.best_estimator_.predict(X_test)\n",
    "\n",
    "        yPredVal = classifier.best_estimator_.predict(XVal)\n",
    "        \n",
    "#         accuracyTest = accuracy_score(y_test,yPredTest)\n",
    "        accuracyVal  = accuracy_score(yValLabels, yPredVal)\n",
    "\n",
    "        if accuracyVal >= bestAccuracyVal:\n",
    "#             bestAccuracyTest = accuracyTest\n",
    "            bestAccuracyVal = accuracyVal\n",
    "            bestModel = classifier.best_estimator_\n",
    "\n",
    "    return bestModel, bestAccuracyTest, bestAccuracyVal"
   ]
  },
  {
   "cell_type": "code",
   "execution_count": 15,
   "metadata": {
    "executionInfo": {
     "elapsed": 265,
     "status": "ok",
     "timestamp": 1648557162031,
     "user": {
      "displayName": "Vasileios Gkatsis",
      "userId": "03929032417908238113"
     },
     "user_tz": -180
    },
    "id": "opJ7rgctfews"
   },
   "outputs": [],
   "source": [
    "def TenFoldValidation_Word2Vec(summarisationData, classifier):\n",
    "    \n",
    "    accuracyResults = np.zeros([10])\n",
    "\n",
    "    for counter in range(10):\n",
    "        x_trainDf = pd.read_csv ('../data/Train_Eval_Test_Data/Iteration' + str(counter + 1) + '/train' + str(counter + 1) + '.tsv', sep='\\t')\n",
    "        x_trainDf.columns = [\"json_id\", \"claim\", \"justification_label\"]\n",
    "\n",
    "        x_testDf = pd.read_csv ('../data/Train_Eval_Test_Data/Iteration' + str(counter + 1) + '/test' + str(counter + 1) + '.tsv', sep='\\t')\n",
    "        x_testDf.columns = [\"json_id\", \"claim\", \"justification_label\"]\n",
    "        \n",
    "        x_trainDf[\"summary\"] = \"\"\n",
    "        x_testDf[\"summary\"]  = \"\"\n",
    "        \n",
    "        addSummary(x_trainDf, summarisationData)\n",
    "        addSummary(x_testDf, summarisationData)\n",
    "        \n",
    "        y_trainDf = pd.DataFrame(data=x_trainDf[\"justification_label\"])\n",
    "        y_testDf  = pd.DataFrame(data=x_testDf[\"justification_label\"])\n",
    "        \n",
    "        yTrainLabels   = y_trainDf['justification_label'].tolist()\n",
    "        yTestLabels    = y_testDf['justification_label'].tolist()\n",
    "        \n",
    "        # Transform the data into a list of lists for the Word2Vec model\n",
    "        w2vTrainClaimSum = []\n",
    "        w2vTestClaimSum  = []\n",
    "\n",
    "        for index, row in x_trainDf.iterrows():\n",
    "            w2vTrainClaimSum.append((cleanAndStemm(row['claim']) + cleanAndStemm(row['summary'])).split(\" \"))\n",
    "\n",
    "        for index, row in x_testDf.iterrows():\n",
    "            w2vTestClaimSum.append((cleanAndStemm(row['claim']) + cleanAndStemm(row['summary'])).split(\" \"))\n",
    "\n",
    "            \n",
    "        # Vectorize using Word2Vec\n",
    "\n",
    "        # min_count = 3 & size = 40 & window=8 & sg=1 \n",
    "\n",
    "        model = Word2Vec(sentences=w2vTrainClaimSum, min_count=3,size=40,workers=4, window=8, sg=1)\n",
    "\n",
    "        words = set(model.wv.index2word)\n",
    "        X_train_vect = np.array([np.array([model.wv[i] for i in ls if i in words])\n",
    "                                 for ls in w2vTrainClaimSum])\n",
    "        X_test_vect = np.array([np.array([model.wv[i] for i in ls if i in words])\n",
    "                                 for ls in w2vTestClaimSum])\n",
    "\n",
    "        X_train_vect_avg = []\n",
    "        for v in X_train_vect:\n",
    "            if v.size:\n",
    "                X_train_vect_avg.append(v.mean(axis=0))\n",
    "            else:\n",
    "                X_train_vect_avg.append(np.zeros(100, dtype=float))\n",
    "\n",
    "        X_test_vect_avg = []\n",
    "        for v in X_test_vect:\n",
    "            if v.size:\n",
    "                X_test_vect_avg.append(v.mean(axis=0))\n",
    "            else:\n",
    "                X_test_vect_avg.append(np.zeros(100, dtype=float))\n",
    "        \n",
    "        classifier.fit(X_train_vect_avg,yTrainLabels)\n",
    "\n",
    "        yPredLabels = classifier.predict(X_test_vect_avg)\n",
    "\n",
    "#         ConfusionMatrixDisplay.from_predictions(yTestLabels, yPredLabels, cmap='Greens')\n",
    "#         print(classification_report(yTestLabels,yPredLabels))\n",
    "\n",
    "        accuracyScore = accuracy_score(yTestLabels,yPredLabels)\n",
    "        accuracyResults[counter] = accuracyScore\n",
    "        \n",
    "        print(\"Iteration:\",counter+1,\" Accuracy Score: \",accuracyScore)\n",
    "        \n",
    "    return accuracyResults, np.mean(accuracyResults)"
   ]
  },
  {
   "cell_type": "code",
   "execution_count": 16,
   "metadata": {},
   "outputs": [],
   "source": [
    "def HyperParameterTuningWord2Vec(summarisationData, classifier):\n",
    "\n",
    "    bestAccuracyVal  = 0.0\n",
    "    bestAccuracyTest = 0.0\n",
    "    bestClassifier = None\n",
    "\n",
    "    for counter in range(10):\n",
    "        print(\"Fold \", counter + 1, \" of tuning.\")\n",
    "        x_trainDf = pd.read_csv ('../data/Train_Eval_Test_Data/Iteration' + str(counter + 1) + '/train' + str(counter + 1) + '.tsv', sep='\\t')\n",
    "        x_trainDf.columns = [\"json_id\", \"claim\", \"justification_label\"]\n",
    "\n",
    "        x_valDf = pd.read_csv ('../data/Train_Eval_Test_Data/Iteration' + str(counter + 1) + '/val' + str(counter + 1) + '.tsv', sep='\\t')\n",
    "        x_valDf.columns = [\"json_id\", \"claim\", \"justification_label\"]\n",
    "        \n",
    "        x_trainDf[\"summary\"] = \"\"\n",
    "        x_valDf[\"summary\"]  = \"\"\n",
    "        \n",
    "        addSummary(x_trainDf, summarisationData)\n",
    "        addSummary(x_valDf, summarisationData)\n",
    "        \n",
    "        y_trainDf = pd.DataFrame(data=x_trainDf[\"justification_label\"])\n",
    "        y_valDf  = pd.DataFrame(data=x_valDf[\"justification_label\"])\n",
    "        \n",
    "        yTrainLabels   = y_trainDf['justification_label'].tolist()\n",
    "        yValLabels    = y_valDf['justification_label'].tolist()\n",
    "        \n",
    "        # Transform the data into a list of lists for the Word2Vec model\n",
    "        w2vTrainClaimSum = []\n",
    "        w2vValClaimSum  = []\n",
    "\n",
    "        for index, row in x_trainDf.iterrows():\n",
    "            w2vTrainClaimSum.append((cleanAndStemm(row['claim']) + cleanAndStemm(row['summary'])).split(\" \"))\n",
    "\n",
    "        for index, row in x_valDf.iterrows():\n",
    "            w2vValClaimSum.append((cleanAndStemm(row['claim']) + cleanAndStemm(row['summary'])).split(\" \"))\n",
    "\n",
    "            \n",
    "        # Vectorize using Word2Vec\n",
    "\n",
    "        # min_count = 3 & size = 40 & window=8 & sg=1 \n",
    "\n",
    "        model = Word2Vec(sentences=w2vTrainClaimSum, min_count=3,size=40,workers=4, window=8, sg=1)\n",
    "\n",
    "        words = set(model.wv.index2word)\n",
    "        X_train_vect = np.array([np.array([model.wv[i] for i in ls if i in words])\n",
    "                                 for ls in w2vTrainClaimSum])\n",
    "        \n",
    "        \n",
    "        model = Word2Vec(sentences=w2vValClaimSum, min_count=3,size=40,workers=4, window=8, sg=1)\n",
    "\n",
    "        words = set(model.wv.index2word)\n",
    "        X_val_vect = np.array([np.array([model.wv[i] for i in ls if i in words])\n",
    "                                 for ls in w2vValClaimSum])\n",
    "\n",
    "        X_train_vect_avg = []\n",
    "        for v in X_train_vect:\n",
    "            if v.size:\n",
    "                X_train_vect_avg.append(v.mean(axis=0))\n",
    "            else:\n",
    "                X_train_vect_avg.append(np.zeros(100, dtype=float))\n",
    "\n",
    "        X_val_vect_avg = []\n",
    "        for v in X_val_vect:\n",
    "            if v.size:\n",
    "                X_val_vect_avg.append(v.mean(axis=0))\n",
    "            else:\n",
    "                X_val_vect_avg.append(np.zeros(100, dtype=float))\n",
    "\n",
    "#         X_train, X_test, y_train, y_test = train_test_split(XTrain, yTrainLabels,stratify=yTrainLabels, test_size=0.15)\n",
    "\n",
    "        classifier.fit(X_train_vect_avg,yTrainLabels)\n",
    "\n",
    "#         yPredTest = classifier.best_estimator_.predict(X_test)\n",
    "\n",
    "        yPredVal = classifier.best_estimator_.predict(X_val_vect_avg)\n",
    "        \n",
    "#         accuracyTest = accuracy_score(y_test,yPredTest)\n",
    "        accuracyVal  = accuracy_score(yValLabels, yPredVal)\n",
    "\n",
    "        if accuracyVal >= bestAccuracyVal:\n",
    "#             bestAccuracyTest = accuracyTest\n",
    "            bestAccuracyVal = accuracyVal\n",
    "            bestModel = classifier.best_estimator_\n",
    "\n",
    "    return bestModel, bestAccuracyTest, bestAccuracyVal"
   ]
  },
  {
   "cell_type": "code",
   "execution_count": 17,
   "metadata": {
    "executionInfo": {
     "elapsed": 5,
     "status": "ok",
     "timestamp": 1648557164335,
     "user": {
      "displayName": "Vasileios Gkatsis",
      "userId": "03929032417908238113"
     },
     "user_tz": -180
    },
    "id": "e-QtPSF1fewt"
   },
   "outputs": [],
   "source": [
    "import warnings\n",
    "warnings.filterwarnings('ignore')"
   ]
  },
  {
   "cell_type": "code",
   "execution_count": 17,
   "metadata": {
    "id": "E0hq25Xsfewt"
   },
   "outputs": [],
   "source": [
    "# from sklearn.dummy import DummyClassifier\n",
    "\n",
    "# # Dummy Classifier With Method Stratified\n",
    "\n",
    "# # Bow - Tf-Idf\n",
    "# print(\"\\n---- Bow - Tf-Idf Results----\\n\")\n",
    "# dummy_clf = DummyClassifier(strategy=\"stratified\")\n",
    "# accuracyPerIteration, meanAccuracy = TenFoldValidation_BowTfIdf(summarisationData, dummy_clf)\n",
    "# print(\"Mean Accuracy: \", meanAccuracy)\n",
    "\n",
    "# # Word 2 Vec\n",
    "# print(\"\\n---- Word2Vec Results----\\n\")\n",
    "# dummy_clf = DummyClassifier(strategy=\"stratified\")\n",
    "# accuracyPerIteration, meanAccuracy = TenFoldValidation_Word2Vec(summarisationData, dummy_clf)\n",
    "# print(\"Mean Accuracy: \",meanAccuracy)"
   ]
  },
  {
   "cell_type": "code",
   "execution_count": null,
   "metadata": {
    "colab": {
     "base_uri": "https://localhost:8080/"
    },
    "id": "2SS9WuAwfewu",
    "outputId": "c978999d-d2bf-44d3-8807-6c0153b6be05"
   },
   "outputs": [
    {
     "name": "stdout",
     "output_type": "stream",
     "text": [
      "Fold  1  of tuning.\n"
     ]
    }
   ],
   "source": [
    "from sklearn.ensemble import RandomForestClassifier\n",
    "\n",
    "# Random Forest Evaluation\n",
    "randForestClass = RandomForestClassifier()\n",
    "parameters = {\n",
    "              'criterion':('gini', 'entropy'), \n",
    "              'max_features':('auto', 'sqrt', 'log2'),\n",
    "              'n_estimators':[100, 1000, 1500, 2000, 2500, 3000, 4000, 5000]\n",
    "              # ,'max_depth': range(1,10)\n",
    "             }\n",
    "randForestClassifier = GridSearchCV(randForestClass, parameters, n_jobs = -1, cv=5, scoring='accuracy')\n",
    "# randForestClassifier.fit(XTrainVal, ytrainValLabels)\n",
    "# print(randForestClassifier.best_estimator_)\n",
    "\n",
    "bestModel, bestAccuracyTest, bestAccuracyVal = HyperParameterTuningBowTfIdf(summarisationData, randForestClassifier)\n",
    "print(\"Best Accuracy Test: \",bestAccuracyTest)\n",
    "print(\"Best Accuracy Val: \",bestAccuracyVal)\n",
    "\n",
    "# Random Forest Classification Method\n",
    "\n",
    "# Bow - Tf-Idf\n",
    "print(\"\\n---- Bow - Tf-Idf Results----\\n\")\n",
    "# randForestClas = RandomForestClassifier(n_estimators=1000, random_state=0)\n",
    "accuracyArrayX, meanAccuracyX = TenFoldValidation_BowTfIdf(summarisationData, bestModel)\n",
    "print(\"Mean Accuracy: \", meanAccuracyX)\n",
    "\n",
    "# from scipy.stats import wilcoxon\n",
    "# stat, p = wilcoxon(accuracyArrayX, accuracyArrayY)\n",
    "# print('Statistics=%.3f, p=%.3f' % (stat, p))"
   ]
  },
  {
   "cell_type": "code",
   "execution_count": null,
   "metadata": {
    "id": "AHT7A1xlhXTi",
    "outputId": "fdb04891-996d-4014-f09d-34f402628de1"
   },
   "outputs": [
    {
     "name": "stdout",
     "output_type": "stream",
     "text": [
      "Fitting 10 folds for each of 48 candidates, totalling 480 fits\n"
     ]
    },
    {
     "ename": "ValueError",
     "evalue": "setting an array element with a sequence.",
     "output_type": "error",
     "traceback": [
      "\u001b[0;31m---------------------------------------------------------------------------\u001b[0m",
      "\u001b[0;31mTypeError\u001b[0m                                 Traceback (most recent call last)",
      "\u001b[0;31mTypeError\u001b[0m: only size-1 arrays can be converted to Python scalars",
      "\nThe above exception was the direct cause of the following exception:\n",
      "\u001b[0;31mValueError\u001b[0m                                Traceback (most recent call last)",
      "\u001b[0;32m<ipython-input-122-b0c5cc9d8db5>\u001b[0m in \u001b[0;36m<module>\u001b[0;34m\u001b[0m\n\u001b[1;32m      9\u001b[0m              }\n\u001b[1;32m     10\u001b[0m \u001b[0mrandForestClassifier\u001b[0m \u001b[0;34m=\u001b[0m \u001b[0mGridSearchCV\u001b[0m\u001b[0;34m(\u001b[0m\u001b[0mrandForestClass\u001b[0m\u001b[0;34m,\u001b[0m \u001b[0mparameters\u001b[0m\u001b[0;34m,\u001b[0m \u001b[0mn_jobs\u001b[0m \u001b[0;34m=\u001b[0m \u001b[0;34m-\u001b[0m\u001b[0;36m1\u001b[0m\u001b[0;34m,\u001b[0m \u001b[0mverbose\u001b[0m\u001b[0;34m=\u001b[0m\u001b[0;36m20\u001b[0m\u001b[0;34m,\u001b[0m \u001b[0mcv\u001b[0m\u001b[0;34m=\u001b[0m\u001b[0;36m10\u001b[0m\u001b[0;34m,\u001b[0m \u001b[0mscoring\u001b[0m\u001b[0;34m=\u001b[0m\u001b[0;34m'accuracy'\u001b[0m\u001b[0;34m)\u001b[0m\u001b[0;34m\u001b[0m\u001b[0;34m\u001b[0m\u001b[0m\n\u001b[0;32m---> 11\u001b[0;31m \u001b[0mrandForestClassifier\u001b[0m\u001b[0;34m.\u001b[0m\u001b[0mfit\u001b[0m\u001b[0;34m(\u001b[0m\u001b[0mX_trainVal_vect\u001b[0m\u001b[0;34m,\u001b[0m \u001b[0mytrainValLabels\u001b[0m\u001b[0;34m)\u001b[0m\u001b[0;34m\u001b[0m\u001b[0;34m\u001b[0m\u001b[0m\n\u001b[0m\u001b[1;32m     12\u001b[0m \u001b[0mprint\u001b[0m\u001b[0;34m(\u001b[0m\u001b[0mrandForestClassifier\u001b[0m\u001b[0;34m.\u001b[0m\u001b[0mbest_estimator_\u001b[0m\u001b[0;34m)\u001b[0m\u001b[0;34m\u001b[0m\u001b[0;34m\u001b[0m\u001b[0m\n\u001b[1;32m     13\u001b[0m \u001b[0;34m\u001b[0m\u001b[0m\n",
      "\u001b[0;32m/usr/local/lib/python3.8/dist-packages/sklearn/model_selection/_search.py\u001b[0m in \u001b[0;36mfit\u001b[0;34m(self, X, y, groups, **fit_params)\u001b[0m\n\u001b[1;32m    924\u001b[0m             \u001b[0mrefit_start_time\u001b[0m \u001b[0;34m=\u001b[0m \u001b[0mtime\u001b[0m\u001b[0;34m.\u001b[0m\u001b[0mtime\u001b[0m\u001b[0;34m(\u001b[0m\u001b[0;34m)\u001b[0m\u001b[0;34m\u001b[0m\u001b[0;34m\u001b[0m\u001b[0m\n\u001b[1;32m    925\u001b[0m             \u001b[0;32mif\u001b[0m \u001b[0my\u001b[0m \u001b[0;32mis\u001b[0m \u001b[0;32mnot\u001b[0m \u001b[0;32mNone\u001b[0m\u001b[0;34m:\u001b[0m\u001b[0;34m\u001b[0m\u001b[0;34m\u001b[0m\u001b[0m\n\u001b[0;32m--> 926\u001b[0;31m                 \u001b[0mself\u001b[0m\u001b[0;34m.\u001b[0m\u001b[0mbest_estimator_\u001b[0m\u001b[0;34m.\u001b[0m\u001b[0mfit\u001b[0m\u001b[0;34m(\u001b[0m\u001b[0mX\u001b[0m\u001b[0;34m,\u001b[0m \u001b[0my\u001b[0m\u001b[0;34m,\u001b[0m \u001b[0;34m**\u001b[0m\u001b[0mfit_params\u001b[0m\u001b[0;34m)\u001b[0m\u001b[0;34m\u001b[0m\u001b[0;34m\u001b[0m\u001b[0m\n\u001b[0m\u001b[1;32m    927\u001b[0m             \u001b[0;32melse\u001b[0m\u001b[0;34m:\u001b[0m\u001b[0;34m\u001b[0m\u001b[0;34m\u001b[0m\u001b[0m\n\u001b[1;32m    928\u001b[0m                 \u001b[0mself\u001b[0m\u001b[0;34m.\u001b[0m\u001b[0mbest_estimator_\u001b[0m\u001b[0;34m.\u001b[0m\u001b[0mfit\u001b[0m\u001b[0;34m(\u001b[0m\u001b[0mX\u001b[0m\u001b[0;34m,\u001b[0m \u001b[0;34m**\u001b[0m\u001b[0mfit_params\u001b[0m\u001b[0;34m)\u001b[0m\u001b[0;34m\u001b[0m\u001b[0;34m\u001b[0m\u001b[0m\n",
      "\u001b[0;32m/usr/local/lib/python3.8/dist-packages/sklearn/ensemble/_forest.py\u001b[0m in \u001b[0;36mfit\u001b[0;34m(self, X, y, sample_weight)\u001b[0m\n\u001b[1;32m    325\u001b[0m         \u001b[0;32mif\u001b[0m \u001b[0missparse\u001b[0m\u001b[0;34m(\u001b[0m\u001b[0my\u001b[0m\u001b[0;34m)\u001b[0m\u001b[0;34m:\u001b[0m\u001b[0;34m\u001b[0m\u001b[0;34m\u001b[0m\u001b[0m\n\u001b[1;32m    326\u001b[0m             \u001b[0;32mraise\u001b[0m \u001b[0mValueError\u001b[0m\u001b[0;34m(\u001b[0m\u001b[0;34m\"sparse multilabel-indicator for y is not supported.\"\u001b[0m\u001b[0;34m)\u001b[0m\u001b[0;34m\u001b[0m\u001b[0;34m\u001b[0m\u001b[0m\n\u001b[0;32m--> 327\u001b[0;31m         X, y = self._validate_data(\n\u001b[0m\u001b[1;32m    328\u001b[0m             \u001b[0mX\u001b[0m\u001b[0;34m,\u001b[0m \u001b[0my\u001b[0m\u001b[0;34m,\u001b[0m \u001b[0mmulti_output\u001b[0m\u001b[0;34m=\u001b[0m\u001b[0;32mTrue\u001b[0m\u001b[0;34m,\u001b[0m \u001b[0maccept_sparse\u001b[0m\u001b[0;34m=\u001b[0m\u001b[0;34m\"csc\"\u001b[0m\u001b[0;34m,\u001b[0m \u001b[0mdtype\u001b[0m\u001b[0;34m=\u001b[0m\u001b[0mDTYPE\u001b[0m\u001b[0;34m\u001b[0m\u001b[0;34m\u001b[0m\u001b[0m\n\u001b[1;32m    329\u001b[0m         )\n",
      "\u001b[0;32m/usr/local/lib/python3.8/dist-packages/sklearn/base.py\u001b[0m in \u001b[0;36m_validate_data\u001b[0;34m(self, X, y, reset, validate_separately, **check_params)\u001b[0m\n\u001b[1;32m    579\u001b[0m                 \u001b[0my\u001b[0m \u001b[0;34m=\u001b[0m \u001b[0mcheck_array\u001b[0m\u001b[0;34m(\u001b[0m\u001b[0my\u001b[0m\u001b[0;34m,\u001b[0m \u001b[0;34m**\u001b[0m\u001b[0mcheck_y_params\u001b[0m\u001b[0;34m)\u001b[0m\u001b[0;34m\u001b[0m\u001b[0;34m\u001b[0m\u001b[0m\n\u001b[1;32m    580\u001b[0m             \u001b[0;32melse\u001b[0m\u001b[0;34m:\u001b[0m\u001b[0;34m\u001b[0m\u001b[0;34m\u001b[0m\u001b[0m\n\u001b[0;32m--> 581\u001b[0;31m                 \u001b[0mX\u001b[0m\u001b[0;34m,\u001b[0m \u001b[0my\u001b[0m \u001b[0;34m=\u001b[0m \u001b[0mcheck_X_y\u001b[0m\u001b[0;34m(\u001b[0m\u001b[0mX\u001b[0m\u001b[0;34m,\u001b[0m \u001b[0my\u001b[0m\u001b[0;34m,\u001b[0m \u001b[0;34m**\u001b[0m\u001b[0mcheck_params\u001b[0m\u001b[0;34m)\u001b[0m\u001b[0;34m\u001b[0m\u001b[0;34m\u001b[0m\u001b[0m\n\u001b[0m\u001b[1;32m    582\u001b[0m             \u001b[0mout\u001b[0m \u001b[0;34m=\u001b[0m \u001b[0mX\u001b[0m\u001b[0;34m,\u001b[0m \u001b[0my\u001b[0m\u001b[0;34m\u001b[0m\u001b[0;34m\u001b[0m\u001b[0m\n\u001b[1;32m    583\u001b[0m \u001b[0;34m\u001b[0m\u001b[0m\n",
      "\u001b[0;32m/usr/local/lib/python3.8/dist-packages/sklearn/utils/validation.py\u001b[0m in \u001b[0;36mcheck_X_y\u001b[0;34m(X, y, accept_sparse, accept_large_sparse, dtype, order, copy, force_all_finite, ensure_2d, allow_nd, multi_output, ensure_min_samples, ensure_min_features, y_numeric, estimator)\u001b[0m\n\u001b[1;32m    962\u001b[0m         \u001b[0;32mraise\u001b[0m \u001b[0mValueError\u001b[0m\u001b[0;34m(\u001b[0m\u001b[0;34m\"y cannot be None\"\u001b[0m\u001b[0;34m)\u001b[0m\u001b[0;34m\u001b[0m\u001b[0;34m\u001b[0m\u001b[0m\n\u001b[1;32m    963\u001b[0m \u001b[0;34m\u001b[0m\u001b[0m\n\u001b[0;32m--> 964\u001b[0;31m     X = check_array(\n\u001b[0m\u001b[1;32m    965\u001b[0m         \u001b[0mX\u001b[0m\u001b[0;34m,\u001b[0m\u001b[0;34m\u001b[0m\u001b[0;34m\u001b[0m\u001b[0m\n\u001b[1;32m    966\u001b[0m         \u001b[0maccept_sparse\u001b[0m\u001b[0;34m=\u001b[0m\u001b[0maccept_sparse\u001b[0m\u001b[0;34m,\u001b[0m\u001b[0;34m\u001b[0m\u001b[0;34m\u001b[0m\u001b[0m\n",
      "\u001b[0;32m/usr/local/lib/python3.8/dist-packages/sklearn/utils/validation.py\u001b[0m in \u001b[0;36mcheck_array\u001b[0;34m(array, accept_sparse, accept_large_sparse, dtype, order, copy, force_all_finite, ensure_2d, allow_nd, ensure_min_samples, ensure_min_features, estimator)\u001b[0m\n\u001b[1;32m    744\u001b[0m                     \u001b[0marray\u001b[0m \u001b[0;34m=\u001b[0m \u001b[0marray\u001b[0m\u001b[0;34m.\u001b[0m\u001b[0mastype\u001b[0m\u001b[0;34m(\u001b[0m\u001b[0mdtype\u001b[0m\u001b[0;34m,\u001b[0m \u001b[0mcasting\u001b[0m\u001b[0;34m=\u001b[0m\u001b[0;34m\"unsafe\"\u001b[0m\u001b[0;34m,\u001b[0m \u001b[0mcopy\u001b[0m\u001b[0;34m=\u001b[0m\u001b[0;32mFalse\u001b[0m\u001b[0;34m)\u001b[0m\u001b[0;34m\u001b[0m\u001b[0;34m\u001b[0m\u001b[0m\n\u001b[1;32m    745\u001b[0m                 \u001b[0;32melse\u001b[0m\u001b[0;34m:\u001b[0m\u001b[0;34m\u001b[0m\u001b[0;34m\u001b[0m\u001b[0m\n\u001b[0;32m--> 746\u001b[0;31m                     \u001b[0marray\u001b[0m \u001b[0;34m=\u001b[0m \u001b[0mnp\u001b[0m\u001b[0;34m.\u001b[0m\u001b[0masarray\u001b[0m\u001b[0;34m(\u001b[0m\u001b[0marray\u001b[0m\u001b[0;34m,\u001b[0m \u001b[0morder\u001b[0m\u001b[0;34m=\u001b[0m\u001b[0morder\u001b[0m\u001b[0;34m,\u001b[0m \u001b[0mdtype\u001b[0m\u001b[0;34m=\u001b[0m\u001b[0mdtype\u001b[0m\u001b[0;34m)\u001b[0m\u001b[0;34m\u001b[0m\u001b[0;34m\u001b[0m\u001b[0m\n\u001b[0m\u001b[1;32m    747\u001b[0m             \u001b[0;32mexcept\u001b[0m \u001b[0mComplexWarning\u001b[0m \u001b[0;32mas\u001b[0m \u001b[0mcomplex_warning\u001b[0m\u001b[0;34m:\u001b[0m\u001b[0;34m\u001b[0m\u001b[0;34m\u001b[0m\u001b[0m\n\u001b[1;32m    748\u001b[0m                 raise ValueError(\n",
      "\u001b[0;31mValueError\u001b[0m: setting an array element with a sequence."
     ]
    }
   ],
   "source": [
    "from sklearn.ensemble import RandomForestClassifier\n",
    "\n",
    "# Random Forest Evaluation\n",
    "randForestClass = RandomForestClassifier()\n",
    "parameters = {\n",
    "              'criterion':('gini', 'entropy'), \n",
    "              'max_features':('auto', 'sqrt', 'log2'),\n",
    "              'n_estimators':[100, 1000, 1500, 2000, 2500, 3000, 4000, 5000]\n",
    "             }\n",
    "randForestClassifier = GridSearchCV(randForestClass, parameters, n_jobs = -1, verbose=20, cv=10, scoring='accuracy')\n",
    "randForestClassifier.fit(X_trainVal_vect, ytrainValLabels)\n",
    "print(randForestClassifier.best_estimator_)\n",
    "\n",
    "# Random Forest Classification Method\n",
    "\n",
    "# Word2Vec\n",
    "print(\"\\n---- Word2Vec Results----\\n\")\n",
    "# randForestClas = RandomForestClassifier(n_estimators=1000, random_state=0)\n",
    "accuracyArrayY, meanAccuracyY = TenFoldValidation_Word2Vec(summarisationData, randForestClassifier.best_estimator_)\n",
    "print(\"Mean Accuracy: \", meanAccuracyY)\n",
    "\n",
    "# from scipy.stats import wilcoxon\n",
    "# stat, p = wilcoxon(accuracyArrayX, accuracyArrayY)\n",
    "# print('Statistics=%.3f, p=%.3f' % (stat, p))"
   ]
  },
  {
   "cell_type": "code",
   "execution_count": 26,
   "metadata": {
    "colab": {
     "base_uri": "https://localhost:8080/"
    },
    "executionInfo": {
     "elapsed": 22113,
     "status": "ok",
     "timestamp": 1648562260780,
     "user": {
      "displayName": "Vasileios Gkatsis",
      "userId": "03929032417908238113"
     },
     "user_tz": -180
    },
    "id": "nqhpSlkCfewv",
    "outputId": "706b2905-dc91-4224-c38e-d9f16c7cc0a4"
   },
   "outputs": [
    {
     "name": "stdout",
     "output_type": "stream",
     "text": [
      "Fold  1  of tuning.\n",
      "Best Accuracy Test:  0.0\n",
      "Best Accuracy Val:  0.3076923076923077\n",
      "\n",
      "---- Bow - Tf-Idf Results----\n",
      "\n",
      "Iteration: 1  Accuracy Score:  0.38461538461538464\n",
      "Iteration: 2  Accuracy Score:  0.38461538461538464\n",
      "Iteration: 3  Accuracy Score:  0.3076923076923077\n",
      "Iteration: 4  Accuracy Score:  0.4166666666666667\n",
      "Iteration: 5  Accuracy Score:  0.25\n",
      "Iteration: 6  Accuracy Score:  0.5833333333333334\n",
      "Iteration: 7  Accuracy Score:  0.25\n",
      "Iteration: 8  Accuracy Score:  0.4166666666666667\n",
      "Iteration: 9  Accuracy Score:  0.25\n",
      "Iteration: 10  Accuracy Score:  0.4166666666666667\n",
      "Mean Accuracy:  0.366025641025641\n"
     ]
    }
   ],
   "source": [
    "from sklearn.neighbors import KNeighborsClassifier\n",
    "\n",
    "# # K-Neighbors Evaluation\n",
    "kNeighborsClas = KNeighborsClassifier()\n",
    "parameters = {\n",
    "              'weights':('uniform', 'distance'), \n",
    "              'algorithm':('auto', 'ball_tree', 'kd_tree', 'brute'),\n",
    "              'n_neighbors':range(1,50)\n",
    "             }\n",
    "kNClassifier = GridSearchCV(kNeighborsClas, parameters, n_jobs=-1, cv=10, scoring='accuracy')\n",
    "# kNClassifier.fit(XTrainVal, ytrainValLabels)\n",
    "# print(kNClassifier.best_estimator_)\n",
    "\n",
    "bestModel, bestAccuracyTest, bestAccuracyVal = HyperParameterTuningBowTfIdf(summarisationData, kNClassifier)\n",
    "print(\"Best Accuracy Test: \",bestAccuracyTest)\n",
    "print(\"Best Accuracy Val: \",bestAccuracyVal)\n",
    "# K-Neighbors Classifier\n",
    "\n",
    "# Bow - Tf-Idf\n",
    "print(\"\\n---- Bow - Tf-Idf Results----\\n\")\n",
    "# kNeighborsClas = KNeighborsClassifier(n_neighbors=4)\n",
    "accuracyArrayX, meanAccuracyX = TenFoldValidation_BowTfIdf(summarisationData, bestModel)\n",
    "print(\"Mean Accuracy: \", meanAccuracyX)"
   ]
  },
  {
   "cell_type": "code",
   "execution_count": 92,
   "metadata": {
    "colab": {
     "base_uri": "https://localhost:8080/",
     "height": 234
    },
    "executionInfo": {
     "elapsed": 321,
     "status": "error",
     "timestamp": 1648561956275,
     "user": {
      "displayName": "Vasileios Gkatsis",
      "userId": "03929032417908238113"
     },
     "user_tz": -180
    },
    "id": "V4sBQt9JhXTj",
    "outputId": "c646bf0b-579a-4ffe-c725-101334eda056"
   },
   "outputs": [
    {
     "name": "stdout",
     "output_type": "stream",
     "text": [
      "Fold  1  of tuning.\n",
      "Fold  2  of tuning.\n",
      "Fold  3  of tuning.\n",
      "Fold  4  of tuning.\n",
      "Fold  5  of tuning.\n",
      "Fold  6  of tuning.\n",
      "Fold  7  of tuning.\n",
      "Fold  8  of tuning.\n",
      "Fold  9  of tuning.\n",
      "Fold  10  of tuning.\n",
      "Best Accuracy Test:  0.0\n",
      "Best Accuracy Val:  0.4166666666666667\n",
      "\n",
      "---- Word2Vec Results----\n",
      "\n",
      "Iteration: 1  Accuracy Score:  0.23076923076923078\n",
      "Iteration: 2  Accuracy Score:  0.07692307692307693\n",
      "Iteration: 3  Accuracy Score:  0.38461538461538464\n",
      "Iteration: 4  Accuracy Score:  0.4166666666666667\n",
      "Iteration: 5  Accuracy Score:  0.4166666666666667\n",
      "Iteration: 6  Accuracy Score:  0.25\n",
      "Iteration: 7  Accuracy Score:  0.3333333333333333\n",
      "Iteration: 8  Accuracy Score:  0.25\n",
      "Iteration: 9  Accuracy Score:  0.25\n",
      "Iteration: 10  Accuracy Score:  0.5833333333333334\n",
      "Mean Accuracy:  0.31923076923076926\n"
     ]
    }
   ],
   "source": [
    "from sklearn.neighbors import KNeighborsClassifier\n",
    "\n",
    "# K-Neighbors Evaluation\n",
    "kNeighborsClas = KNeighborsClassifier()\n",
    "parameters = {\n",
    "              'weights':('uniform', 'distance'), \n",
    "              'algorithm':('auto', 'ball_tree', 'kd_tree', 'brute'),\n",
    "              'n_neighbors':range(1,150)\n",
    "             }\n",
    "kNClassifier = GridSearchCV(kNeighborsClas, parameters, n_jobs=-1, cv=5, scoring='accuracy')\n",
    "# kNClassifier.fit(X_trainVal_vect_avg, ytrainValLabels)\n",
    "# print(kNClassifier.best_estimator_)\n",
    "\n",
    "bestModel, bestAccuracyTest, bestAccuracyVal = HyperParameterTuning(summarisationData, kNClassifier)\n",
    "print(\"Best Accuracy Test: \",bestAccuracyTest)\n",
    "print(\"Best Accuracy Val: \",bestAccuracyVal)\n",
    "\n",
    "# K-Neighbors Classifier\n",
    "\n",
    "print(\"\\n---- Word2Vec Results----\\n\")\n",
    "# # Word2Vec\n",
    "# kNeighborsClas = KNeighborsClassifier(n_neighbors=3)\n",
    "accuracyArrayY, meanAccuracyY = TenFoldValidation_Word2Vec(summarisationData, bestModel)\n",
    "print(\"Mean Accuracy: \", meanAccuracyY)"
   ]
  },
  {
   "cell_type": "code",
   "execution_count": 18,
   "metadata": {
    "colab": {
     "base_uri": "https://localhost:8080/"
    },
    "executionInfo": {
     "elapsed": 9964,
     "status": "ok",
     "timestamp": 1648562404334,
     "user": {
      "displayName": "Vasileios Gkatsis",
      "userId": "03929032417908238113"
     },
     "user_tz": -180
    },
    "id": "O_GR1NPKfewv",
    "outputId": "76987623-b8ee-4a04-d1a4-6eef6961da01"
   },
   "outputs": [
    {
     "ename": "NameError",
     "evalue": "name 'HyperParameterTuning' is not defined",
     "output_type": "error",
     "traceback": [
      "\u001b[0;31m---------------------------------------------------------------------------\u001b[0m",
      "\u001b[0;31mNameError\u001b[0m                                 Traceback (most recent call last)",
      "\u001b[0;32m<ipython-input-18-dd9edd250406>\u001b[0m in \u001b[0;36m<module>\u001b[0;34m\u001b[0m\n\u001b[1;32m     12\u001b[0m \u001b[0;31m# print(svmClassifier.best_estimator_)\u001b[0m\u001b[0;34m\u001b[0m\u001b[0;34m\u001b[0m\u001b[0;34m\u001b[0m\u001b[0m\n\u001b[1;32m     13\u001b[0m \u001b[0;34m\u001b[0m\u001b[0m\n\u001b[0;32m---> 14\u001b[0;31m \u001b[0mbestModel\u001b[0m\u001b[0;34m,\u001b[0m \u001b[0mbestAccuracyTest\u001b[0m\u001b[0;34m,\u001b[0m \u001b[0mbestAccuracyVal\u001b[0m \u001b[0;34m=\u001b[0m \u001b[0mHyperParameterTuning\u001b[0m\u001b[0;34m(\u001b[0m\u001b[0msummarisationData\u001b[0m\u001b[0;34m,\u001b[0m \u001b[0msvmClassifier\u001b[0m\u001b[0;34m)\u001b[0m\u001b[0;34m\u001b[0m\u001b[0;34m\u001b[0m\u001b[0m\n\u001b[0m\u001b[1;32m     15\u001b[0m \u001b[0mprint\u001b[0m\u001b[0;34m(\u001b[0m\u001b[0;34m\"Best Accuracy Test: \"\u001b[0m\u001b[0;34m,\u001b[0m\u001b[0mbestAccuracyTest\u001b[0m\u001b[0;34m)\u001b[0m\u001b[0;34m\u001b[0m\u001b[0;34m\u001b[0m\u001b[0m\n\u001b[1;32m     16\u001b[0m \u001b[0mprint\u001b[0m\u001b[0;34m(\u001b[0m\u001b[0;34m\"Best Accuracy Val: \"\u001b[0m\u001b[0;34m,\u001b[0m\u001b[0mbestAccuracyVal\u001b[0m\u001b[0;34m)\u001b[0m\u001b[0;34m\u001b[0m\u001b[0;34m\u001b[0m\u001b[0m\n",
      "\u001b[0;31mNameError\u001b[0m: name 'HyperParameterTuning' is not defined"
     ]
    }
   ],
   "source": [
    "from sklearn.svm import SVC\n",
    "\n",
    "# SVM Classifier Evaluation\n",
    "svmClass = SVC()\n",
    "parameters = {\n",
    "                'kernel':('linear', 'rbf', 'poly', 'sigmoid'),\n",
    "                'gamma': ('scale', 'auto'),\n",
    "                'C': [0.01, 0.1, 1, 2, 10, 100]\n",
    "             }\n",
    "svmClassifier = GridSearchCV(svmClass, parameters, n_jobs = -1, cv=10, scoring='accuracy')\n",
    "# svmClassifier.fit(XTrainVal, ytrainValLabels)\n",
    "# print(svmClassifier.best_estimator_)\n",
    "\n",
    "bestModel, bestAccuracyTest, bestAccuracyVal = HyperParameterTuning(summarisationData, svmClassifier)\n",
    "print(\"Best Accuracy Test: \",bestAccuracyTest)\n",
    "print(\"Best Accuracy Val: \",bestAccuracyVal)\n",
    "\n",
    "# SVM Classifier\n",
    "\n",
    "# Bow - Tf-Idf\n",
    "print(\"\\n---- Bow - Tf-Idf Results----\\n\")\n",
    "svmClas = SVC()\n",
    "accuracyArrayX, meanAccuracyX = TenFoldValidation_BowTfIdf(summarisationData, bestModel)\n",
    "print(\"Mean Accuracy: \", meanAccuracyX)"
   ]
  },
  {
   "cell_type": "code",
   "execution_count": 48,
   "metadata": {
    "colab": {
     "base_uri": "https://localhost:8080/"
    },
    "executionInfo": {
     "elapsed": 12390,
     "status": "ok",
     "timestamp": 1648562665909,
     "user": {
      "displayName": "Vasileios Gkatsis",
      "userId": "03929032417908238113"
     },
     "user_tz": -180
    },
    "id": "M69paAlQhXTk",
    "outputId": "cdf3a9fd-3144-48c5-8395-d42572299f78"
   },
   "outputs": [
    {
     "name": "stdout",
     "output_type": "stream",
     "text": [
      "Fold  1  of tuning.\n",
      "Fold  2  of tuning.\n",
      "Fold  3  of tuning.\n",
      "Fold  4  of tuning.\n",
      "Fold  5  of tuning.\n",
      "Fold  6  of tuning.\n",
      "Fold  7  of tuning.\n",
      "Fold  8  of tuning.\n",
      "Fold  9  of tuning.\n",
      "Fold  10  of tuning.\n",
      "Best Accuracy Test:  0.0\n",
      "Best Accuracy Val:  0.5384615384615384\n",
      "\n",
      "---- Bow - Tf-Idf Results----\n",
      "\n",
      "Iteration: 1  Accuracy Score:  0.5384615384615384\n",
      "Iteration: 2  Accuracy Score:  0.5384615384615384\n",
      "Iteration: 3  Accuracy Score:  0.23076923076923078\n",
      "Iteration: 4  Accuracy Score:  0.5\n",
      "Iteration: 5  Accuracy Score:  0.25\n",
      "Iteration: 6  Accuracy Score:  0.4166666666666667\n",
      "Iteration: 7  Accuracy Score:  0.25\n",
      "Iteration: 8  Accuracy Score:  0.5833333333333334\n",
      "Iteration: 9  Accuracy Score:  0.4166666666666667\n",
      "Iteration: 10  Accuracy Score:  0.3333333333333333\n",
      "Mean Accuracy:  0.40576923076923077\n"
     ]
    }
   ],
   "source": [
    "from sklearn.svm import LinearSVC\n",
    "\n",
    "# Linear SVC Classifier Evaluation\n",
    "linearSVC = LinearSVC()\n",
    "parameters = {\n",
    "                'loss': ('hinge', 'squared_hinge'),\n",
    "                'multi_class': ('ovr', 'crammer_singer'),\n",
    "                'C': [0.01, 0.1, 1.0, 2.0, 10.0, 100.0],\n",
    "                'max_iter': [1000, 2000, 5000, 10000]\n",
    "             }\n",
    "linearSVCClassifier = GridSearchCV(linearSVC, parameters, n_jobs = -1, cv=5, scoring='accuracy')\n",
    "# linearSVCClassifier.fit(XTrainVal, ytrainValLabels)\n",
    "# print(linearSVCClassifier.best_estimator_)\n",
    "\n",
    "bestModel, bestAccuracyTest, bestAccuracyVal = HyperParameterTuning(summarisationData, linearSVCClassifier)\n",
    "print(\"Best Accuracy Test: \",bestAccuracyTest)\n",
    "print(\"Best Accuracy Val: \",bestAccuracyVal)\n",
    "\n",
    "# SVM Classifier\n",
    "\n",
    "# Bow - Tf-Idf\n",
    "print(\"\\n---- Bow - Tf-Idf Results----\\n\")\n",
    "accuracyArrayX, meanAccuracyX = TenFoldValidation_BowTfIdf(summarisationData, bestModel)\n",
    "print(\"Mean Accuracy: \", meanAccuracyX)"
   ]
  },
  {
   "cell_type": "code",
   "execution_count": 96,
   "metadata": {
    "id": "cQBZlEAfhXTk",
    "outputId": "af6c8a5b-a6c1-4b60-85e6-3b890a3c9b31"
   },
   "outputs": [
    {
     "name": "stdout",
     "output_type": "stream",
     "text": [
      "Fold  1  of tuning.\n",
      "Fold  2  of tuning.\n",
      "Fold  3  of tuning.\n",
      "Fold  4  of tuning.\n",
      "Fold  5  of tuning.\n",
      "Fold  6  of tuning.\n",
      "Fold  7  of tuning.\n",
      "Fold  8  of tuning.\n",
      "Fold  9  of tuning.\n",
      "Fold  10  of tuning.\n",
      "Best Accuracy Test:  0.0\n",
      "Best Accuracy Val:  0.5384615384615384\n",
      "\n",
      "---- Word2Vec Results----\n",
      "\n",
      "Iteration: 1  Accuracy Score:  0.46153846153846156\n",
      "Iteration: 2  Accuracy Score:  0.3076923076923077\n",
      "Iteration: 3  Accuracy Score:  0.38461538461538464\n",
      "Iteration: 4  Accuracy Score:  0.4166666666666667\n",
      "Iteration: 5  Accuracy Score:  0.4166666666666667\n",
      "Iteration: 6  Accuracy Score:  0.4166666666666667\n",
      "Iteration: 7  Accuracy Score:  0.3333333333333333\n",
      "Iteration: 8  Accuracy Score:  0.08333333333333333\n",
      "Iteration: 9  Accuracy Score:  0.16666666666666666\n",
      "Iteration: 10  Accuracy Score:  0.3333333333333333\n",
      "Mean Accuracy:  0.3320512820512821\n"
     ]
    }
   ],
   "source": [
    "from sklearn.svm import SVC\n",
    "\n",
    "# SVM Classifier Evaluation\n",
    "svmClass = SVC()\n",
    "parameters = {\n",
    "                'kernel':('linear', 'rbf', 'poly', 'sigmoid'),\n",
    "                'gamma': ('scale', 'auto'),\n",
    "                'C': [0.01, 0.1, 1, 2, 10, 100]\n",
    "             }\n",
    "svmClassifier = GridSearchCV(svmClass, parameters, n_jobs = -1, cv=10, scoring='accuracy')\n",
    "# svmClassifier.fit(X_trainVal_vect_avg, ytrainValLabels)\n",
    "# print(svmClassifier.best_estimator_)\n",
    "\n",
    "bestModel, bestAccuracyTest, bestAccuracyVal = HyperParameterTuning(summarisationData, svmClassifier)\n",
    "print(\"Best Accuracy Test: \",bestAccuracyTest)\n",
    "print(\"Best Accuracy Val: \",bestAccuracyVal)\n",
    "\n",
    "# SVM Classifier\n",
    "\n",
    "print(\"\\n---- Word2Vec Results----\\n\")\n",
    "# Word2Vec\n",
    "svmClas = SVC()\n",
    "accuracyArrayY, meanAccuracyY = TenFoldValidation_Word2Vec(summarisationData, bestModel)\n",
    "print(\"Mean Accuracy: \", meanAccuracyY)"
   ]
  },
  {
   "cell_type": "code",
   "execution_count": 97,
   "metadata": {
    "colab": {
     "base_uri": "https://localhost:8080/"
    },
    "executionInfo": {
     "elapsed": 277870,
     "status": "ok",
     "timestamp": 1648539439969,
     "user": {
      "displayName": "Vasileios Gkatsis",
      "userId": "03929032417908238113"
     },
     "user_tz": -180
    },
    "id": "BBh5p3YbhXTk",
    "outputId": "e612e6d8-3707-48c3-bef4-17960dab14c5"
   },
   "outputs": [
    {
     "name": "stdout",
     "output_type": "stream",
     "text": [
      "Fold  1  of tuning.\n",
      "Fold  2  of tuning.\n",
      "Fold  3  of tuning.\n",
      "Fold  4  of tuning.\n",
      "Fold  5  of tuning.\n",
      "Fold  6  of tuning.\n",
      "Fold  7  of tuning.\n",
      "Fold  8  of tuning.\n",
      "Fold  9  of tuning.\n",
      "Fold  10  of tuning.\n",
      "Best Accuracy Test:  0.0\n",
      "Best Accuracy Val:  0.46153846153846156\n",
      "\n",
      "---- Word2Vec Results----\n",
      "\n",
      "Iteration: 1  Accuracy Score:  0.46153846153846156\n",
      "Iteration: 2  Accuracy Score:  0.38461538461538464\n",
      "Iteration: 3  Accuracy Score:  0.46153846153846156\n",
      "Iteration: 4  Accuracy Score:  0.4166666666666667\n",
      "Iteration: 5  Accuracy Score:  0.4166666666666667\n",
      "Iteration: 6  Accuracy Score:  0.25\n",
      "Iteration: 7  Accuracy Score:  0.3333333333333333\n",
      "Iteration: 8  Accuracy Score:  0.25\n",
      "Iteration: 9  Accuracy Score:  0.25\n",
      "Iteration: 10  Accuracy Score:  0.25\n",
      "Mean Accuracy:  0.3474358974358974\n"
     ]
    }
   ],
   "source": [
    "from sklearn.svm import LinearSVC\n",
    "\n",
    "# Linear SVC Classifier Evaluation\n",
    "linearSVC = LinearSVC()\n",
    "parameters = {\n",
    "                'loss': ('hinge', 'squared_hinge'),\n",
    "                'multi_class': ('ovr', 'crammer_singer'),\n",
    "                'C': [0.01, 0.1, 1.0, 2.0, 10.0, 100.0],\n",
    "                'max_iter': [1000, 2000, 5000, 10000]\n",
    "             }\n",
    "linearSVCClassifier = GridSearchCV(linearSVC, parameters, n_jobs = -1, cv=10, scoring='accuracy')\n",
    "# linearSVCClassifier.fit(X_trainVal_vect_avg, ytrainValLabels)\n",
    "# print(linearSVCClassifier.best_estimator_)\n",
    "\n",
    "bestModel, bestAccuracyTest, bestAccuracyVal = HyperParameterTuning(summarisationData, linearSVCClassifier)\n",
    "print(\"Best Accuracy Test: \",bestAccuracyTest)\n",
    "print(\"Best Accuracy Val: \",bestAccuracyVal)\n",
    "\n",
    "# SVM Classifier\n",
    "\n",
    "print(\"\\n---- Word2Vec Results----\\n\")\n",
    "# Word2Vec\n",
    "accuracyArrayY, meanAccuracyY = TenFoldValidation_Word2Vec(summarisationData, bestModel)\n",
    "print(\"Mean Accuracy: \", meanAccuracyY)"
   ]
  },
  {
   "cell_type": "code",
   "execution_count": 51,
   "metadata": {
    "colab": {
     "base_uri": "https://localhost:8080/"
    },
    "executionInfo": {
     "elapsed": 8198,
     "status": "ok",
     "timestamp": 1648562759472,
     "user": {
      "displayName": "Vasileios Gkatsis",
      "userId": "03929032417908238113"
     },
     "user_tz": -180
    },
    "id": "owKzevG9feww",
    "outputId": "9d6bdfc6-a904-4f58-ff2f-de42ad9eb34d"
   },
   "outputs": [
    {
     "name": "stdout",
     "output_type": "stream",
     "text": [
      "Fold  1  of tuning.\n",
      "Fold  2  of tuning.\n",
      "Fold  3  of tuning.\n",
      "Fold  4  of tuning.\n",
      "Fold  5  of tuning.\n",
      "Fold  6  of tuning.\n",
      "Fold  7  of tuning.\n",
      "Fold  8  of tuning.\n",
      "Fold  9  of tuning.\n",
      "Fold  10  of tuning.\n",
      "Best Accuracy Test:  0.0\n",
      "Best Accuracy Val:  0.46153846153846156\n",
      "\n",
      "---- Bow - Tf-Idf Results----\n",
      "\n",
      "Iteration: 1  Accuracy Score:  0.46153846153846156\n",
      "Iteration: 2  Accuracy Score:  0.46153846153846156\n",
      "Iteration: 3  Accuracy Score:  0.3076923076923077\n",
      "Iteration: 4  Accuracy Score:  0.4166666666666667\n",
      "Iteration: 5  Accuracy Score:  0.25\n",
      "Iteration: 6  Accuracy Score:  0.5\n",
      "Iteration: 7  Accuracy Score:  0.16666666666666666\n",
      "Iteration: 8  Accuracy Score:  0.5833333333333334\n",
      "Iteration: 9  Accuracy Score:  0.25\n",
      "Iteration: 10  Accuracy Score:  0.3333333333333333\n",
      "Mean Accuracy:  0.37307692307692314\n"
     ]
    }
   ],
   "source": [
    "from sklearn.gaussian_process import GaussianProcessClassifier\n",
    "\n",
    "# Gaussian Process Classifier Evaluation\n",
    "gaussianProcClas = GaussianProcessClassifier()\n",
    "parameters = {\n",
    "                'multi_class': ('one_vs_rest', 'one_vs_one'),\n",
    "                'max_iter_predict': [100, 200, 300, 400, 500]\n",
    "             }\n",
    "gaussianProcClassifier = GridSearchCV(gaussianProcClas, parameters, n_jobs = -1, cv=10, scoring='accuracy')\n",
    "# gaussianProcClassifier.fit(XTrainVal, ytrasinValLabels)\n",
    "# print(gaussianProcClassifier.best_estimator_)\n",
    "\n",
    "bestModel, bestAccuracyTest, bestAccuracyVal = HyperParameterTuning(summarisationData, gaussianProcClassifier)\n",
    "print(\"Best Accuracy Test: \",bestAccuracyTest)\n",
    "print(\"Best Accuracy Val: \",bestAccuracyVal)\n",
    "\n",
    "# Gaussian Process Classifier\n",
    "\n",
    "# Bow - Tf-Idf\n",
    "print(\"\\n---- Bow - Tf-Idf Results----\\n\")\n",
    "# gaussianProcClas = GaussianProcessClassifier()\n",
    "accuracyArrayX, meanAccuracyX = TenFoldValidation_BowTfIdf(summarisationData, bestModel)\n",
    "print(\"Mean Accuracy: \", meanAccuracyX)"
   ]
  },
  {
   "cell_type": "code",
   "execution_count": 98,
   "metadata": {
    "id": "WBXN0fy8hXTl",
    "outputId": "0766a7f9-d516-435c-a557-b0fd6552f353"
   },
   "outputs": [
    {
     "name": "stdout",
     "output_type": "stream",
     "text": [
      "Fold  1  of tuning.\n",
      "Fold  2  of tuning.\n",
      "Fold  3  of tuning.\n",
      "Fold  4  of tuning.\n",
      "Fold  5  of tuning.\n",
      "Fold  6  of tuning.\n",
      "Fold  7  of tuning.\n",
      "Fold  8  of tuning.\n",
      "Fold  9  of tuning.\n",
      "Fold  10  of tuning.\n",
      "Best Accuracy Test:  0.0\n",
      "Best Accuracy Val:  0.46153846153846156\n",
      "\n",
      "---- Word2Vec Results----\n",
      "\n",
      "Iteration: 1  Accuracy Score:  0.3076923076923077\n",
      "Iteration: 2  Accuracy Score:  0.3076923076923077\n",
      "Iteration: 3  Accuracy Score:  0.3076923076923077\n",
      "Iteration: 4  Accuracy Score:  0.16666666666666666\n",
      "Iteration: 5  Accuracy Score:  0.4166666666666667\n",
      "Iteration: 6  Accuracy Score:  0.5833333333333334\n",
      "Iteration: 7  Accuracy Score:  0.3333333333333333\n",
      "Iteration: 8  Accuracy Score:  0.25\n",
      "Iteration: 9  Accuracy Score:  0.25\n",
      "Iteration: 10  Accuracy Score:  0.25\n",
      "Mean Accuracy:  0.31730769230769235\n"
     ]
    }
   ],
   "source": [
    "from sklearn.gaussian_process import GaussianProcessClassifier\n",
    "\n",
    "# Gaussian Process Classifier Evaluation\n",
    "gaussianProcClas = GaussianProcessClassifier()\n",
    "parameters = {\n",
    "                'multi_class': ('one_vs_rest', 'one_vs_one'),\n",
    "                'max_iter_predict': [100, 200, 300, 400, 500]\n",
    "             }\n",
    "gaussianProcClassifier = GridSearchCV(gaussianProcClas, parameters, n_jobs = -1, cv=10, scoring='accuracy')\n",
    "# gaussianProcClassifier.fit(X_trainVal_vect_avg, ytrainValLabels)\n",
    "# print(gaussianProcClassifier.best_estimator_)\n",
    "\n",
    "bestModel, bestAccuracyTest, bestAccuracyVal = HyperParameterTuning(summarisationData, gaussianProcClassifier)\n",
    "print(\"Best Accuracy Test: \",bestAccuracyTest)\n",
    "print(\"Best Accuracy Val: \",bestAccuracyVal)\n",
    "\n",
    "# Gaussian Process Classifier\n",
    "\n",
    "print(\"\\n---- Word2Vec Results----\\n\")\n",
    "# Word2Vec\n",
    "# gaussianProcClas = GaussianProcessClassifier()\n",
    "accuracyArrayY, meanAccuracyY = TenFoldValidation_Word2Vec(summarisationData, bestModel)\n",
    "print(\"Mean Accuracy: \", meanAccuracyY)"
   ]
  },
  {
   "cell_type": "code",
   "execution_count": 60,
   "metadata": {
    "colab": {
     "base_uri": "https://localhost:8080/"
    },
    "executionInfo": {
     "elapsed": 7242,
     "status": "ok",
     "timestamp": 1648562872991,
     "user": {
      "displayName": "Vasileios Gkatsis",
      "userId": "03929032417908238113"
     },
     "user_tz": -180
    },
    "id": "kd-9Kwcifewx",
    "outputId": "ad554019-e705-4a52-fc8e-829c6a8b4637"
   },
   "outputs": [
    {
     "name": "stdout",
     "output_type": "stream",
     "text": [
      "Fold  1  of tuning.\n",
      "Fold  2  of tuning.\n",
      "Fold  3  of tuning.\n",
      "Fold  4  of tuning.\n",
      "Fold  5  of tuning.\n",
      "Fold  6  of tuning.\n",
      "Fold  7  of tuning.\n",
      "Fold  8  of tuning.\n",
      "Fold  9  of tuning.\n",
      "Fold  10  of tuning.\n",
      "Best Accuracy Test:  0.0\n",
      "Best Accuracy Val:  0.5\n",
      "\n",
      "---- Bow - Tf-Idf Results----\n",
      "\n",
      "Iteration: 1  Accuracy Score:  0.23076923076923078\n",
      "Iteration: 2  Accuracy Score:  0.46153846153846156\n",
      "Iteration: 3  Accuracy Score:  0.07692307692307693\n",
      "Iteration: 4  Accuracy Score:  0.5833333333333334\n",
      "Iteration: 5  Accuracy Score:  0.25\n",
      "Iteration: 6  Accuracy Score:  0.3333333333333333\n",
      "Iteration: 7  Accuracy Score:  0.3333333333333333\n",
      "Iteration: 8  Accuracy Score:  0.4166666666666667\n",
      "Iteration: 9  Accuracy Score:  0.4166666666666667\n",
      "Iteration: 10  Accuracy Score:  0.3333333333333333\n",
      "Mean Accuracy:  0.3435897435897436\n"
     ]
    }
   ],
   "source": [
    "from sklearn.tree import DecisionTreeClassifier\n",
    "\n",
    "# Decision Tree Classifier Evaluation\n",
    "\n",
    "decisionTreeClas = DecisionTreeClassifier()\n",
    "parameters = {\n",
    "                'criterion': ('gini', 'entropy'),\n",
    "                'splitter': ('best', 'random'),\n",
    "                'max_features':  ('auto', 'sqrt', 'log2', 'None')\n",
    "             }\n",
    "decisionTreeClassifier = GridSearchCV(decisionTreeClas, parameters, n_jobs = -1, cv=20, scoring='accuracy')\n",
    "# decisionTreeClassifier.fit(XTrainVal, ytrainValLabels)\n",
    "# # print(decisionTreeClassifier.best_estimator_)\n",
    "\n",
    "bestModel, bestAccuracyTest, bestAccuracyVal = HyperParameterTuning(summarisationData, decisionTreeClassifier)\n",
    "print(\"Best Accuracy Test: \",bestAccuracyTest)\n",
    "print(\"Best Accuracy Val: \",bestAccuracyVal)\n",
    "\n",
    "# Decision Tree Classifier\n",
    "\n",
    "# Bow - Tf-Idf\n",
    "print(\"\\n---- Bow - Tf-Idf Results----\\n\")\n",
    "decisionTreeClas = DecisionTreeClassifier()\n",
    "accuracyArrayX, meanAccuracyX = TenFoldValidation_BowTfIdf(summarisationData, bestModel)\n",
    "print(\"Mean Accuracy: \", meanAccuracyX)"
   ]
  },
  {
   "cell_type": "code",
   "execution_count": 99,
   "metadata": {
    "id": "8LJCRQCVhXTl",
    "outputId": "ed9854c8-20ae-482e-e560-390f9d3d60fb"
   },
   "outputs": [
    {
     "name": "stdout",
     "output_type": "stream",
     "text": [
      "Fold  1  of tuning.\n",
      "Fold  2  of tuning.\n",
      "Fold  3  of tuning.\n",
      "Fold  4  of tuning.\n",
      "Fold  5  of tuning.\n",
      "Fold  6  of tuning.\n",
      "Fold  7  of tuning.\n",
      "Fold  8  of tuning.\n",
      "Fold  9  of tuning.\n",
      "Fold  10  of tuning.\n",
      "Best Accuracy Test:  0.0\n",
      "Best Accuracy Val:  0.5833333333333334\n",
      "\n",
      "---- Word2Vec Results----\n",
      "\n",
      "Iteration: 1  Accuracy Score:  0.5384615384615384\n",
      "Iteration: 2  Accuracy Score:  0.23076923076923078\n",
      "Iteration: 3  Accuracy Score:  0.46153846153846156\n",
      "Iteration: 4  Accuracy Score:  0.3333333333333333\n",
      "Iteration: 5  Accuracy Score:  0.6666666666666666\n",
      "Iteration: 6  Accuracy Score:  0.4166666666666667\n",
      "Iteration: 7  Accuracy Score:  0.25\n",
      "Iteration: 8  Accuracy Score:  0.3333333333333333\n",
      "Iteration: 9  Accuracy Score:  0.5833333333333334\n",
      "Iteration: 10  Accuracy Score:  0.4166666666666667\n",
      "Mean Accuracy:  0.4230769230769231\n"
     ]
    }
   ],
   "source": [
    "from sklearn.tree import DecisionTreeClassifier\n",
    "\n",
    "# Decision Tree Classifier Evaluation\n",
    "\n",
    "decisionTreeClas = DecisionTreeClassifier()\n",
    "parameters = {\n",
    "                'criterion': ('gini', 'entropy'),\n",
    "                'splitter': ('best', 'random'),\n",
    "                'max_features':  ('auto', 'sqrt', 'log2', 'None')\n",
    "             }\n",
    "decisionTreeClassifier = GridSearchCV(decisionTreeClas, parameters, n_jobs = -1, cv=10, scoring='accuracy')\n",
    "# decisionTreeClassifier.fit(X_trainVal_vect_avg, ytrainValLabels)\n",
    "# print(decisionTreeClassifier.best_estimator_)\n",
    "\n",
    "bestModel, bestAccuracyTest, bestAccuracyVal = HyperParameterTuning(summarisationData, decisionTreeClassifier)\n",
    "print(\"Best Accuracy Test: \",bestAccuracyTest)\n",
    "print(\"Best Accuracy Val: \",bestAccuracyVal)\n",
    "\n",
    "# Decision Tree Classifier\n",
    "\n",
    "print(\"\\n---- Word2Vec Results----\\n\")\n",
    "# Word2Vec\n",
    "decisionTreeClas = DecisionTreeClassifier()\n",
    "accuracyArrayY, meanAccuracyY = TenFoldValidation_Word2Vec(summarisationData, bestModel)\n",
    "print(\"Mean Accuracy: \", meanAccuracyY)"
   ]
  },
  {
   "cell_type": "code",
   "execution_count": 64,
   "metadata": {
    "colab": {
     "base_uri": "https://localhost:8080/"
    },
    "executionInfo": {
     "elapsed": 37231,
     "status": "ok",
     "timestamp": 1648563470122,
     "user": {
      "displayName": "Vasileios Gkatsis",
      "userId": "03929032417908238113"
     },
     "user_tz": -180
    },
    "id": "AXd0eDA7fewx",
    "outputId": "40f1fcd6-581d-48e9-c11c-0e76832ccfa5"
   },
   "outputs": [
    {
     "name": "stdout",
     "output_type": "stream",
     "text": [
      "Fold  1  of tuning.\n",
      "Fold  2  of tuning.\n",
      "Fold  3  of tuning.\n",
      "Fold  4  of tuning.\n",
      "Fold  5  of tuning.\n",
      "Fold  6  of tuning.\n",
      "Fold  7  of tuning.\n",
      "Fold  8  of tuning.\n",
      "Fold  9  of tuning.\n",
      "Fold  10  of tuning.\n",
      "Best Accuracy Test:  0.0\n",
      "Best Accuracy Val:  0.5384615384615384\n",
      "\n",
      "---- Bow - Tf-Idf Results----\n",
      "\n",
      "Iteration: 1  Accuracy Score:  0.5384615384615384\n",
      "Iteration: 2  Accuracy Score:  0.38461538461538464\n",
      "Iteration: 3  Accuracy Score:  0.15384615384615385\n",
      "Iteration: 4  Accuracy Score:  0.3333333333333333\n",
      "Iteration: 5  Accuracy Score:  0.25\n",
      "Iteration: 6  Accuracy Score:  0.5833333333333334\n",
      "Iteration: 7  Accuracy Score:  0.3333333333333333\n",
      "Iteration: 8  Accuracy Score:  0.6666666666666666\n",
      "Iteration: 9  Accuracy Score:  0.4166666666666667\n",
      "Iteration: 10  Accuracy Score:  0.25\n",
      "Mean Accuracy:  0.391025641025641\n"
     ]
    }
   ],
   "source": [
    "from sklearn.ensemble import AdaBoostClassifier\n",
    "\n",
    "# Ada Boost Classifier Evaluation\n",
    "\n",
    "adaBoostClas = AdaBoostClassifier()\n",
    "parameters = {\n",
    "                'n_estimators':  [10, 50, 100, 150, 200, 250, 300]\n",
    "             }\n",
    "adaBoostClassifier = GridSearchCV(adaBoostClas, parameters, n_jobs = -1, cv=2, scoring='accuracy')\n",
    "# adaBoostClassifier.fit(XTrainVal, ytrainValLabels)\n",
    "# print(adaBoostClassifier.best_estimator_)\n",
    "\n",
    "bestModel, bestAccuracyTest, bestAccuracyVal = HyperParameterTuning(summarisationData, adaBoostClassifier)\n",
    "print(\"Best Accuracy Test: \",bestAccuracyTest)\n",
    "print(\"Best Accuracy Val: \",bestAccuracyVal)\n",
    "\n",
    "# Ada Boost Classifier\n",
    "\n",
    "# Bow - Tf-Idf\n",
    "print(\"\\n---- Bow - Tf-Idf Results----\\n\")\n",
    "adaBoostClas = AdaBoostClassifier()\n",
    "accuracyArrayX, meanAccuracyX = TenFoldValidation_BowTfIdf(summarisationData, bestModel)\n",
    "print(\"Mean Accuracy: \", meanAccuracyX)"
   ]
  },
  {
   "cell_type": "code",
   "execution_count": 100,
   "metadata": {
    "id": "48kB-VVbhXTm",
    "outputId": "dce704ad-f287-4935-c9a5-9d48802c42e3"
   },
   "outputs": [
    {
     "name": "stdout",
     "output_type": "stream",
     "text": [
      "Fold  1  of tuning.\n",
      "Fold  2  of tuning.\n",
      "Fold  3  of tuning.\n",
      "Fold  4  of tuning.\n",
      "Fold  5  of tuning.\n",
      "Fold  6  of tuning.\n",
      "Fold  7  of tuning.\n",
      "Fold  8  of tuning.\n",
      "Fold  9  of tuning.\n",
      "Fold  10  of tuning.\n",
      "Best Accuracy Test:  0.0\n",
      "Best Accuracy Val:  0.6923076923076923\n",
      "\n",
      "---- Word2Vec Results----\n",
      "\n",
      "Iteration: 1  Accuracy Score:  0.5384615384615384\n",
      "Iteration: 2  Accuracy Score:  0.23076923076923078\n",
      "Iteration: 3  Accuracy Score:  0.46153846153846156\n",
      "Iteration: 4  Accuracy Score:  0.5\n",
      "Iteration: 5  Accuracy Score:  0.25\n",
      "Iteration: 6  Accuracy Score:  0.25\n",
      "Iteration: 7  Accuracy Score:  0.5\n",
      "Iteration: 8  Accuracy Score:  0.4166666666666667\n",
      "Iteration: 9  Accuracy Score:  0.6666666666666666\n",
      "Iteration: 10  Accuracy Score:  0.6666666666666666\n",
      "Mean Accuracy:  0.4480769230769231\n"
     ]
    }
   ],
   "source": [
    "from sklearn.ensemble import AdaBoostClassifier\n",
    "\n",
    "# Ada Boost Classifier Evaluation\n",
    "\n",
    "adaBoostClas = AdaBoostClassifier()\n",
    "parameters = {\n",
    "                'n_estimators':  [50, 100, 150, 200]\n",
    "             }\n",
    "adaBoostClassifier = GridSearchCV(adaBoostClas, parameters, n_jobs = -1, cv=5, scoring='accuracy')\n",
    "# adaBoostClassifier.fit(X_trainVal_vect_avg, ytrainValLabels)\n",
    "# print(adaBoostClassifier.best_estimator_)\n",
    "\n",
    "bestModel, bestAccuracyTest, bestAccuracyVal = HyperParameterTuning(summarisationData, adaBoostClassifier)\n",
    "print(\"Best Accuracy Test: \",bestAccuracyTest)\n",
    "print(\"Best Accuracy Val: \",bestAccuracyVal)\n",
    "\n",
    "# Ada Boost Classifier\n",
    "\n",
    "print(\"\\n---- Word2Vec Results----\\n\")\n",
    "# Word2Vec\n",
    "adaBoostClas = AdaBoostClassifier()\n",
    "accuracyArrayY, meanAccuracyY = TenFoldValidation_Word2Vec(summarisationData, bestModel)\n",
    "print(\"Mean Accuracy: \", meanAccuracyY)"
   ]
  },
  {
   "cell_type": "code",
   "execution_count": 73,
   "metadata": {
    "colab": {
     "base_uri": "https://localhost:8080/"
    },
    "executionInfo": {
     "elapsed": 3498,
     "status": "ok",
     "timestamp": 1648560536128,
     "user": {
      "displayName": "Vasileios Gkatsis",
      "userId": "03929032417908238113"
     },
     "user_tz": -180
    },
    "id": "roeJFqb0fewy",
    "outputId": "74ac76a4-d1cb-4b0b-85ec-a188dcafc2a9"
   },
   "outputs": [
    {
     "name": "stdout",
     "output_type": "stream",
     "text": [
      "Fold  1  of tuning.\n",
      "Fold  2  of tuning.\n",
      "Fold  3  of tuning.\n",
      "Fold  4  of tuning.\n",
      "Fold  5  of tuning.\n",
      "Fold  6  of tuning.\n",
      "Fold  7  of tuning.\n",
      "Fold  8  of tuning.\n",
      "Fold  9  of tuning.\n",
      "Fold  10  of tuning.\n",
      "Best AccuracyVal:  0.46153846153846156\n",
      "\n",
      "---- Bow - Tf-Idf Results----\n",
      "\n",
      "Iteration: 1  Accuracy Score:  0.46153846153846156\n",
      "Iteration: 2  Accuracy Score:  0.46153846153846156\n",
      "Iteration: 3  Accuracy Score:  0.23076923076923078\n",
      "Iteration: 4  Accuracy Score:  0.6666666666666666\n",
      "Iteration: 5  Accuracy Score:  0.25\n",
      "Iteration: 6  Accuracy Score:  0.5\n",
      "Iteration: 7  Accuracy Score:  0.25\n",
      "Iteration: 8  Accuracy Score:  0.5833333333333334\n",
      "Iteration: 9  Accuracy Score:  0.25\n",
      "Iteration: 10  Accuracy Score:  0.3333333333333333\n",
      "Mean Accuracy:  0.39871794871794874\n"
     ]
    }
   ],
   "source": [
    "from sklearn.naive_bayes import MultinomialNB\n",
    "\n",
    "# Multinomial Naive Bayes Classifier\n",
    "multiNBClas = MultinomialNB()\n",
    "parameters = {\n",
    "                'alpha': [1, 0, 1e-1, 1e-2, 1e-3, 1e-4, 1e-5, 1e-6, 1e-7]\n",
    "             }\n",
    "multiNBClassifier = GridSearchCV(multiNBClas, parameters, n_jobs = -1, cv=2, scoring='accuracy')\n",
    "# multiNBClassifier.fit(XTrainVal, ytrainValLabels)\n",
    "# print(multiNBClassifier.best_estimator_)\n",
    "\n",
    "bestModel, bestAccuracyTest, bestAccuracyVal = HyperParameterTuning(summarisationData, multiNBClassifier)\n",
    "print(\"Best AccuracyVal: \",bestAccuracyVal)\n",
    "\n",
    "# Bow - Tf-Idf\n",
    "print(\"\\n---- Bow - Tf-Idf Results----\\n\")\n",
    "accuracyArrayX, meanAccuracyX = TenFoldValidation_BowTfIdf(summarisationData, bestModel)\n",
    "print(\"Mean Accuracy: \", meanAccuracyX)"
   ]
  },
  {
   "cell_type": "code",
   "execution_count": 77,
   "metadata": {
    "colab": {
     "base_uri": "https://localhost:8080/"
    },
    "executionInfo": {
     "elapsed": 749439,
     "status": "ok",
     "timestamp": 1648561326394,
     "user": {
      "displayName": "Vasileios Gkatsis",
      "userId": "03929032417908238113"
     },
     "user_tz": -180
    },
    "id": "H4sto5o8fewy",
    "outputId": "1acaff74-9a4f-4af2-9386-b43812b28d04"
   },
   "outputs": [
    {
     "name": "stdout",
     "output_type": "stream",
     "text": [
      "Fold  1  of tuning.\n",
      "Fold  2  of tuning.\n",
      "Fold  3  of tuning.\n",
      "Fold  4  of tuning.\n",
      "Fold  5  of tuning.\n",
      "Fold  6  of tuning.\n",
      "Fold  7  of tuning.\n",
      "Fold  8  of tuning.\n",
      "Fold  9  of tuning.\n",
      "Fold  10  of tuning.\n",
      "Best AccuracyVal:  0.6153846153846154\n",
      "\n",
      "---- Bow - Tf-Idf Results----\n",
      "\n",
      "Iteration: 1  Accuracy Score:  0.46153846153846156\n",
      "Iteration: 2  Accuracy Score:  0.5384615384615384\n",
      "Iteration: 3  Accuracy Score:  0.3076923076923077\n",
      "Iteration: 4  Accuracy Score:  0.6666666666666666\n",
      "Iteration: 5  Accuracy Score:  0.08333333333333333\n",
      "Iteration: 6  Accuracy Score:  0.4166666666666667\n",
      "Iteration: 7  Accuracy Score:  0.25\n",
      "Iteration: 8  Accuracy Score:  0.5833333333333334\n",
      "Iteration: 9  Accuracy Score:  0.25\n",
      "Iteration: 10  Accuracy Score:  0.4166666666666667\n",
      "Mean Accuracy:  0.39743589743589747\n"
     ]
    }
   ],
   "source": [
    "from sklearn.linear_model import SGDClassifier\n",
    "\n",
    "# SGD Classifier\n",
    "\n",
    "sgdClas = SGDClassifier()\n",
    "parameters = {\n",
    "                'penalty': ('l2', 'l1', 'elasticnet'),\n",
    "                'alpha': [1e-1, 1e-2, 1e-3, 1e-4, 1e-5, 1e-6, 1e-7],\n",
    "                'max_iter' : [500, 1000, 10000],\n",
    "                'tol': [1e-1, 1e-2, 1e-3, 1e-4, 1e-5, 1e-6, 1e-7],\n",
    "                'n_iter_no_change': [5, 10, 15, 20],\n",
    "                'early_stopping': (True, False)\n",
    "             }\n",
    "sgdClassifier = GridSearchCV(sgdClas, parameters, n_jobs = -1, cv=10, scoring='accuracy')\n",
    "# sgdClassifier.fit(XTrainVal, ytrainValLabels)\n",
    "# print(adaBoostClassifier.best_estimator_)\n",
    "\n",
    "bestModel, bestAccuracyTest, bestAccuracyVal = HyperParameterTuning(summarisationData, sgdClassifier)\n",
    "print(\"Best AccuracyVal: \",bestAccuracyVal)\n",
    "\n",
    "# Bow - Tf-Idf\n",
    "print(\"\\n---- Bow - Tf-Idf Results----\\n\")\n",
    "# sgdClas = SGDClassifier(loss='hinge', penalty='l2',alpha=1e-3, random_state=42,max_iter=500, tol=None)\n",
    "accuracyArrayX, meanAccuracyX = TenFoldValidation_BowTfIdf(summarisationData, bestModel)\n",
    "print(\"Mean Accuracy: \", meanAccuracyX)"
   ]
  },
  {
   "cell_type": "code",
   "execution_count": 101,
   "metadata": {
    "id": "WelxW61VhXTn",
    "outputId": "bc700a88-c742-499d-f955-b43160ea98a3"
   },
   "outputs": [
    {
     "name": "stdout",
     "output_type": "stream",
     "text": [
      "Fold  1  of tuning.\n",
      "Fold  2  of tuning.\n",
      "Fold  3  of tuning.\n",
      "Fold  4  of tuning.\n",
      "Fold  5  of tuning.\n",
      "Fold  6  of tuning.\n",
      "Fold  7  of tuning.\n",
      "Fold  8  of tuning.\n",
      "Fold  9  of tuning.\n",
      "Fold  10  of tuning.\n",
      "Best Accuracy Test:  0.0\n",
      "Best Accuracy Val:  0.5\n",
      "\n",
      "---- Word2Vec Results----\n",
      "\n",
      "Iteration: 1  Accuracy Score:  0.3076923076923077\n",
      "Iteration: 2  Accuracy Score:  0.3076923076923077\n",
      "Iteration: 3  Accuracy Score:  0.3076923076923077\n",
      "Iteration: 4  Accuracy Score:  0.3333333333333333\n",
      "Iteration: 5  Accuracy Score:  0.3333333333333333\n",
      "Iteration: 6  Accuracy Score:  0.3333333333333333\n",
      "Iteration: 7  Accuracy Score:  0.3333333333333333\n",
      "Iteration: 8  Accuracy Score:  0.3333333333333333\n",
      "Iteration: 9  Accuracy Score:  0.3333333333333333\n",
      "Iteration: 10  Accuracy Score:  0.3333333333333333\n",
      "Mean Accuracy:  0.32564102564102565\n"
     ]
    }
   ],
   "source": [
    "from sklearn.linear_model import SGDClassifier\n",
    "\n",
    "# SGD Classifier\n",
    "\n",
    "sgdClas = SGDClassifier()\n",
    "parameters = {\n",
    "                'penalty': ('l2', 'l1', 'elasticnet'),\n",
    "                'alpha': [1e-1, 1e-2, 1e-3, 1e-4, 1e-5, 1e-6, 1e-7],\n",
    "                'max_iter' : [500, 1000, 10000],\n",
    "                'tol': [1e-1, 1e-2, 1e-3, 1e-4, 1e-5, 1e-6, 1e-7],\n",
    "                'n_iter_no_change': [5, 10, 15, 20],\n",
    "                'early_stopping': (True, False)\n",
    "             }\n",
    "sgdClassifier = GridSearchCV(sgdClas, parameters, n_jobs = -1, cv=10, scoring='accuracy')\n",
    "# sgdClassifier.fit(X_trainVal_vect_avg, ytrainValLabels)\n",
    "# print(adaBoostClassifier.best_estimator_)\n",
    "\n",
    "bestModel, bestAccuracyTest, bestAccuracyVal = HyperParameterTuning(summarisationData, sgdClassifier)\n",
    "print(\"Best Accuracy Test: \",bestAccuracyTest)\n",
    "print(\"Best Accuracy Val: \",bestAccuracyVal)\n",
    "\n",
    "print(\"\\n---- Word2Vec Results----\\n\")\n",
    "# Word2Vec\n",
    "# sgdClas = SGDClassifier(loss='hinge', penalty='l2',alpha=1e-3, random_state=42,max_iter=500, tol=None)\n",
    "accuracyArrayY, meanAccuracyY = TenFoldValidation_Word2Vec(summarisationData, bestModel)\n",
    "print(\"Mean Accuracy: \", meanAccuracyY)"
   ]
  },
  {
   "cell_type": "code",
   "execution_count": 90,
   "metadata": {
    "id": "bSW008pwfewz"
   },
   "outputs": [
    {
     "name": "stdout",
     "output_type": "stream",
     "text": [
      "Fold  1  of tuning.\n",
      "Fold  2  of tuning.\n",
      "Fold  3  of tuning.\n",
      "Fold  4  of tuning.\n",
      "Fold  5  of tuning.\n",
      "Fold  6  of tuning.\n",
      "Fold  7  of tuning.\n",
      "Fold  8  of tuning.\n",
      "Fold  9  of tuning.\n",
      "Fold  10  of tuning.\n",
      "Best AccuracyVal:  0.46153846153846156\n",
      "\n",
      "---- Bow - Tf-Idf Results----\n",
      "\n",
      "Iteration: 1  Accuracy Score:  0.46153846153846156\n",
      "Iteration: 2  Accuracy Score:  0.5384615384615384\n",
      "Iteration: 3  Accuracy Score:  0.23076923076923078\n",
      "Iteration: 4  Accuracy Score:  0.3333333333333333\n",
      "Iteration: 5  Accuracy Score:  0.25\n",
      "Iteration: 6  Accuracy Score:  0.4166666666666667\n",
      "Iteration: 7  Accuracy Score:  0.25\n",
      "Iteration: 8  Accuracy Score:  0.5833333333333334\n",
      "Iteration: 9  Accuracy Score:  0.25\n",
      "Iteration: 10  Accuracy Score:  0.4166666666666667\n",
      "Mean Accuracy:  0.37307692307692303\n"
     ]
    }
   ],
   "source": [
    "from sklearn.linear_model import LogisticRegression\n",
    "\n",
    "# Logistic Regression Evaluation\n",
    "\n",
    "logRegClas = LogisticRegression(multi_class='ovr')\n",
    "parameters = {\n",
    "                'penalty': ('l2', 'none'),\n",
    "                'solver': ('newton-cg', 'lbfgs', 'liblinear', 'sag', 'saga'),\n",
    "                'max_iter': [100, 200, 500, 1000]\n",
    "             }\n",
    "logRegClassifier = GridSearchCV(logRegClas, parameters, n_jobs = -1, cv=20, scoring='accuracy')\n",
    "# logRegClassifier.fit(XTrainVal, ytrainValLabels)\n",
    "# print(logRegClassifier.best_estimator_)\n",
    "\n",
    "\n",
    "bestModel, bestAccuracyTest, bestAccuracyVal = HyperParameterTuning(summarisationData, logRegClassifier)\n",
    "print(\"Best AccuracyVal: \",bestAccuracyVal)\n",
    "\n",
    "# Logistic Regression\n",
    "\n",
    "# Bow - Tf-Idf\n",
    "print(\"\\n---- Bow - Tf-Idf Results----\\n\")\n",
    "logRegClas = LogisticRegression()\n",
    "accuracyArrayX, meanAccuracyX = TenFoldValidation_BowTfIdf(summarisationData, bestModel)\n",
    "print(\"Mean Accuracy: \", meanAccuracyX)\n",
    "\n",
    "# print(\"\\n---- Word2Vec Results----\\n\")\n",
    "# # Word2Vec\n",
    "# logRegClas = LogisticRegression()\n",
    "# accuracyArrayX, meanAccuracyX = TenFoldValidation_Word2Vec(summarisationData, logRegClassifier.best_estimator_)\n",
    "# print(\"Mean Accuracy: \", meanAccuracyY)"
   ]
  },
  {
   "cell_type": "code",
   "execution_count": 102,
   "metadata": {},
   "outputs": [
    {
     "name": "stdout",
     "output_type": "stream",
     "text": [
      "Fold  1  of tuning.\n",
      "Fold  2  of tuning.\n",
      "Fold  3  of tuning.\n",
      "Fold  4  of tuning.\n",
      "Fold  5  of tuning.\n",
      "Fold  6  of tuning.\n",
      "Fold  7  of tuning.\n",
      "Fold  8  of tuning.\n",
      "Fold  9  of tuning.\n",
      "Fold  10  of tuning.\n",
      "Best Accuracy Test:  0.0\n",
      "Best Accuracy Val:  0.46153846153846156\n",
      "\n",
      "---- Word2Vec Results----\n",
      "\n",
      "Iteration: 1  Accuracy Score:  0.3076923076923077\n",
      "Iteration: 2  Accuracy Score:  0.3076923076923077\n",
      "Iteration: 3  Accuracy Score:  0.3076923076923077\n",
      "Iteration: 4  Accuracy Score:  0.3333333333333333\n",
      "Iteration: 5  Accuracy Score:  0.4166666666666667\n",
      "Iteration: 6  Accuracy Score:  0.4166666666666667\n",
      "Iteration: 7  Accuracy Score:  0.3333333333333333\n",
      "Iteration: 8  Accuracy Score:  0.3333333333333333\n",
      "Iteration: 9  Accuracy Score:  0.25\n",
      "Iteration: 10  Accuracy Score:  0.4166666666666667\n",
      "Mean Accuracy:  0.32564102564102565\n"
     ]
    }
   ],
   "source": [
    "from sklearn.linear_model import LogisticRegression\n",
    "\n",
    "# Logistic Regression Evaluation\n",
    "\n",
    "logRegClas = LogisticRegression(multi_class='ovr')\n",
    "parameters = {\n",
    "                'penalty': ('l2', 'none'),\n",
    "                'solver': ('newton-cg', 'lbfgs', 'liblinear', 'sag', 'saga'),\n",
    "                'max_iter': [100, 200, 500, 1000]\n",
    "             }\n",
    "logRegClassifier = GridSearchCV(logRegClas, parameters, n_jobs = -1, cv=10, scoring='accuracy')\n",
    "\n",
    "bestModel, bestAccuracyTest, bestAccuracyVal = HyperParameterTuning(summarisationData, logRegClassifier)\n",
    "print(\"Best Accuracy Test: \",bestAccuracyTest)\n",
    "print(\"Best Accuracy Val: \",bestAccuracyVal)\n",
    "\n",
    "print(\"\\n---- Word2Vec Results----\\n\")\n",
    "# Word2Vec\n",
    "accuracyArrayX, meanAccuracyX = TenFoldValidation_Word2Vec(summarisationData, bestModel)\n",
    "print(\"Mean Accuracy: \", meanAccuracyY)"
   ]
  },
  {
   "cell_type": "code",
   "execution_count": 80,
   "metadata": {
    "id": "cf-0HKPGhXTn",
    "outputId": "afa72877-e3dd-4284-e7ce-7ffbb909e165"
   },
   "outputs": [
    {
     "name": "stdout",
     "output_type": "stream",
     "text": [
      "Fold  1  of tuning.\n",
      "Fold  2  of tuning.\n",
      "Fold  3  of tuning.\n",
      "Fold  4  of tuning.\n",
      "Fold  5  of tuning.\n",
      "Fold  6  of tuning.\n",
      "Fold  7  of tuning.\n",
      "Fold  8  of tuning.\n",
      "Fold  9  of tuning.\n",
      "Fold  10  of tuning.\n",
      "Best AccuracyVal:  0.38461538461538464\n",
      "\n",
      "---- Bow - Tf-Idf Results----\n",
      "\n",
      "Iteration: 1  Accuracy Score:  0.5384615384615384\n",
      "Iteration: 2  Accuracy Score:  0.46153846153846156\n",
      "Iteration: 3  Accuracy Score:  0.15384615384615385\n",
      "Iteration: 4  Accuracy Score:  0.3333333333333333\n",
      "Iteration: 5  Accuracy Score:  0.16666666666666666\n",
      "Iteration: 6  Accuracy Score:  0.3333333333333333\n",
      "Iteration: 7  Accuracy Score:  0.16666666666666666\n",
      "Iteration: 8  Accuracy Score:  0.5\n",
      "Iteration: 9  Accuracy Score:  0.3333333333333333\n",
      "Iteration: 10  Accuracy Score:  0.3333333333333333\n",
      "Mean Accuracy:  0.3320512820512821\n"
     ]
    }
   ],
   "source": [
    "from sklearn.linear_model import RidgeClassifier\n",
    "\n",
    "# Ridge Classifier Evaluation\n",
    "\n",
    "ridgeClas = RidgeClassifier()\n",
    "parameters = {\n",
    "                'alpha': [0.05, 0.1, 0.5, 1, 2, 5, 10, 20],\n",
    "                'tol' : [1e-1, 1e-2, 1e-3, 1e-4, 1e-5, 1e-6],\n",
    "                'solver': ('auto', 'svd', 'cholesky', 'lsqr', 'sparse_cg', 'sag', 'saga', 'lbfgs')\n",
    "             }\n",
    "ridgeClassifier = GridSearchCV(ridgeClas, parameters, n_jobs = -1, cv=10, scoring='accuracy')\n",
    "# ridgeClassifier.fit(XTrainVal, ytrainValLabels)\n",
    "# print(ridgeClassifier.best_estimator_)\n",
    "\n",
    "bestModel, bestAccuracyTest, bestAccuracyVal = HyperParameterTuning(summarisationData, ridgeClassifier)\n",
    "print(\"Best AccuracyVal: \",bestAccuracyVal)\n",
    "\n",
    "# Logistic Regression\n",
    "\n",
    "# Bow - Tf-Idf\n",
    "print(\"\\n---- Bow - Tf-Idf Results----\\n\")\n",
    "accuracyArrayX, meanAccuracyX = TenFoldValidation_BowTfIdf(summarisationData, bestModel)\n",
    "print(\"Mean Accuracy: \", meanAccuracyX)\n",
    "\n",
    "# print(\"\\n---- Word2Vec Results----\\n\")\n",
    "# Word2Vec\n",
    "# accuracyArrayX, meanAccuracyX = TenFoldValidation_Word2Vec(summarisationData, ridgeClassifier.best_estimator_)\n",
    "# print(\"Mean Accuracy: \", meanAccuracyY)"
   ]
  },
  {
   "cell_type": "code",
   "execution_count": 103,
   "metadata": {},
   "outputs": [
    {
     "name": "stdout",
     "output_type": "stream",
     "text": [
      "Fold  1  of tuning.\n",
      "Fold  2  of tuning.\n",
      "Fold  3  of tuning.\n",
      "Fold  4  of tuning.\n",
      "Fold  5  of tuning.\n",
      "Fold  6  of tuning.\n",
      "Fold  7  of tuning.\n",
      "Fold  8  of tuning.\n",
      "Fold  9  of tuning.\n",
      "Fold  10  of tuning.\n",
      "Best Accuracy Test:  0.0\n",
      "Best Accuracy Val:  0.38461538461538464\n",
      "\n",
      "---- Word2Vec Results----\n",
      "\n",
      "Iteration: 1  Accuracy Score:  0.38461538461538464\n",
      "Iteration: 2  Accuracy Score:  0.38461538461538464\n",
      "Iteration: 3  Accuracy Score:  0.46153846153846156\n",
      "Iteration: 4  Accuracy Score:  0.16666666666666666\n",
      "Iteration: 5  Accuracy Score:  0.4166666666666667\n",
      "Iteration: 6  Accuracy Score:  0.5833333333333334\n",
      "Iteration: 7  Accuracy Score:  0.3333333333333333\n",
      "Iteration: 8  Accuracy Score:  0.25\n",
      "Iteration: 9  Accuracy Score:  0.16666666666666666\n",
      "Iteration: 10  Accuracy Score:  0.25\n",
      "Mean Accuracy:  0.32564102564102565\n"
     ]
    }
   ],
   "source": [
    "from sklearn.linear_model import RidgeClassifier\n",
    "\n",
    "# Ridge Classifier Evaluation\n",
    "\n",
    "ridgeClas = RidgeClassifier()\n",
    "parameters = {\n",
    "                'alpha': [0.05, 0.1, 0.5, 1, 2, 5, 10, 20],\n",
    "                'tol' : [1e-1, 1e-2, 1e-3, 1e-4, 1e-5, 1e-6],\n",
    "                'solver': ('auto', 'svd', 'cholesky', 'lsqr', 'sparse_cg', 'sag', 'saga', 'lbfgs')\n",
    "             }\n",
    "ridgeClassifier = GridSearchCV(ridgeClas, parameters, n_jobs = -1, cv=10, scoring='accuracy')\n",
    "\n",
    "bestModel, bestAccuracyTest, bestAccuracyVal = HyperParameterTuning(summarisationData, ridgeClassifier)\n",
    "print(\"Best Accuracy Test: \",bestAccuracyTest)\n",
    "print(\"Best Accuracy Val: \",bestAccuracyVal)\n",
    "\n",
    "print(\"\\n---- Word2Vec Results----\\n\")\n",
    "Word2Vec\n",
    "accuracyArrayX, meanAccuracyX = TenFoldValidation_Word2Vec(summarisationData, bestModel)\n",
    "print(\"Mean Accuracy: \", meanAccuracyY)"
   ]
  },
  {
   "cell_type": "code",
   "execution_count": 83,
   "metadata": {
    "id": "XoROQimKhXTo",
    "outputId": "f0bca34d-cdf2-49af-8490-2ad263d6b1ca"
   },
   "outputs": [
    {
     "name": "stdout",
     "output_type": "stream",
     "text": [
      "Fold  1  of tuning.\n",
      "Fold  2  of tuning.\n",
      "Fold  3  of tuning.\n",
      "Fold  4  of tuning.\n",
      "Fold  5  of tuning.\n",
      "Fold  6  of tuning.\n",
      "Fold  7  of tuning.\n",
      "Fold  8  of tuning.\n",
      "Fold  9  of tuning.\n",
      "Fold  10  of tuning.\n",
      "Best AccuracyVal:  0.4166666666666667\n",
      "\n",
      "---- Bow - Tf-Idf Results----\n",
      "\n",
      "Iteration: 1  Accuracy Score:  0.5384615384615384\n",
      "Iteration: 2  Accuracy Score:  0.46153846153846156\n",
      "Iteration: 3  Accuracy Score:  0.23076923076923078\n",
      "Iteration: 4  Accuracy Score:  0.5833333333333334\n",
      "Iteration: 5  Accuracy Score:  0.25\n",
      "Iteration: 6  Accuracy Score:  0.3333333333333333\n",
      "Iteration: 7  Accuracy Score:  0.16666666666666666\n",
      "Iteration: 8  Accuracy Score:  0.5\n",
      "Iteration: 9  Accuracy Score:  0.16666666666666666\n",
      "Iteration: 10  Accuracy Score:  0.16666666666666666\n",
      "Mean Accuracy:  0.3397435897435897\n"
     ]
    }
   ],
   "source": [
    "from sklearn.linear_model import Perceptron\n",
    "\n",
    "# Perceptro Evaluation\n",
    "\n",
    "perceptronClas = Perceptron()\n",
    "parameters = {\n",
    "                'penalty': ('l2', 'l1', 'elasticnet'),\n",
    "                'alpha': [1e-1, 1e-2, 1e-3, 1e-4, 1e-5, 1e-6, 1e-7],\n",
    "                'max_iter' : [500, 1000, 10000],\n",
    "                'tol': [1e-1, 1e-2, 1e-3, 1e-4, 1e-5, 1e-6, 1e-7],\n",
    "                'n_iter_no_change': [5, 10, 15, 20]\n",
    "             }\n",
    "perceptronClassifier = GridSearchCV(perceptronClas, parameters, n_jobs = -1, cv=5, scoring='accuracy')\n",
    "# perceptronClassifier.fit(XTrainVal, ytrainValLabels)\n",
    "# print(perceptronClassifier.best_estimator_)\n",
    "\n",
    "bestModel, bestAccuracyTest, bestAccuracyVal = HyperParameterTuning(summarisationData, perceptronClassifier)\n",
    "print(\"Best AccuracyVal: \",bestAccuracyVal)\n",
    "\n",
    "# Logistic Regression\n",
    "\n",
    "# Bow - Tf-Idf\n",
    "print(\"\\n---- Bow - Tf-Idf Results----\\n\")\n",
    "accuracyArrayX, meanAccuracyX = TenFoldValidation_BowTfIdf(summarisationData, bestModel)\n",
    "print(\"Mean Accuracy: \", meanAccuracyX)"
   ]
  },
  {
   "cell_type": "code",
   "execution_count": 105,
   "metadata": {
    "id": "S7HWVTBBhXTo",
    "outputId": "33a4f924-8dec-46c9-c501-c77d939ab22d"
   },
   "outputs": [
    {
     "name": "stdout",
     "output_type": "stream",
     "text": [
      "Fold  1  of tuning.\n",
      "Fold  2  of tuning.\n",
      "Fold  3  of tuning.\n",
      "Fold  4  of tuning.\n",
      "Fold  5  of tuning.\n",
      "Fold  6  of tuning.\n",
      "Fold  7  of tuning.\n",
      "Fold  8  of tuning.\n",
      "Fold  9  of tuning.\n",
      "Fold  10  of tuning.\n",
      "Best AccuracyVal:  0.5833333333333334\n",
      "\n",
      "---- Word2Vec Results----\n",
      "\n",
      "Iteration: 1  Accuracy Score:  0.38461538461538464\n",
      "Iteration: 2  Accuracy Score:  0.3076923076923077\n",
      "Iteration: 3  Accuracy Score:  0.38461538461538464\n",
      "Iteration: 4  Accuracy Score:  0.3333333333333333\n",
      "Iteration: 5  Accuracy Score:  0.3333333333333333\n",
      "Iteration: 6  Accuracy Score:  0.3333333333333333\n",
      "Iteration: 7  Accuracy Score:  0.3333333333333333\n",
      "Iteration: 8  Accuracy Score:  0.3333333333333333\n",
      "Iteration: 9  Accuracy Score:  0.3333333333333333\n",
      "Iteration: 10  Accuracy Score:  0.3333333333333333\n",
      "Mean Accuracy:  0.32564102564102565\n"
     ]
    }
   ],
   "source": [
    "from sklearn.linear_model import Perceptron\n",
    "\n",
    "# Perceptro Evaluation\n",
    "\n",
    "perceptronClas = Perceptron()\n",
    "parameters = {\n",
    "                'penalty': ('l2', 'l1', 'elasticnet'),\n",
    "                'alpha': [1e-1, 1e-2, 1e-3, 1e-4, 1e-5, 1e-6, 1e-7],\n",
    "                'max_iter' : [500, 1000, 10000],\n",
    "                'tol': [1e-1, 1e-2, 1e-3, 1e-4, 1e-5, 1e-6, 1e-7],\n",
    "                'n_iter_no_change': [5, 10, 15, 20]\n",
    "             }\n",
    "perceptronClassifier = GridSearchCV(perceptronClas, parameters, n_jobs = -1, cv=10, scoring='accuracy')\n",
    "# perceptronClassifier.fit(X_trainVal_vect_avg, ytrainValLabels)\n",
    "# print(perceptronClassifier.best_estimator_)\n",
    "\n",
    "bestModel, bestAccuracyTest, bestAccuracyVal = HyperParameterTuning(summarisationData, perceptronClassifier)\n",
    "print(\"Best AccuracyVal: \",bestAccuracyVal)\n",
    "\n",
    "# Logistic Regression\n",
    "\n",
    "print(\"\\n---- Word2Vec Results----\\n\")\n",
    "# Word2Vec\n",
    "accuracyArrayX, meanAccuracyX = TenFoldValidation_Word2Vec(summarisationData, bestModel)\n",
    "print(\"Mean Accuracy: \", meanAccuracyY)"
   ]
  }
 ],
 "metadata": {
  "colab": {
   "collapsed_sections": [],
   "name": "Summarisation_Pipeline.ipynb",
   "provenance": []
  },
  "kernelspec": {
   "display_name": "Python 3",
   "language": "python",
   "name": "python3"
  },
  "language_info": {
   "codemirror_mode": {
    "name": "ipython",
    "version": 3
   },
   "file_extension": ".py",
   "mimetype": "text/x-python",
   "name": "python",
   "nbconvert_exporter": "python",
   "pygments_lexer": "ipython3",
   "version": "3.8.10"
  }
 },
 "nbformat": 4,
 "nbformat_minor": 1
}
