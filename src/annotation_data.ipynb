{
 "cells": [
  {
   "cell_type": "code",
   "execution_count": 1,
   "metadata": {},
   "outputs": [],
   "source": [
    "import json\n",
    "import pandas as pd"
   ]
  },
  {
   "cell_type": "code",
   "execution_count": 2,
   "metadata": {},
   "outputs": [],
   "source": [
    "# Read data from tsv into dataframe\n",
    "valData = pd.read_csv ('../data/LIAR-PLUS/dataset/tsv/val2.tsv', sep='\\t', header=None)\n",
    "\n",
    "\n",
    "# Add collumn names in the data.\n",
    "columnNames = ['id', 'json_file_id', 'label', 'claim', 'topics', 'originator', 'title', 'state', 'party','c1', 'c2', 'c3', 'c4', 'c5', 'location', 'justification']\n",
    "valData.columns = columnNames"
   ]
  },
  {
   "cell_type": "code",
   "execution_count": 3,
   "metadata": {},
   "outputs": [],
   "source": [
    "# Transform truth values from six classes to two. 'True' and 'False'\n",
    "def transformTruthValues(dataFrame, trueLabels=[], falseLabels=[]):\n",
    "    \n",
    "    trueList  = []\n",
    "    falseList = []\n",
    "\n",
    "    for index, row in dataFrame.iterrows():\n",
    "        if row['label'] in trueLabels:\n",
    "            dataFrame.at[index, 'label'] = 'true'\n",
    "            trueList.append(dataFrame.iloc[index].values)\n",
    "        else:\n",
    "            dataFrame.at[index, 'label'] = 'false'\n",
    "            falseList.append(dataFrame.iloc[index].values)\n",
    "\n",
    "    trueData  = pd.DataFrame(trueList,  columns=columnNames)\n",
    "    falseData = pd.DataFrame(falseList, columns=columnNames)\n",
    "    \n",
    "    return trueData, falseData"
   ]
  },
  {
   "cell_type": "code",
   "execution_count": 4,
   "metadata": {},
   "outputs": [],
   "source": [
    "# Fix dataframe ids to start from 0\n",
    "def fixIds(dataFrame):    \n",
    "    id = 0\n",
    "    for index, row in dataFrame.iterrows():\n",
    "        dataFrame.at[index, 'id'] = id\n",
    "        id += 1\n",
    "    \n",
    "    return dataFrame"
   ]
  },
  {
   "cell_type": "code",
   "execution_count": 5,
   "metadata": {},
   "outputs": [],
   "source": [
    "# Transform truth values from six classes to two. 'True' and 'False'\n",
    "\n",
    "trueLabels  = ['mostly-true', 'true']\n",
    "falseLabels = ['pants-fire', 'false', 'barely-true', 'half-true']\n",
    "\n",
    "trueData, falseData = transformTruthValues(valData, trueLabels, falseLabels)"
   ]
  },
  {
   "cell_type": "code",
   "execution_count": 6,
   "metadata": {},
   "outputs": [],
   "source": [
    "# Set pandas options show that dataframes appear not truncated.\n",
    "pd.set_option('display.max_rows', None)\n",
    "pd.set_option('display.max_columns', None)\n",
    "pd.set_option('display.width', None)\n",
    "pd.set_option('display.max_colwidth', None)"
   ]
  },
  {
   "cell_type": "code",
   "execution_count": 7,
   "metadata": {},
   "outputs": [],
   "source": [
    "# Fix ids\n",
    "falseData1 = fixIds(falseData[:10])\n",
    "falseData2 = fixIds(falseData[10:22])\n",
    "\n",
    "# Transform data to json string\n",
    "evalData1 = falseData1.to_json(orient=\"records\")\n",
    "evalData2 = falseData2.to_json(orient=\"records\")\n",
    "\n",
    "# Write as json to file\n",
    "evaluation1 = open(\"evaluation1.json\", \"w\")\n",
    "evaluation1.write(json.dumps(json.loads(evalData1), indent=4, sort_keys=True))\n",
    "evaluation1.close()\n",
    "\n",
    "evaluation2 = open(\"evaluation2.json\", \"w\")\n",
    "evaluation2.write(json.dumps(json.loads(evalData2), indent=4, sort_keys=True))\n",
    "evaluation2.close()"
   ]
  }
 ],
 "metadata": {
  "kernelspec": {
   "display_name": "Python 3",
   "language": "python",
   "name": "python3"
  },
  "language_info": {
   "codemirror_mode": {
    "name": "ipython",
    "version": 3
   },
   "file_extension": ".py",
   "mimetype": "text/x-python",
   "name": "python",
   "nbconvert_exporter": "python",
   "pygments_lexer": "ipython3",
   "version": "3.8.10"
  }
 },
 "nbformat": 4,
 "nbformat_minor": 4
}
