{
 "cells": [
  {
   "cell_type": "code",
   "execution_count": 1,
   "metadata": {},
   "outputs": [],
   "source": [
    "import re\n",
    "import json\n",
    "import pandas as pd"
   ]
  },
  {
   "cell_type": "code",
   "execution_count": 2,
   "metadata": {},
   "outputs": [],
   "source": [
    "# Read data from tsv into dataframe\n",
    "trainData = pd.read_csv ('../data/LIAR-PLUS/dataset/tsv/test2.tsv', sep='\\t', header=None)\n",
    "\n",
    "# Add collumn names in the data.\n",
    "columnNames = ['id', 'json_file_id', 'label', 'claim', 'topics', 'originator', 'title', 'state', 'party','c1', 'c2', 'c3', 'c4', 'c5', 'location', 'justification']\n",
    "trainData.columns = columnNames"
   ]
  },
  {
   "cell_type": "code",
   "execution_count": 3,
   "metadata": {},
   "outputs": [],
   "source": [
    "# Read forbidden words and put them in a list\n",
    "forbiddenWords = []\n",
    "with open('../data/LIAR-PLUS/forbidden_words.txt') as forbiddenWordsFile:\n",
    "    lines = forbiddenWordsFile.readlines()\n",
    "    for line in lines:\n",
    "        forbiddenWords.append(line.replace('\\n',''))"
   ]
  },
  {
   "cell_type": "code",
   "execution_count": 4,
   "metadata": {},
   "outputs": [],
   "source": [
    "# Transform truth values from six classes to two. 'True' and 'False'\n",
    "def transformTruthValues(dataFrame, trueLabels=[], falseLabels=[]):\n",
    "    \n",
    "    trueList  = []\n",
    "    falseList = []\n",
    "\n",
    "    for index, row in dataFrame.iterrows():\n",
    "        if row['label'] in trueLabels:\n",
    "            dataFrame.at[index, 'label'] = 'true'\n",
    "            trueList.append(dataFrame.iloc[index].values)\n",
    "        else:\n",
    "            dataFrame.at[index, 'label'] = 'false'\n",
    "            falseList.append(dataFrame.iloc[index].values)\n",
    "\n",
    "    trueData  = pd.DataFrame(trueList,  columns=columnNames)\n",
    "    falseData = pd.DataFrame(falseList, columns=columnNames)\n",
    "    \n",
    "    return trueData, falseData"
   ]
  },
  {
   "cell_type": "code",
   "execution_count": 5,
   "metadata": {},
   "outputs": [],
   "source": [
    "# Fix dataframe ids to start from 0\n",
    "def fixIds(dataFrame):    \n",
    "    id = 0\n",
    "    for index, row in dataFrame.iterrows():\n",
    "        dataFrame.at[index, 'id'] = id\n",
    "        id += 1\n",
    "    \n",
    "    return dataFrame"
   ]
  },
  {
   "cell_type": "code",
   "execution_count": 6,
   "metadata": {},
   "outputs": [],
   "source": [
    "# Transform truth values from six classes to two. 'True' and 'False'\n",
    "\n",
    "trueLabels  = ['mostly-true', 'true']\n",
    "falseLabels = ['pants-fire', 'false', 'barely-true', 'half-true']\n",
    "\n",
    "trueData, falseData = transformTruthValues(trainData, trueLabels, falseLabels)\n",
    "\n",
    "trueData.dropna(inplace=True)\n",
    "falseData.dropna(inplace=True)"
   ]
  },
  {
   "cell_type": "code",
   "execution_count": 7,
   "metadata": {},
   "outputs": [
    {
     "name": "stdout",
     "output_type": "stream",
     "text": [
      "Total number of justifications is: 529\n",
      "Total number of sentences is: 2278\n",
      "Average number of sentences per justification is: 4.306238185255198\n",
      "New number of justifications is: 288\n"
     ]
    }
   ],
   "source": [
    "totalJustifications = 0\n",
    "totalSentences = 0\n",
    "for index, row in falseData.iterrows():\n",
    "    totalJustifications += 1\n",
    "    totalSentences += len(re.split(r'[.!?\\n]', str(row['justification']).strip())) - 1\n",
    "\n",
    "print(\"Total number of justifications is: \" + str(totalJustifications))\n",
    "print(\"Total number of sentences is: \" + str(totalSentences))\n",
    "print(\"Average number of sentences per justification is: \" + str(totalSentences/totalJustifications))\n",
    "    \n",
    "for index, row in falseData.iterrows():\n",
    "    if (len(re.split(r'[.!?\\n]', str(row['justification']).strip())) - 1) < 4:\n",
    "        falseData.drop(index, inplace=True)\n",
    "    else:\n",
    "        if any(word in str(row['justification']).strip() for word in forbiddenWords):\n",
    "            falseData.drop(index, inplace=True)\n",
    "\n",
    "newJustifications = 0\n",
    "for index, row in falseData.iterrows():\n",
    "    newJustifications += 1\n",
    "\n",
    "print(\"New number of justifications is: \" + str(newJustifications))"
   ]
  },
  {
   "cell_type": "code",
   "execution_count": 8,
   "metadata": {},
   "outputs": [],
   "source": [
    "# Set pandas options show that dataframes appear not truncated.\n",
    "pd.set_option('display.max_rows', None)\n",
    "pd.set_option('display.max_columns', None)\n",
    "pd.set_option('display.width', None)\n",
    "pd.set_option('display.max_colwidth', None)"
   ]
  },
  {
   "cell_type": "code",
   "execution_count": 9,
   "metadata": {},
   "outputs": [],
   "source": [
    "start = 0\n",
    "step  = 50\n",
    "\n",
    "for i in range(1,6):\n",
    "    # Fix ids\n",
    "    data = fixIds(falseData[start:start+step])\n",
    "    # Transform data to json string\n",
    "    evalData  = data.to_json(orient=\"records\")\n",
    "    # Write as json to file\n",
    "    evaluation = open(\"evaluation\" + str(i) + \".json\", \"w\")\n",
    "    evaluation.write(json.dumps(json.loads(evalData), indent=4, sort_keys=True))\n",
    "    evaluation.close()\n",
    "    \n",
    "    start = start + step"
   ]
  }
 ],
 "metadata": {
  "kernelspec": {
   "display_name": "Python 3",
   "language": "python",
   "name": "python3"
  },
  "language_info": {
   "codemirror_mode": {
    "name": "ipython",
    "version": 3
   },
   "file_extension": ".py",
   "mimetype": "text/x-python",
   "name": "python",
   "nbconvert_exporter": "python",
   "pygments_lexer": "ipython3",
   "version": "3.8.10"
  }
 },
 "nbformat": 4,
 "nbformat_minor": 4
}
