{
 "cells": [
  {
   "cell_type": "markdown",
   "metadata": {},
   "source": [
    "## Simple Classifiers"
   ]
  },
  {
   "cell_type": "code",
   "execution_count": 34,
   "metadata": {},
   "outputs": [],
   "source": [
    "import pandas as pd\n",
    "import numpy as np"
   ]
  },
  {
   "cell_type": "code",
   "execution_count": 3,
   "metadata": {},
   "outputs": [],
   "source": [
    "# Read data from tsv into dataframe\n",
    "trainData = pd.read_csv ('../data/LIAR-PLUS/dataset/tsv/train2.tsv', sep='\\t', header=None)\n",
    "testData  = pd.read_csv ('../data/LIAR-PLUS/dataset/tsv/test2.tsv', sep='\\t', header=None)\n",
    "\n",
    "# Add collumn names in the data.\n",
    "columnNames = ['#', 'jsonIndex', 'truthValue', 'statement', 'theme', 'speaker', 'position', 'party', 'state','a1', 'a2', 'a3', 'a4', 'a5', 'location', 'explanation']\n",
    "trainData.columns = columnNames\n",
    "testData.columns = columnNames"
   ]
  },
  {
   "cell_type": "code",
   "execution_count": 4,
   "metadata": {},
   "outputs": [],
   "source": [
    "# Remove unwanted columns.\n",
    "def removeCols(dataFrame, colsList=[]):\n",
    "    for colName in colsList:\n",
    "        if colName in dataFrame.columns:\n",
    "            del dataFrame[colName]"
   ]
  },
  {
   "cell_type": "code",
   "execution_count": 5,
   "metadata": {},
   "outputs": [],
   "source": [
    "# Select and remove unwanted columns\n",
    "unwantedCollumns = ['#','jsonIndex', 'theme', 'speaker', 'position', 'party', 'state','a1', 'a2', 'a3', 'a4', 'a5', 'location']\n",
    "\n",
    "removeCols(trainData, unwantedCollumns)\n",
    "removeCols(testData, unwantedCollumns)\n",
    "\n",
    "# Remove NaN values and fix indexing.\n",
    "trainData.dropna(inplace=True)\n",
    "trainData.reset_index(drop=True, inplace=True)\n",
    "\n",
    "testData.dropna(inplace=True)\n",
    "testData.reset_index(drop=True, inplace=True)"
   ]
  },
  {
   "cell_type": "code",
   "execution_count": 6,
   "metadata": {},
   "outputs": [],
   "source": [
    "# Transform truth values from six classes to two. 'True' and 'False'\n",
    "def transformTruthValues(dataFrame, trueLabels=[], falseLabels=[]):\n",
    "    \n",
    "    trueList  = []\n",
    "    falseList = []\n",
    "\n",
    "    for index, row in dataFrame.iterrows():\n",
    "        if row['truthValue'] in trueLabels:\n",
    "            dataFrame.at[index, 'truthValue'] = 'true'\n",
    "            trueList.append(dataFrame.iloc[index].values)\n",
    "        else:\n",
    "            dataFrame.at[index, 'truthValue'] = 'false'\n",
    "            falseList.append(dataFrame.iloc[index].values)\n",
    "\n",
    "    basicColumns = ['truthValue', 'statement', 'explanation']\n",
    "    trueData  = pd.DataFrame(trueList,  columns=['truthValue', 'statement', 'explanation'])\n",
    "    falseData = pd.DataFrame(falseList, columns=['truthValue', 'statement', 'explanation'])\n",
    "    \n",
    "    return trueData, falseData"
   ]
  },
  {
   "cell_type": "code",
   "execution_count": 7,
   "metadata": {},
   "outputs": [],
   "source": [
    "# Transform truth values from six classes to two. 'True' and 'False'\n",
    "\n",
    "trueLabels  = ['mostly-true', 'true']\n",
    "falseLabels = ['pants-fire', 'false', 'barely-true', 'half-true']\n",
    "\n",
    "trueTrainData, falseTrainData = transformTruthValues(trainData, trueLabels, falseLabels)\n",
    "trueTestData,  falseTestData  = transformTruthValues(testData, trueLabels, falseLabels)"
   ]
  },
  {
   "cell_type": "code",
   "execution_count": 8,
   "metadata": {},
   "outputs": [
    {
     "name": "stderr",
     "output_type": "stream",
     "text": [
      "<ipython-input-8-f2c2152d86a4>:16: SettingWithCopyWarning: \n",
      "A value is trying to be set on a copy of a slice from a DataFrame.\n",
      "Try using .loc[row_indexer,col_indexer] = value instead\n",
      "\n",
      "See the caveats in the documentation: https://pandas.pydata.org/pandas-docs/stable/user_guide/indexing.html#returning-a-view-versus-a-copy\n",
      "  selectedTrainData['explanationClass'] = trainExplanationClass\n",
      "<ipython-input-8-f2c2152d86a4>:22: SettingWithCopyWarning: \n",
      "A value is trying to be set on a copy of a slice from a DataFrame.\n",
      "Try using .loc[row_indexer,col_indexer] = value instead\n",
      "\n",
      "See the caveats in the documentation: https://pandas.pydata.org/pandas-docs/stable/user_guide/indexing.html#returning-a-view-versus-a-copy\n",
      "  selectedTestData['explanationClass'] = testExplanationClass\n"
     ]
    },
    {
     "data": {
      "text/html": [
       "<div>\n",
       "<style scoped>\n",
       "    .dataframe tbody tr th:only-of-type {\n",
       "        vertical-align: middle;\n",
       "    }\n",
       "\n",
       "    .dataframe tbody tr th {\n",
       "        vertical-align: top;\n",
       "    }\n",
       "\n",
       "    .dataframe thead th {\n",
       "        text-align: right;\n",
       "    }\n",
       "</style>\n",
       "<table border=\"1\" class=\"dataframe\">\n",
       "  <thead>\n",
       "    <tr style=\"text-align: right;\">\n",
       "      <th></th>\n",
       "      <th>truthValue</th>\n",
       "      <th>statement</th>\n",
       "      <th>explanation</th>\n",
       "      <th>explanationClass</th>\n",
       "    </tr>\n",
       "  </thead>\n",
       "  <tbody>\n",
       "    <tr>\n",
       "      <th>0</th>\n",
       "      <td>false</td>\n",
       "      <td>Says the Annies List political group supports third-trimester abortions on demand.</td>\n",
       "      <td>That's a premise that he fails to back up. Annie's List makes no bones about being comfortable with candidates who oppose further restrictions on late-term abortions. Then again, this year its backing two House candidates who voted for more limits.</td>\n",
       "      <td>unfounded</td>\n",
       "    </tr>\n",
       "    <tr>\n",
       "      <th>1</th>\n",
       "      <td>false</td>\n",
       "      <td>When did the decline of coal start? It started when natural gas took off that started to begin in (President George W.) Bushs administration.</td>\n",
       "      <td>Surovell said the decline of coal \"started when natural gas took off  That started to begin in President (George W. ) Bushs administration. \"No doubt, natural gas has been gaining ground on coal in generating electricity. The trend started in the 1990s but clearly gained speed during the Bush administration when the production of natural gas -- a competitor of coal -- picked up. But analysts give little credit or blame to Bush for that trend. They note that other factors, such as technological innovation, entrepreneurship and policies of previous administrations, had more to do with laying the groundwork for the natural gas boom.</td>\n",
       "      <td>emphasis</td>\n",
       "    </tr>\n",
       "    <tr>\n",
       "      <th>2</th>\n",
       "      <td>false</td>\n",
       "      <td>Health care reform legislation is likely to mandate free sex change surgeries.</td>\n",
       "      <td>The release may have a point that Mikulskis comment could open the door to \"medically necessary\" coverage which conceivably may include sex-change operations. But it's unclear whether her amendment will remain in the legislation, and there's nothing specific in the legislation on sex-change procedures and nothing else solid that indicates such coverage will be provided. The news release cherry-picked a few fleeting references to gender and sexual orientation in completely unrelated contexts to argue that proposed health care legislation would mandate free sex-change surgeries (and allow them for illegal aliens, no less).</td>\n",
       "      <td>exaggeration</td>\n",
       "    </tr>\n",
       "    <tr>\n",
       "      <th>3</th>\n",
       "      <td>false</td>\n",
       "      <td>The economic turnaround started at the end of my term.</td>\n",
       "      <td>Crist said that the economic \"turnaround started at the end of my term. \"During Crists last year in office, Floridas economy experienced notable gains in personal income and industrial production, and more marginal improvements in the unemployment rate and in payroll employment. But GDP didnt grow again until Scott took office. Economists say Crist deserves some credit for the economic turnaround because he accepted federal stimulus dollars, but they add that any state is inevitably buffeted by national and international trends far beyond their control.</td>\n",
       "      <td>emphasis</td>\n",
       "    </tr>\n",
       "    <tr>\n",
       "      <th>4</th>\n",
       "      <td>false</td>\n",
       "      <td>Jim Dunnam has not lived in the district he represents for years now.</td>\n",
       "      <td>But determining that would take significant detective work, far more than a few photos. A broader interpretation would allow for the possibility Dunnam hasnt lived exclusively in his House district for years, but instead flits between -- and lives in -- both houses.</td>\n",
       "      <td>exaggeration</td>\n",
       "    </tr>\n",
       "    <tr>\n",
       "      <th>5</th>\n",
       "      <td>false</td>\n",
       "      <td>I'm the only person on this stage who has worked actively just last year passing, along with Russ Feingold, some of the toughest ethics reform since Watergate.</td>\n",
       "      <td>However, it was not that bill, but another one, sponsored by Majority Leader Harry Reid and introduced five days earlier on Jan.  4, 2007 that eventually became law. Obama was not a cosponsor, but he did successfully offer an amendment concerning lobbyist disclosure and the bill included some elements from the one he had introduced the previous year. Obama, as well as Biden, Clinton and Dodd all voted for it. In the House, Kucinich also voted for it.</td>\n",
       "      <td>unfounded</td>\n",
       "    </tr>\n",
       "    <tr>\n",
       "      <th>6</th>\n",
       "      <td>false</td>\n",
       "      <td>However, it took $19.5 million in Oregon Lottery funds for the Port of Newport to eventually land the new NOAA Marine Operations Center-Pacific.</td>\n",
       "      <td>But Johnson is correct that many other factors played a role and for the Lottery to suggest that its money was the final piece is incomplete. The statement is partially accurate -- Lottery money made the lease competitive -- but it leaves out important details. Astoria dropped out; Newports bid was better on technical fronts than the others; legislative leaders pulled together to set aside the dollars and bonding authority.</td>\n",
       "      <td>emphasis</td>\n",
       "    </tr>\n",
       "    <tr>\n",
       "      <th>7</th>\n",
       "      <td>false</td>\n",
       "      <td>Since 2000, nearly 12 million Americans have slipped out of the middle class and into poverty.</td>\n",
       "      <td>So where does this leave us?On Sanders side, he used a solid number, and hes clearly right about the underlying trend -- despite some ups and downs, there are more impoverished Americans today than there were in 2000, both measured by raw numbers and as a percentage of the population. But we think he goes too far when he suggests these 12 million Americans simply fell from the middle class into poverty. And he ignores the fact that as those 12 million Americans were slipping into poverty, many, many Americans were simultaneously climbing out of poverty.</td>\n",
       "      <td>unfounded</td>\n",
       "    </tr>\n",
       "    <tr>\n",
       "      <th>8</th>\n",
       "      <td>false</td>\n",
       "      <td>Most of the (Affordable Care Act) has already in some sense been waived or otherwise suspended.</td>\n",
       "      <td>With all the talk about problems with the health care law, its easy to forget just how many corners of health insurance policy the law affects. Will seemed guilty of that on Fox News Sunday when he said most of the law has been waived or suspended. Obama has made at least two major course corrections in the law. He delayed the employer mandate by one year and allowed individuals dealing with canceled plans to buy insurance that fails to meet minimum standards under the law. One way to put these changes into context is to look at the number of people they affect. While precise data are missing, the combined impact could be in the range of 1 million Americans. On the other side of the ledger, 3. 1 million young adults have gained access to coverage through the law, another 18 million people are subject to the individual mandate and millions more have benefited from requirements that health insurance companies spend premiums on care.</td>\n",
       "      <td>exaggeration</td>\n",
       "    </tr>\n",
       "    <tr>\n",
       "      <th>9</th>\n",
       "      <td>false</td>\n",
       "      <td>In this last election in November, ... 63 percent of the American people chose not to vote, ... 80 percent of young people, (and) 75 percent of low-income workers chose not to vote.</td>\n",
       "      <td>Sanders said that \"in this last election in November, . . . 63 percent of the American people chose not to vote, . . . 80 percent of young people, (and) 75 percent of low-income workers chose not to vote. \"Sanders was too loose with some of his numbers and his wording, but he has a point that rates of non-voting among Americans, and especially among younger and poorer Americans, are high.</td>\n",
       "      <td>emphasis</td>\n",
       "    </tr>\n",
       "    <tr>\n",
       "      <th>10</th>\n",
       "      <td>false</td>\n",
       "      <td>U.S. Rep. Ron Kind, D-Wis., and his fellow Democrats went on a spending spree and now their credit card is maxed out</td>\n",
       "      <td>And the debt is a result of tax cuts as well as various spending measures, and both Democrats and Republicans supported such measures.</td>\n",
       "      <td>unfounded</td>\n",
       "    </tr>\n",
       "    <tr>\n",
       "      <th>11</th>\n",
       "      <td>false</td>\n",
       "      <td>Water rates in Manila, Philippines, were raised up to 845 percent when a subsidiary of the World Bank became a partial owner.</td>\n",
       "      <td>Moore said that when the International Finance Corporation became a part-owner of Manila Water, rates rose 845 percent. The source cited by Moores staff undermines that number. The International Finance Corporation bought its stake in 2004. Between 2004 and 2012, rates rose about 170 percent. Moore incorrectly used a figure that would apply to the period from 1997 to 2012. However, the IFC crafted the plan for privatization in the first place. All parties knew that important capital investments would follow, and that rates would go up. Moore wrongly pegged the rate increase to the date of IFCs equity position, but the development corporation played a key role from the start.</td>\n",
       "      <td>exaggeration</td>\n",
       "    </tr>\n",
       "    <tr>\n",
       "      <th>12</th>\n",
       "      <td>false</td>\n",
       "      <td>Women and men both are making less when you adjust for inflation than when John Kitzhaber was first elected governor.</td>\n",
       "      <td>It didnt, in other words, change the final result. The Richardson campaign did get back to us but, regardless, the information it provided doesn't hold up. Data from the two federal agencies and the state Employment Department show that both genders make more today, when their wages are adjusted for inflation, than they did when Kitzhaber was first elected in 1995.</td>\n",
       "      <td>unfounded</td>\n",
       "    </tr>\n",
       "    <tr>\n",
       "      <th>13</th>\n",
       "      <td>false</td>\n",
       "      <td>Says Scott Walker favors cutting up to 350,000 families and children off health care.</td>\n",
       "      <td>Walker changed course to a muddier position, while Greater Wisconsin has continued to cite the number. It adds an important qualifier though -- \"up to\" 350,000. Walkers new position, while unclear, still focuses on reining in BadgerCare enrollment -- whether its the 68,000 or some other number remains to be seen.</td>\n",
       "      <td>exaggeration</td>\n",
       "    </tr>\n",
       "    <tr>\n",
       "      <th>14</th>\n",
       "      <td>false</td>\n",
       "      <td>Says Mitt Romney wants to get rid of Planned Parenthood.</td>\n",
       "      <td>The Planned Parenthood Action Fund aid said that Romney wants to \"get rid of Planned Parenthood. \"That directly contradicts what Romney has said -- that he wants to end federal funding for Planned Parenthood, not abolish the organization -- and his staff reaffirmed that position. Theres no question that an end to federal funding would be a significant blow to the organizations operations, potentially chopping 12 percent to 35 percent from its budget. But its an exaggeration to say that Romney would act to \"get rid\" of the organization. UPDATE: After our story appeared, Planned Parenthood provided some additional statistics about how many Medicaid patients use their services.</td>\n",
       "      <td>exaggeration</td>\n",
       "    </tr>\n",
       "    <tr>\n",
       "      <th>15</th>\n",
       "      <td>false</td>\n",
       "      <td>I dont know who (Jonathan Gruber) is.</td>\n",
       "      <td>Pelosi said, \"I don't know who (Jonathan Gruber) is.</td>\n",
       "      <td>distortion</td>\n",
       "    </tr>\n",
       "    <tr>\n",
       "      <th>16</th>\n",
       "      <td>false</td>\n",
       "      <td>Rick Perry has never lost an election and remains the only person to have won the Texas governorship three times in landslide elections.</td>\n",
       "      <td>And, Jillson said, he would not term Perrys 06 win a landslide. Indeed, he said, the governors 39 percent amounted to a comeuppance; 60 percent of voters chose a different aspirant. Our take: Perry is the third--not first--Texas governor to win re-election thrice. Two of his wins were bona fide landslides but the thirds landslide status is at least debatable.</td>\n",
       "      <td>distortion</td>\n",
       "    </tr>\n",
       "    <tr>\n",
       "      <th>17</th>\n",
       "      <td>false</td>\n",
       "      <td>ISIS supporter tweeted at 10:34 a.m. Shooting began at 10:45 a.m. in Chattanooga, Tenn.</td>\n",
       "      <td>Geller updated the original post, but it did little to stuff the rumor back into the bag.</td>\n",
       "      <td>unfounded</td>\n",
       "    </tr>\n",
       "    <tr>\n",
       "      <th>18</th>\n",
       "      <td>false</td>\n",
       "      <td>If you look at states that are right to work, they constantly do not have budget deficits and they have very good business climates.</td>\n",
       "      <td>They did generally rank right-to-work states higher than union states, but they considered many other factors, including tax policy, that could account for the better rankings. (Get updates from PolitiFactRI on Twitter.</td>\n",
       "      <td>emphasis</td>\n",
       "    </tr>\n",
       "    <tr>\n",
       "      <th>19</th>\n",
       "      <td>false</td>\n",
       "      <td>What (the Obama administration is) going to come out with in the next several months is youre not even going to be able to burn coal very limitedly in the existing plants.</td>\n",
       "      <td>Capito said \"What (Obama is) going to come out with in the next several months is you're not even going to be able to burn coal very limitedly in the existing plants. \"The proposal Capito is referring to is an EPA plan to cut carbon emissions in existing power plants. Those rules do not prohibit current facilities from burning coal, and even Capitos spokeswoman said the rule \"doesn't mean that every plant has to close. \"Some facilities will close down within the next decade, but many of those plants were scheduled to be retired anyway due to age and other factors. States and power companies have options to continue to utilize coal for energy, and experts said they expect coal to remain part of the national portfolio for years to come.</td>\n",
       "      <td>distortion</td>\n",
       "    </tr>\n",
       "  </tbody>\n",
       "</table>\n",
       "</div>"
      ],
      "text/plain": [
       "   truthValue  \\\n",
       "0       false   \n",
       "1       false   \n",
       "2       false   \n",
       "3       false   \n",
       "4       false   \n",
       "5       false   \n",
       "6       false   \n",
       "7       false   \n",
       "8       false   \n",
       "9       false   \n",
       "10      false   \n",
       "11      false   \n",
       "12      false   \n",
       "13      false   \n",
       "14      false   \n",
       "15      false   \n",
       "16      false   \n",
       "17      false   \n",
       "18      false   \n",
       "19      false   \n",
       "\n",
       "                                                                                                                                                                                statement  \\\n",
       "0                                                                                                      Says the Annies List political group supports third-trimester abortions on demand.   \n",
       "1                                           When did the decline of coal start? It started when natural gas took off that started to begin in (President George W.) Bushs administration.   \n",
       "2                                                                                                          Health care reform legislation is likely to mandate free sex change surgeries.   \n",
       "3                                                                                                                                  The economic turnaround started at the end of my term.   \n",
       "4                                                                                                                   Jim Dunnam has not lived in the district he represents for years now.   \n",
       "5                         I'm the only person on this stage who has worked actively just last year passing, along with Russ Feingold, some of the toughest ethics reform since Watergate.   \n",
       "6                                        However, it took $19.5 million in Oregon Lottery funds for the Port of Newport to eventually land the new NOAA Marine Operations Center-Pacific.   \n",
       "7                                                                                          Since 2000, nearly 12 million Americans have slipped out of the middle class and into poverty.   \n",
       "8                                                                                         Most of the (Affordable Care Act) has already in some sense been waived or otherwise suspended.   \n",
       "9   In this last election in November, ... 63 percent of the American people chose not to vote, ... 80 percent of young people, (and) 75 percent of low-income workers chose not to vote.   \n",
       "10                                                                   U.S. Rep. Ron Kind, D-Wis., and his fellow Democrats went on a spending spree and now their credit card is maxed out   \n",
       "11                                                          Water rates in Manila, Philippines, were raised up to 845 percent when a subsidiary of the World Bank became a partial owner.   \n",
       "12                                                                  Women and men both are making less when you adjust for inflation than when John Kitzhaber was first elected governor.   \n",
       "13                                                                                                  Says Scott Walker favors cutting up to 350,000 families and children off health care.   \n",
       "14                                                                                                                               Says Mitt Romney wants to get rid of Planned Parenthood.   \n",
       "15                                                                                                                                                  I dont know who (Jonathan Gruber) is.   \n",
       "16                                               Rick Perry has never lost an election and remains the only person to have won the Texas governorship three times in landslide elections.   \n",
       "17                                                                                                ISIS supporter tweeted at 10:34 a.m. Shooting began at 10:45 a.m. in Chattanooga, Tenn.   \n",
       "18                                                   If you look at states that are right to work, they constantly do not have budget deficits and they have very good business climates.   \n",
       "19            What (the Obama administration is) going to come out with in the next several months is youre not even going to be able to burn coal very limitedly in the existing plants.   \n",
       "\n",
       "                                                                                                                                                                                                                                                                                                                                                                                                                                                                                                                                                                                                                                                                                                                                                                                                                                                                                                                                                                         explanation  \\\n",
       "0                                                                                                                                                                                                                                                                                                                                                                                                                                                                                                                                                                                                                                                                                                                           That's a premise that he fails to back up. Annie's List makes no bones about being comfortable with candidates who oppose further restrictions on late-term abortions. Then again, this year its backing two House candidates who voted for more limits.   \n",
       "1                                                                                                                                                                                                                                                                                                                      Surovell said the decline of coal \"started when natural gas took off  That started to begin in President (George W. ) Bushs administration. \"No doubt, natural gas has been gaining ground on coal in generating electricity. The trend started in the 1990s but clearly gained speed during the Bush administration when the production of natural gas -- a competitor of coal -- picked up. But analysts give little credit or blame to Bush for that trend. They note that other factors, such as technological innovation, entrepreneurship and policies of previous administrations, had more to do with laying the groundwork for the natural gas boom.   \n",
       "2                                                                                                                                                                                                                                                                                                                               The release may have a point that Mikulskis comment could open the door to \"medically necessary\" coverage which conceivably may include sex-change operations. But it's unclear whether her amendment will remain in the legislation, and there's nothing specific in the legislation on sex-change procedures and nothing else solid that indicates such coverage will be provided. The news release cherry-picked a few fleeting references to gender and sexual orientation in completely unrelated contexts to argue that proposed health care legislation would mandate free sex-change surgeries (and allow them for illegal aliens, no less).   \n",
       "3                                                                                                                                                                                                                                                                                                                                                                                                    Crist said that the economic \"turnaround started at the end of my term. \"During Crists last year in office, Floridas economy experienced notable gains in personal income and industrial production, and more marginal improvements in the unemployment rate and in payroll employment. But GDP didnt grow again until Scott took office. Economists say Crist deserves some credit for the economic turnaround because he accepted federal stimulus dollars, but they add that any state is inevitably buffeted by national and international trends far beyond their control.   \n",
       "4                                                                                                                                                                                                                                                                                                                                                                                                                                                                                                                                                                                                                                                                                                         But determining that would take significant detective work, far more than a few photos. A broader interpretation would allow for the possibility Dunnam hasnt lived exclusively in his House district for years, but instead flits between -- and lives in -- both houses.   \n",
       "5                                                                                                                                                                                                                                                                                                                                                                                                                                                                                                             However, it was not that bill, but another one, sponsored by Majority Leader Harry Reid and introduced five days earlier on Jan.  4, 2007 that eventually became law. Obama was not a cosponsor, but he did successfully offer an amendment concerning lobbyist disclosure and the bill included some elements from the one he had introduced the previous year. Obama, as well as Biden, Clinton and Dodd all voted for it. In the House, Kucinich also voted for it.   \n",
       "6                                                                                                                                                                                                                                                                                                                                                                                                                                                                                                                                        But Johnson is correct that many other factors played a role and for the Lottery to suggest that its money was the final piece is incomplete. The statement is partially accurate -- Lottery money made the lease competitive -- but it leaves out important details. Astoria dropped out; Newports bid was better on technical fronts than the others; legislative leaders pulled together to set aside the dollars and bonding authority.   \n",
       "7                                                                                                                                                                                                                                                                                                                                                                                                    So where does this leave us?On Sanders side, he used a solid number, and hes clearly right about the underlying trend -- despite some ups and downs, there are more impoverished Americans today than there were in 2000, both measured by raw numbers and as a percentage of the population. But we think he goes too far when he suggests these 12 million Americans simply fell from the middle class into poverty. And he ignores the fact that as those 12 million Americans were slipping into poverty, many, many Americans were simultaneously climbing out of poverty.   \n",
       "8   With all the talk about problems with the health care law, its easy to forget just how many corners of health insurance policy the law affects. Will seemed guilty of that on Fox News Sunday when he said most of the law has been waived or suspended. Obama has made at least two major course corrections in the law. He delayed the employer mandate by one year and allowed individuals dealing with canceled plans to buy insurance that fails to meet minimum standards under the law. One way to put these changes into context is to look at the number of people they affect. While precise data are missing, the combined impact could be in the range of 1 million Americans. On the other side of the ledger, 3. 1 million young adults have gained access to coverage through the law, another 18 million people are subject to the individual mandate and millions more have benefited from requirements that health insurance companies spend premiums on care.   \n",
       "9                                                                                                                                                                                                                                                                                                                                                                                                                                                                                                                                                                            Sanders said that \"in this last election in November, . . . 63 percent of the American people chose not to vote, . . . 80 percent of young people, (and) 75 percent of low-income workers chose not to vote. \"Sanders was too loose with some of his numbers and his wording, but he has a point that rates of non-voting among Americans, and especially among younger and poorer Americans, are high.   \n",
       "10                                                                                                                                                                                                                                                                                                                                                                                                                                                                                                                                                                                                                                                                                                                                                                                                                                            And the debt is a result of tax cuts as well as various spending measures, and both Democrats and Republicans supported such measures.   \n",
       "11                                                                                                                                                                                                                                                                       Moore said that when the International Finance Corporation became a part-owner of Manila Water, rates rose 845 percent. The source cited by Moores staff undermines that number. The International Finance Corporation bought its stake in 2004. Between 2004 and 2012, rates rose about 170 percent. Moore incorrectly used a figure that would apply to the period from 1997 to 2012. However, the IFC crafted the plan for privatization in the first place. All parties knew that important capital investments would follow, and that rates would go up. Moore wrongly pegged the rate increase to the date of IFCs equity position, but the development corporation played a key role from the start.   \n",
       "12                                                                                                                                                                                                                                                                                                                                                                                                                                                                                                                                                                                                   It didnt, in other words, change the final result. The Richardson campaign did get back to us but, regardless, the information it provided doesn't hold up. Data from the two federal agencies and the state Employment Department show that both genders make more today, when their wages are adjusted for inflation, than they did when Kitzhaber was first elected in 1995.   \n",
       "13                                                                                                                                                                                                                                                                                                                                                                                                                                                                                                                                                                                                                                                        Walker changed course to a muddier position, while Greater Wisconsin has continued to cite the number. It adds an important qualifier though -- \"up to\" 350,000. Walkers new position, while unclear, still focuses on reining in BadgerCare enrollment -- whether its the 68,000 or some other number remains to be seen.   \n",
       "14                                                                                                                                                                                                                                                                       The Planned Parenthood Action Fund aid said that Romney wants to \"get rid of Planned Parenthood. \"That directly contradicts what Romney has said -- that he wants to end federal funding for Planned Parenthood, not abolish the organization -- and his staff reaffirmed that position. Theres no question that an end to federal funding would be a significant blow to the organizations operations, potentially chopping 12 percent to 35 percent from its budget. But its an exaggeration to say that Romney would act to \"get rid\" of the organization. UPDATE: After our story appeared, Planned Parenthood provided some additional statistics about how many Medicaid patients use their services.   \n",
       "15                                                                                                                                                                                                                                                                                                                                                                                                                                                                                                                                                                                                                                                                                                                                                                                                                                                                                                                              Pelosi said, \"I don't know who (Jonathan Gruber) is.   \n",
       "16                                                                                                                                                                                                                                                                                                                                                                                                                                                                                                                                                                                                         And, Jillson said, he would not term Perrys 06 win a landslide. Indeed, he said, the governors 39 percent amounted to a comeuppance; 60 percent of voters chose a different aspirant. Our take: Perry is the third--not first--Texas governor to win re-election thrice. Two of his wins were bona fide landslides but the thirds landslide status is at least debatable.   \n",
       "17                                                                                                                                                                                                                                                                                                                                                                                                                                                                                                                                                                                                                                                                                                                                                                                                                                                                                         Geller updated the original post, but it did little to stuff the rumor back into the bag.   \n",
       "18                                                                                                                                                                                                                                                                                                                                                                                                                                                                                                                                                                                                                                                                                                                                                       They did generally rank right-to-work states higher than union states, but they considered many other factors, including tax policy, that could account for the better rankings. (Get updates from PolitiFactRI on Twitter.   \n",
       "19                                                                                                                                                                                                          Capito said \"What (Obama is) going to come out with in the next several months is you're not even going to be able to burn coal very limitedly in the existing plants. \"The proposal Capito is referring to is an EPA plan to cut carbon emissions in existing power plants. Those rules do not prohibit current facilities from burning coal, and even Capitos spokeswoman said the rule \"doesn't mean that every plant has to close. \"Some facilities will close down within the next decade, but many of those plants were scheduled to be retired anyway due to age and other factors. States and power companies have options to continue to utilize coal for energy, and experts said they expect coal to remain part of the national portfolio for years to come.   \n",
       "\n",
       "   explanationClass  \n",
       "0         unfounded  \n",
       "1          emphasis  \n",
       "2      exaggeration  \n",
       "3          emphasis  \n",
       "4      exaggeration  \n",
       "5         unfounded  \n",
       "6          emphasis  \n",
       "7         unfounded  \n",
       "8      exaggeration  \n",
       "9          emphasis  \n",
       "10        unfounded  \n",
       "11     exaggeration  \n",
       "12        unfounded  \n",
       "13     exaggeration  \n",
       "14     exaggeration  \n",
       "15       distortion  \n",
       "16       distortion  \n",
       "17        unfounded  \n",
       "18         emphasis  \n",
       "19       distortion  "
      ]
     },
     "metadata": {},
     "output_type": "display_data"
    },
    {
     "data": {
      "text/html": [
       "<div>\n",
       "<style scoped>\n",
       "    .dataframe tbody tr th:only-of-type {\n",
       "        vertical-align: middle;\n",
       "    }\n",
       "\n",
       "    .dataframe tbody tr th {\n",
       "        vertical-align: top;\n",
       "    }\n",
       "\n",
       "    .dataframe thead th {\n",
       "        text-align: right;\n",
       "    }\n",
       "</style>\n",
       "<table border=\"1\" class=\"dataframe\">\n",
       "  <thead>\n",
       "    <tr style=\"text-align: right;\">\n",
       "      <th></th>\n",
       "      <th>truthValue</th>\n",
       "      <th>statement</th>\n",
       "      <th>explanation</th>\n",
       "      <th>explanationClass</th>\n",
       "    </tr>\n",
       "  </thead>\n",
       "  <tbody>\n",
       "    <tr>\n",
       "      <th>0</th>\n",
       "      <td>false</td>\n",
       "      <td>Wisconsin is on pace to double the number of layoffs this year.</td>\n",
       "      <td>She cited layoff notices received by the state. But those arent actual layoffs. In the time frame she cited the states added about 30,300 jobs.</td>\n",
       "      <td>unfounded</td>\n",
       "    </tr>\n",
       "    <tr>\n",
       "      <th>1</th>\n",
       "      <td>false</td>\n",
       "      <td>Says John McCain has done nothing to help the vets.</td>\n",
       "      <td>Trump said that McCain \"has done nothing to help the vets. \"While many veterans groups have had their differences with McCain over the years over specific legislation and his general approach to veterans issues, thats not the same as saying hes done \"nothing\" for veterans. In fact, just within the past two years, McCain has sponsored and helped enact several major provisions to help veterans. He also devotes a significant portion of his office staff to offer veterans on casework.</td>\n",
       "      <td>emphasis</td>\n",
       "    </tr>\n",
       "    <tr>\n",
       "      <th>2</th>\n",
       "      <td>false</td>\n",
       "      <td>Suzanne Bonamici supports a plan that will cut choice for Medicare Advantage seniors.</td>\n",
       "      <td>But spending still goes up. In addition, many outside factors can affect the cost and range of benefits, making it impossible to know how Medicare Advantage might change. While the statement from Cornilles is partially accurate, it is taken out of context and ignores important details on a politically volatile subject.</td>\n",
       "      <td>exaggeration</td>\n",
       "    </tr>\n",
       "    <tr>\n",
       "      <th>3</th>\n",
       "      <td>false</td>\n",
       "      <td>When asked by a reporter whether hes at the center of a criminal scheme to violate campaign laws, Gov. Scott Walker nodded yes.</td>\n",
       "      <td>Our rating A Democratic Party web video making the rounds on social media shows a grim-faced Gov. Scott Walker appearing to bob his head yes to a reporters question about whether he was at the center of a \"criminal scheme\" to evade campaign finance laws. In real life, the governor answered an emphatic \"no\" -- not surprising given hes been denying any wrongdoing since new documents were released in the John Doe investigation.</td>\n",
       "      <td>emphasis</td>\n",
       "    </tr>\n",
       "    <tr>\n",
       "      <th>4</th>\n",
       "      <td>false</td>\n",
       "      <td>Says Vice President Joe Biden \"admits that the American people are being scammed\" with the economic stimulus package.</td>\n",
       "      <td>Boehner may be technically correct that Biden mentioned people being scammed in the roundtable meeting. But Boehner incorrectly suggests the vice president called the stimulus a scam and he fails to note that Biden promised \"to expose abuses whenever they were detected,\" as the AP reported.</td>\n",
       "      <td>exaggeration</td>\n",
       "    </tr>\n",
       "    <tr>\n",
       "      <th>5</th>\n",
       "      <td>false</td>\n",
       "      <td>We know that more than half of Hillary Clintons meetings while she was secretary of state were given to major contributors to the Clinton Foundation.</td>\n",
       "      <td>Pence said, \"We know that more than half of Hillary Clinton's meetings while she was secretary of state were given to major contributors of the Clinton Foundation. \"Pence inaccurately described an Associated Press report. The report found that of 154 meetings Clinton took with private individuals over about half of her time as secretary of state, 85 were with people who had donated to the foundation. But the analysis leaves out thousands of meetings Clinton took, including every time she met with employees of both U. S.  and foreign governments. It also only covers part of her time as secretary of state.</td>\n",
       "      <td>unfounded</td>\n",
       "    </tr>\n",
       "    <tr>\n",
       "      <th>6</th>\n",
       "      <td>false</td>\n",
       "      <td>We know there are more Democrats in Georgia than Republicans. We know that for a fact.</td>\n",
       "      <td>While more people voted Democrat in the 2008 primary, Republicans dominated in the 2010 statewide races, and more Georgians voted on the GOP ballot in July. The polling data says its close, but election results and the most recent makeup of the Georgia Legislature suggest there are more Georgians who consider themselves Republican.</td>\n",
       "      <td>emphasis</td>\n",
       "    </tr>\n",
       "    <tr>\n",
       "      <th>7</th>\n",
       "      <td>false</td>\n",
       "      <td>PolitiFact Texas says Congressman Edwards attacks on Bill Flores are false.</td>\n",
       "      <td>We informed Mackowiak of the date conflict. He later told us that the campaign had fixed the date and sent new copies of the ad to the outlets running the ads.</td>\n",
       "      <td>unfounded</td>\n",
       "    </tr>\n",
       "    <tr>\n",
       "      <th>8</th>\n",
       "      <td>false</td>\n",
       "      <td>Denali is the Kenyan word for black power.</td>\n",
       "      <td>The word \"Denali\" doesnt show up in Swahili, one of Kenyas two national languages. Instead, its Koyukon Athabaskan for \"high\" or \"tall.</td>\n",
       "      <td>exaggeration</td>\n",
       "    </tr>\n",
       "    <tr>\n",
       "      <th>9</th>\n",
       "      <td>false</td>\n",
       "      <td>Says 57 percent of federal spending goes to the military and just 1 percent goes to food and agriculture, including food stamps.</td>\n",
       "      <td>A social-media meme says that 57 percent of federal spending goes to the military and just 1 percent goes to food and agriculture, including food stamps. To get numbers that approximate this, the pie chart cherry-picks just discretionary spending. But that means the pie chart represents only about one-third of federal spending. Once you include the 60 percent of the budget that is mandatory spending, the military share plunges from 57 percent to 16 percent, and the categories that include Social Security, Medicare and Medicaid collectively account for a majority of federal spending. Spending on food and agriculture is still small, but it does quadruple from 1 percent to 4 percent. Due to its skewed methodology, the pie chart offers a deeply distorted picture of federal spending.</td>\n",
       "      <td>emphasis</td>\n",
       "    </tr>\n",
       "    <tr>\n",
       "      <th>10</th>\n",
       "      <td>false</td>\n",
       "      <td>On residency requirements for public workers</td>\n",
       "      <td>He clearly has some misgivings about residency rules for Milwaukee County government, so leaving the file unsigned is not a major reversal. Still, his actions and words have been inconsistent, to the point where both his political friends and his frequent foes on the County Board were taken aback by his withdrawal from the fight as the legislative battle drew to a close in June. Indeed, if Abele had the nuanced position he says he did, it was so closely held that even one of his top aides apparently was completely unaware of it.</td>\n",
       "      <td>unfounded</td>\n",
       "    </tr>\n",
       "    <tr>\n",
       "      <th>11</th>\n",
       "      <td>false</td>\n",
       "      <td>Unfortunately we have documented instances where people defecated in the (Statehouse) building.</td>\n",
       "      <td>As Senate president, Niehaus is one of the most influential people in the state government and when he speaks people listen.</td>\n",
       "      <td>exaggeration</td>\n",
       "    </tr>\n",
       "    <tr>\n",
       "      <th>12</th>\n",
       "      <td>false</td>\n",
       "      <td>A recent Gallup poll found that 72 percent of Americans and 56 percent of Democrats say the biggest threat to our nations security is big government.</td>\n",
       "      <td>Blackburn said a recent Gallup poll found that 72 percent of Americans and 56 percent of Democrats \"say the biggest threat to our nation's security is big government. \"She got the numbers right, but the specific poll only offered respondents three options: \"big government,\" \"big business\" or \"big labor. Other polls, including Gallups own, show that when respondents are asked an open-ended question, other issues such as the economy rise to the top of the list. So Blackburn is essentially cherry-picking among polls.</td>\n",
       "      <td>unfounded</td>\n",
       "    </tr>\n",
       "    <tr>\n",
       "      <th>13</th>\n",
       "      <td>false</td>\n",
       "      <td>Ronald Reagan faced an even worse recession than the current one.</td>\n",
       "      <td>The misery index in the current recession has been lower -- 5. 7 in 2008 and 11. 8 so far in 2009. The barometers we examined aren't necessarily equal measurements of the magnitude, but collectively they paint a picture that the current recession -- so far -- is worse than the one under Reagan. Even if we had decided to include inflation as a factor, the measurements would still indicate the current recession is worse.</td>\n",
       "      <td>exaggeration</td>\n",
       "    </tr>\n",
       "    <tr>\n",
       "      <th>14</th>\n",
       "      <td>false</td>\n",
       "      <td>Says Mitt Romney was one of the first national Republican leaders to endorse Marco Rubio.</td>\n",
       "      <td>Rubio said that Romney was \"one of the first national Republican leaders to endorse me. \"Romney did endorse Rubio before Crist dropped out of the primary in 2010. But it was clear at the time that Rubio would have thumped Crist in a primary if Crist hadnt dropped out. But it bears noting that Romneys endorsement of Rubio was something less than a pioneering stand.</td>\n",
       "      <td>exaggeration</td>\n",
       "    </tr>\n",
       "    <tr>\n",
       "      <th>15</th>\n",
       "      <td>false</td>\n",
       "      <td>The number of illegal immigrants could be 3 million. It could be 30 million.</td>\n",
       "      <td>Trump said the number of illegal immigrants \"could be 3 million. It could be 30 million. \"Both figures are not within the range of possibility. Every credible estimate we found was in the 11 million range, with a margin of error of around 1 million. The figure has \"always\" been 11 million, in recent years, because of the flow of undocumented immigrants in and out of the United States.</td>\n",
       "      <td>distortion</td>\n",
       "    </tr>\n",
       "    <tr>\n",
       "      <th>16</th>\n",
       "      <td>false</td>\n",
       "      <td>Says Charlie Crist is embroiled in a fraud case for steering taxpayer money to a de facto Ponzi scheme.</td>\n",
       "      <td>The Republicans ad said, \"Crist is embroiled in a fraud case for steering taxpayer money to a de facto Ponzi scheme,\" referring to Digital Domain getting $20 million in state incentives and then going belly up. But a state report, ordered by Scott, concluded there were no violations of law or rules by Crist or any other politician. The report also showed Crist was one of many political players who helped the company get the state money. A civil court could find that Digital Domain committed fraud. However, the companys plan to pay off its debt in another state by getting money from Florida doesnt meet the definition of a classic Ponzi scheme. Also, while Crist is mentioned in the court filing, he's not a defendant in the case.</td>\n",
       "      <td>distortion</td>\n",
       "    </tr>\n",
       "    <tr>\n",
       "      <th>17</th>\n",
       "      <td>false</td>\n",
       "      <td>I was gone when there was a red line against Syria.</td>\n",
       "      <td>Clinton said, \"I was gone\" when there was a red line against Syria. Clinton was secretary of state in August 2012 when Obama said if the Assad regime were to use chemical weapons, that would cross a \"red line\" after which Obama would consider using military force in Syria. In the months following that statement, Clinton reiterated Obamas position, using the phrase \"red line. \"A year later, August 2013, the White House confirmed Syria had crossed this \"red line. \"By this point, Clinton had left the State Department months earlier. However, in the days following that revelation, Clinton met with Obama and his staff several times and publicly endorsed the White Houses position on how to respond.</td>\n",
       "      <td>unfounded</td>\n",
       "    </tr>\n",
       "    <tr>\n",
       "      <th>18</th>\n",
       "      <td>false</td>\n",
       "      <td>Tim Kaine hiked tuition as governor, but now claims to champion affordability.</td>\n",
       "      <td>As the Democratic vice presidential nominee, Kaine clearly is taking on college affordability by advocating debt-free college for everyone and tuition-free education for in-state students from families making less than $125,000 a year. When Kaine was governor from 2006 to 2010, in-state tuition and instructional fees rose 31. 2 percent at four-year colleges and 24. 5 percent at community colleges. Colleges largely are autonomous in Virginia and allowed to set their own student costs. Tuition has been rising steadily in Virginia and across the nation for decades. While Kaine did not pull the lever for the tuition hikes, they did occur under his watch.</td>\n",
       "      <td>emphasis</td>\n",
       "    </tr>\n",
       "    <tr>\n",
       "      <th>19</th>\n",
       "      <td>false</td>\n",
       "      <td>Its been since 1888 that a Senate of a different party than the president in the White House confirmed a Supreme Court nominee.</td>\n",
       "      <td>While hemay have intendedto invoke the example of Supreme Court nominations in the 1888 presidential election-year, he didn't say that.</td>\n",
       "      <td>distortion</td>\n",
       "    </tr>\n",
       "  </tbody>\n",
       "</table>\n",
       "</div>"
      ],
      "text/plain": [
       "   truthValue  \\\n",
       "0       false   \n",
       "1       false   \n",
       "2       false   \n",
       "3       false   \n",
       "4       false   \n",
       "5       false   \n",
       "6       false   \n",
       "7       false   \n",
       "8       false   \n",
       "9       false   \n",
       "10      false   \n",
       "11      false   \n",
       "12      false   \n",
       "13      false   \n",
       "14      false   \n",
       "15      false   \n",
       "16      false   \n",
       "17      false   \n",
       "18      false   \n",
       "19      false   \n",
       "\n",
       "                                                                                                                                                statement  \\\n",
       "0                                                                                         Wisconsin is on pace to double the number of layoffs this year.   \n",
       "1                                                                                                     Says John McCain has done nothing to help the vets.   \n",
       "2                                                                   Suzanne Bonamici supports a plan that will cut choice for Medicare Advantage seniors.   \n",
       "3                         When asked by a reporter whether hes at the center of a criminal scheme to violate campaign laws, Gov. Scott Walker nodded yes.   \n",
       "4                                   Says Vice President Joe Biden \"admits that the American people are being scammed\" with the economic stimulus package.   \n",
       "5   We know that more than half of Hillary Clintons meetings while she was secretary of state were given to major contributors to the Clinton Foundation.   \n",
       "6                                                                  We know there are more Democrats in Georgia than Republicans. We know that for a fact.   \n",
       "7                                                                             PolitiFact Texas says Congressman Edwards attacks on Bill Flores are false.   \n",
       "8                                                                                                              Denali is the Kenyan word for black power.   \n",
       "9                        Says 57 percent of federal spending goes to the military and just 1 percent goes to food and agriculture, including food stamps.   \n",
       "10                                                                                                           On residency requirements for public workers   \n",
       "11                                                        Unfortunately we have documented instances where people defecated in the (Statehouse) building.   \n",
       "12  A recent Gallup poll found that 72 percent of Americans and 56 percent of Democrats say the biggest threat to our nations security is big government.   \n",
       "13                                                                                      Ronald Reagan faced an even worse recession than the current one.   \n",
       "14                                                              Says Mitt Romney was one of the first national Republican leaders to endorse Marco Rubio.   \n",
       "15                                                                           The number of illegal immigrants could be 3 million. It could be 30 million.   \n",
       "16                                                Says Charlie Crist is embroiled in a fraud case for steering taxpayer money to a de facto Ponzi scheme.   \n",
       "17                                                                                                    I was gone when there was a red line against Syria.   \n",
       "18                                                                         Tim Kaine hiked tuition as governor, but now claims to champion affordability.   \n",
       "19                        Its been since 1888 that a Senate of a different party than the president in the White House confirmed a Supreme Court nominee.   \n",
       "\n",
       "                                                                                                                                                                                                                                                                                                                                                                                                                                                                                                                                                                                                                                                                                                                                                                                                              explanation  \\\n",
       "0                                                                                                                                                                                                                                                                                                                                                                                                                                                                                                                                                                                                                                                                         She cited layoff notices received by the state. But those arent actual layoffs. In the time frame she cited the states added about 30,300 jobs.   \n",
       "1                                                                                                                                                                                                                                                                                                                    Trump said that McCain \"has done nothing to help the vets. \"While many veterans groups have had their differences with McCain over the years over specific legislation and his general approach to veterans issues, thats not the same as saying hes done \"nothing\" for veterans. In fact, just within the past two years, McCain has sponsored and helped enact several major provisions to help veterans. He also devotes a significant portion of his office staff to offer veterans on casework.   \n",
       "2                                                                                                                                                                                                                                                                                                                                                                                                                                                                                        But spending still goes up. In addition, many outside factors can affect the cost and range of benefits, making it impossible to know how Medicare Advantage might change. While the statement from Cornilles is partially accurate, it is taken out of context and ignores important details on a politically volatile subject.   \n",
       "3                                                                                                                                                                                                                                                                                                                                                                            Our rating A Democratic Party web video making the rounds on social media shows a grim-faced Gov. Scott Walker appearing to bob his head yes to a reporters question about whether he was at the center of a \"criminal scheme\" to evade campaign finance laws. In real life, the governor answered an emphatic \"no\" -- not surprising given hes been denying any wrongdoing since new documents were released in the John Doe investigation.   \n",
       "4                                                                                                                                                                                                                                                                                                                                                                                                                                                                                                                     Boehner may be technically correct that Biden mentioned people being scammed in the roundtable meeting. But Boehner incorrectly suggests the vice president called the stimulus a scam and he fails to note that Biden promised \"to expose abuses whenever they were detected,\" as the AP reported.   \n",
       "5                                                                                                                                                                                     Pence said, \"We know that more than half of Hillary Clinton's meetings while she was secretary of state were given to major contributors of the Clinton Foundation. \"Pence inaccurately described an Associated Press report. The report found that of 154 meetings Clinton took with private individuals over about half of her time as secretary of state, 85 were with people who had donated to the foundation. But the analysis leaves out thousands of meetings Clinton took, including every time she met with employees of both U. S.  and foreign governments. It also only covers part of her time as secretary of state.   \n",
       "6                                                                                                                                                                                                                                                                                                                                                                                                                                                                           While more people voted Democrat in the 2008 primary, Republicans dominated in the 2010 statewide races, and more Georgians voted on the GOP ballot in July. The polling data says its close, but election results and the most recent makeup of the Georgia Legislature suggest there are more Georgians who consider themselves Republican.   \n",
       "7                                                                                                                                                                                                                                                                                                                                                                                                                                                                                                                                                                                                                                                         We informed Mackowiak of the date conflict. He later told us that the campaign had fixed the date and sent new copies of the ad to the outlets running the ads.   \n",
       "8                                                                                                                                                                                                                                                                                                                                                                                                                                                                                                                                                                                                                                                                                 The word \"Denali\" doesnt show up in Swahili, one of Kenyas two national languages. Instead, its Koyukon Athabaskan for \"high\" or \"tall.   \n",
       "9   A social-media meme says that 57 percent of federal spending goes to the military and just 1 percent goes to food and agriculture, including food stamps. To get numbers that approximate this, the pie chart cherry-picks just discretionary spending. But that means the pie chart represents only about one-third of federal spending. Once you include the 60 percent of the budget that is mandatory spending, the military share plunges from 57 percent to 16 percent, and the categories that include Social Security, Medicare and Medicaid collectively account for a majority of federal spending. Spending on food and agriculture is still small, but it does quadruple from 1 percent to 4 percent. Due to its skewed methodology, the pie chart offers a deeply distorted picture of federal spending.   \n",
       "10                                                                                                                                                                                                                                                                 He clearly has some misgivings about residency rules for Milwaukee County government, so leaving the file unsigned is not a major reversal. Still, his actions and words have been inconsistent, to the point where both his political friends and his frequent foes on the County Board were taken aback by his withdrawal from the fight as the legislative battle drew to a close in June. Indeed, if Abele had the nuanced position he says he did, it was so closely held that even one of his top aides apparently was completely unaware of it.   \n",
       "11                                                                                                                                                                                                                                                                                                                                                                                                                                                                                                                                                                                                                                                                                           As Senate president, Niehaus is one of the most influential people in the state government and when he speaks people listen.   \n",
       "12                                                                                                                                                                                                                                                                                Blackburn said a recent Gallup poll found that 72 percent of Americans and 56 percent of Democrats \"say the biggest threat to our nation's security is big government. \"She got the numbers right, but the specific poll only offered respondents three options: \"big government,\" \"big business\" or \"big labor. Other polls, including Gallups own, show that when respondents are asked an open-ended question, other issues such as the economy rise to the top of the list. So Blackburn is essentially cherry-picking among polls.   \n",
       "13                                                                                                                                                                                                                                                                                                                                                                                 The misery index in the current recession has been lower -- 5. 7 in 2008 and 11. 8 so far in 2009. The barometers we examined aren't necessarily equal measurements of the magnitude, but collectively they paint a picture that the current recession -- so far -- is worse than the one under Reagan. Even if we had decided to include inflation as a factor, the measurements would still indicate the current recession is worse.   \n",
       "14                                                                                                                                                                                                                                                                                                                                                                                                                                         Rubio said that Romney was \"one of the first national Republican leaders to endorse me. \"Romney did endorse Rubio before Crist dropped out of the primary in 2010. But it was clear at the time that Rubio would have thumped Crist in a primary if Crist hadnt dropped out. But it bears noting that Romneys endorsement of Rubio was something less than a pioneering stand.   \n",
       "15                                                                                                                                                                                                                                                                                                                                                                                                                    Trump said the number of illegal immigrants \"could be 3 million. It could be 30 million. \"Both figures are not within the range of possibility. Every credible estimate we found was in the 11 million range, with a margin of error of around 1 million. The figure has \"always\" been 11 million, in recent years, because of the flow of undocumented immigrants in and out of the United States.   \n",
       "16                                                       The Republicans ad said, \"Crist is embroiled in a fraud case for steering taxpayer money to a de facto Ponzi scheme,\" referring to Digital Domain getting $20 million in state incentives and then going belly up. But a state report, ordered by Scott, concluded there were no violations of law or rules by Crist or any other politician. The report also showed Crist was one of many political players who helped the company get the state money. A civil court could find that Digital Domain committed fraud. However, the companys plan to pay off its debt in another state by getting money from Florida doesnt meet the definition of a classic Ponzi scheme. Also, while Crist is mentioned in the court filing, he's not a defendant in the case.   \n",
       "17                                                                                          Clinton said, \"I was gone\" when there was a red line against Syria. Clinton was secretary of state in August 2012 when Obama said if the Assad regime were to use chemical weapons, that would cross a \"red line\" after which Obama would consider using military force in Syria. In the months following that statement, Clinton reiterated Obamas position, using the phrase \"red line. \"A year later, August 2013, the White House confirmed Syria had crossed this \"red line. \"By this point, Clinton had left the State Department months earlier. However, in the days following that revelation, Clinton met with Obama and his staff several times and publicly endorsed the White Houses position on how to respond.   \n",
       "18                                                                                                                                     As the Democratic vice presidential nominee, Kaine clearly is taking on college affordability by advocating debt-free college for everyone and tuition-free education for in-state students from families making less than $125,000 a year. When Kaine was governor from 2006 to 2010, in-state tuition and instructional fees rose 31. 2 percent at four-year colleges and 24. 5 percent at community colleges. Colleges largely are autonomous in Virginia and allowed to set their own student costs. Tuition has been rising steadily in Virginia and across the nation for decades. While Kaine did not pull the lever for the tuition hikes, they did occur under his watch.   \n",
       "19                                                                                                                                                                                                                                                                                                                                                                                                                                                                                                                                                                                                                                                                                While hemay have intendedto invoke the example of Supreme Court nominations in the 1888 presidential election-year, he didn't say that.   \n",
       "\n",
       "   explanationClass  \n",
       "0         unfounded  \n",
       "1          emphasis  \n",
       "2      exaggeration  \n",
       "3          emphasis  \n",
       "4      exaggeration  \n",
       "5         unfounded  \n",
       "6          emphasis  \n",
       "7         unfounded  \n",
       "8      exaggeration  \n",
       "9          emphasis  \n",
       "10        unfounded  \n",
       "11     exaggeration  \n",
       "12        unfounded  \n",
       "13     exaggeration  \n",
       "14     exaggeration  \n",
       "15       distortion  \n",
       "16       distortion  \n",
       "17        unfounded  \n",
       "18         emphasis  \n",
       "19       distortion  "
      ]
     },
     "metadata": {},
     "output_type": "display_data"
    }
   ],
   "source": [
    "# Set pandas options show that dataframes appear not truncated.\n",
    "pd.set_option('display.max_rows', None)\n",
    "pd.set_option('display.max_columns', None)\n",
    "pd.set_option('display.width', None)\n",
    "pd.set_option('display.max_colwidth', None)\n",
    "\n",
    "# Select a small number of data.\n",
    "selectedTrainData = falseTrainData[: 20]\n",
    "selectedTestData  = falseTestData[: 20]\n",
    "\n",
    "# Temporarily add explanationClass manually.\n",
    "trainExplanationClass = ['unfounded', 'emphasis', 'exaggeration', 'emphasis', 'exaggeration', \n",
    "                    'unfounded', 'emphasis', 'unfounded', 'exaggeration', 'emphasis',\n",
    "                    'unfounded', 'exaggeration', 'unfounded', 'exaggeration', 'exaggeration',\n",
    "                    'distortion', 'distortion', 'unfounded', 'emphasis', 'distortion']\n",
    "selectedTrainData['explanationClass'] = trainExplanationClass\n",
    "\n",
    "testExplanationClass = ['unfounded', 'emphasis', 'exaggeration', 'emphasis', 'exaggeration', \n",
    "                    'unfounded', 'emphasis', 'unfounded', 'exaggeration', 'emphasis',\n",
    "                    'unfounded', 'exaggeration', 'unfounded', 'exaggeration', 'exaggeration',\n",
    "                    'distortion', 'distortion', 'unfounded', 'emphasis', 'distortion']\n",
    "selectedTestData['explanationClass'] = testExplanationClass\n",
    "\n",
    "\n",
    "display(selectedTrainData)\n",
    "display(selectedTestData)"
   ]
  },
  {
   "cell_type": "markdown",
   "metadata": {},
   "source": [
    "#### Data preprocessing steps\n",
    "\n",
    "<ul>\n",
    "  <li>Remove statements with short explanations.(&lt;=5 sentences)</li>\n",
    "  <li>Remove stop words</li>\n",
    "  <li>Stem words</li>\n",
    "</ul>"
   ]
  },
  {
   "cell_type": "code",
   "execution_count": 51,
   "metadata": {},
   "outputs": [],
   "source": [
    "# Create a list containing statemens + explanations\n",
    "\n",
    "trainStateExpl = []\n",
    "yTrainLabels   = selectedTrainData['explanationClass'].tolist()\n",
    "testStateExpl  = []\n",
    "yTestLabels    = selectedTestData['explanationClass'].tolist()\n",
    "\n",
    "for index, row in selectedTrainData.iterrows():\n",
    "    trainStateExpl.append(row['statement'] + row['explanation'])\n",
    "\n",
    "for index, row in selectedTestData.iterrows():\n",
    "    testStateExpl.append(row['statement'] + row['explanation'])\n",
    "\n",
    "totalStateExpl = trainStateExpl + testStateExpl\n",
    "yTotalLabels = np.array(yTrainLabels + yTestLabels)"
   ]
  },
  {
   "cell_type": "code",
   "execution_count": 112,
   "metadata": {},
   "outputs": [],
   "source": [
    "import nltk\n",
    "from sklearn.neighbors import KNeighborsClassifier\n",
    "from sklearn.feature_extraction.text import CountVectorizer\n",
    "from sklearn.feature_extraction.text import TfidfTransformer\n",
    "from sklearn.metrics import classification_report, confusion_matrix, accuracy_score"
   ]
  },
  {
   "cell_type": "code",
   "execution_count": 31,
   "metadata": {},
   "outputs": [],
   "source": [
    "# Convert words to number using Bag of Words (Bow)\n",
    "vectorizer = CountVectorizer(max_features=30, min_df=5, max_df=0.7)\n",
    "vectorizedTrain = vectorizer.fit_transform(trainStateExpl).toarray()\n",
    "vectorizedTest  = vectorizer.fit_transform(testStateExpl).toarray()\n",
    "vectorizedTotal = vectorizer.fit_transform(totalStateExpl).toarray()\n",
    "\n",
    "# Convert Bow values according to TfIdf\n",
    "tfidfconverter = TfidfTransformer()\n",
    "XTrain = tfidfconverter.fit_transform(vectorizedTrain).toarray()\n",
    "XTest = tfidfconverter.fit_transform(vectorizedTest).toarray()\n",
    "XTotal = tfidfconverter.fit_transform(vectorizedTotal).toarray()"
   ]
  },
  {
   "cell_type": "markdown",
   "metadata": {},
   "source": [
    "### Dummy Classifier"
   ]
  },
  {
   "cell_type": "code",
   "execution_count": 152,
   "metadata": {},
   "outputs": [
    {
     "name": "stdout",
     "output_type": "stream",
     "text": [
      "[[1 0 0 2]\n",
      " [0 3 0 2]\n",
      " [1 2 0 3]\n",
      " [0 1 1 4]]\n",
      "              precision    recall  f1-score   support\n",
      "\n",
      "  distortion       0.50      0.33      0.40         3\n",
      "    emphasis       0.50      0.60      0.55         5\n",
      "exaggeration       0.00      0.00      0.00         6\n",
      "   unfounded       0.36      0.67      0.47         6\n",
      "\n",
      "    accuracy                           0.40        20\n",
      "   macro avg       0.34      0.40      0.35        20\n",
      "weighted avg       0.31      0.40      0.34        20\n",
      "\n",
      "0.4\n"
     ]
    }
   ],
   "source": [
    "from sklearn.dummy import DummyClassifier\n",
    "\n",
    "# Dummy Classifier With Method Stratified\n",
    "dummy_clf = DummyClassifier(strategy=\"stratified\")\n",
    "dummy_clf.fit(XTrain, yTrainLabels)\n",
    "\n",
    "yPredLabels = dummy_clf.predict(XTest)\n",
    "\n",
    "# Evaluate Results\n",
    "print(confusion_matrix(yTestLabels,yPredLabels))\n",
    "print(classification_report(yTestLabels,yPredLabels))\n",
    "print(accuracy_score(yTestLabels,yPredLabels))"
   ]
  },
  {
   "cell_type": "markdown",
   "metadata": {},
   "source": [
    "### Random Forest"
   ]
  },
  {
   "cell_type": "code",
   "execution_count": 12,
   "metadata": {},
   "outputs": [
    {
     "name": "stdout",
     "output_type": "stream",
     "text": [
      "[[0 0 1 2]\n",
      " [0 3 1 1]\n",
      " [1 1 2 2]\n",
      " [0 2 2 2]]\n",
      "              precision    recall  f1-score   support\n",
      "\n",
      "  distortion       0.00      0.00      0.00         3\n",
      "    emphasis       0.50      0.60      0.55         5\n",
      "exaggeration       0.33      0.33      0.33         6\n",
      "   unfounded       0.29      0.33      0.31         6\n",
      "\n",
      "    accuracy                           0.35        20\n",
      "   macro avg       0.28      0.32      0.30        20\n",
      "weighted avg       0.31      0.35      0.33        20\n",
      "\n",
      "0.35\n"
     ]
    }
   ],
   "source": [
    "from sklearn.ensemble import RandomForestClassifier\n",
    "\n",
    "# Random Forest Classification Method\n",
    "randForestClas = RandomForestClassifier(n_estimators=1000, random_state=0)\n",
    "randForestClas.fit(XTrain,yTrainLabels)\n",
    "\n",
    "yPredLabels = randForestClas.predict(XTest)\n",
    "\n",
    "# Evaluate Results\n",
    "print(confusion_matrix(yTestLabels,yPredLabels))\n",
    "print(classification_report(yTestLabels,yPredLabels))\n",
    "print(accuracy_score(yTestLabels,yPredLabels))"
   ]
  },
  {
   "cell_type": "code",
   "execution_count": 116,
   "metadata": {},
   "outputs": [],
   "source": [
    "from sklearn.model_selection import KFold\n",
    "from sklearn.model_selection import StratifiedKFold\n",
    "\n",
    "numberOfSplits = 4\n",
    "kf  = KFold(n_splits=numberOfSplits, shuffle=True, random_state=1)\n",
    "skf = StratifiedKFold(n_splits=numberOfSplits, shuffle=True, random_state=1)"
   ]
  },
  {
   "cell_type": "code",
   "execution_count": 98,
   "metadata": {},
   "outputs": [
    {
     "name": "stdout",
     "output_type": "stream",
     "text": [
      "Mean Accuracy Score for Random Forest is:  0.22\n"
     ]
    }
   ],
   "source": [
    "meanAccuracy = 0.0\n",
    "for train, test in kf.split(XTotal):\n",
    "    Xtrain, Xtest, Ytrain, Ytest = XTotal[train], XTotal[test], yTotalLabels[train], yTotalLabels[test]\n",
    "    randForestClas.fit(Xtrain,Ytrain)\n",
    "    \n",
    "    yPred = randForestClas.predict(Xtest)\n",
    "    meanAccuracy += accuracy_score(Ytest,yPred)\n",
    "\n",
    "print(\"Mean Accuracy Score for Random Forest is: \", round((meanAccuracy / numberOfSplits),2))"
   ]
  },
  {
   "cell_type": "code",
   "execution_count": 117,
   "metadata": {},
   "outputs": [
    {
     "name": "stdout",
     "output_type": "stream",
     "text": [
      "Mean Accuracy Score for Random Forest is:  0.28\n"
     ]
    }
   ],
   "source": [
    "meanAccuracy = 0.0\n",
    "for train, test in skf.split(XTotal,yTotalLabels):\n",
    "    Xtrain, Xtest, Ytrain, Ytest = XTotal[train], XTotal[test], yTotalLabels[train], yTotalLabels[test]\n",
    "    randForestClas.fit(Xtrain,Ytrain)\n",
    "    \n",
    "    yPred = randForestClas.predict(Xtest)\n",
    "    meanAccuracy += accuracy_score(Ytest,yPred)\n",
    "\n",
    "print(\"Mean Accuracy Score for Random Forest is: \", round((meanAccuracy / numberOfSplits),2))"
   ]
  },
  {
   "cell_type": "markdown",
   "metadata": {},
   "source": [
    "### K-Neighbors"
   ]
  },
  {
   "cell_type": "code",
   "execution_count": 72,
   "metadata": {},
   "outputs": [
    {
     "name": "stdout",
     "output_type": "stream",
     "text": [
      "[[0 0 1 2]\n",
      " [1 0 1 3]\n",
      " [1 2 2 1]\n",
      " [2 1 1 2]]\n",
      "              precision    recall  f1-score   support\n",
      "\n",
      "  distortion       0.00      0.00      0.00         3\n",
      "    emphasis       0.00      0.00      0.00         5\n",
      "exaggeration       0.40      0.33      0.36         6\n",
      "   unfounded       0.25      0.33      0.29         6\n",
      "\n",
      "    accuracy                           0.20        20\n",
      "   macro avg       0.16      0.17      0.16        20\n",
      "weighted avg       0.20      0.20      0.19        20\n",
      "\n",
      "0.2\n"
     ]
    }
   ],
   "source": [
    "from sklearn.neighbors import KNeighborsClassifier\n",
    "\n",
    "# K-Neighbors Classifier\n",
    "kNeighborsClas = KNeighborsClassifier(n_neighbors=3)\n",
    "kNeighborsClas.fit(XTrain,yTrainLabels)\n",
    "\n",
    "yPredLabels = kNeighborsClas.predict(XTest)\n",
    "\n",
    "# Evaluate Results\n",
    "print(confusion_matrix(yTestLabels,yPredLabels))\n",
    "print(classification_report(yTestLabels,yPredLabels))\n",
    "print(accuracy_score(yTestLabels,yPredLabels))"
   ]
  },
  {
   "cell_type": "code",
   "execution_count": 99,
   "metadata": {},
   "outputs": [
    {
     "name": "stdout",
     "output_type": "stream",
     "text": [
      "Mean Accuracy Score for kNeighbors is:  0.22\n"
     ]
    }
   ],
   "source": [
    "meanAccuracy = 0.0\n",
    "for train, test in kf.split(XTotal):\n",
    "    Xtrain, Xtest, Ytrain, Ytest = XTotal[train], XTotal[test], yTotalLabels[train], yTotalLabels[test]\n",
    "    kNeighborsClas.fit(Xtrain,Ytrain)\n",
    "    \n",
    "    yPred = kNeighborsClas.predict(Xtest)\n",
    "    meanAccuracy += accuracy_score(Ytest,yPred)\n",
    "\n",
    "print(\"Mean Accuracy Score for kNeighbors is: \", round((meanAccuracy / numberOfSplits),2))"
   ]
  },
  {
   "cell_type": "code",
   "execution_count": 118,
   "metadata": {},
   "outputs": [
    {
     "name": "stdout",
     "output_type": "stream",
     "text": [
      "Mean Accuracy Score for kNeighbors is:  0.28\n"
     ]
    }
   ],
   "source": [
    "meanAccuracy = 0.0\n",
    "for train, test in skf.split(XTotal,yTotalLabels):\n",
    "    Xtrain, Xtest, Ytrain, Ytest = XTotal[train], XTotal[test], yTotalLabels[train], yTotalLabels[test]\n",
    "    kNeighborsClas.fit(Xtrain,Ytrain)\n",
    "    \n",
    "    yPred = kNeighborsClas.predict(Xtest)\n",
    "    meanAccuracy += accuracy_score(Ytest,yPred)\n",
    "\n",
    "print(\"Mean Accuracy Score for kNeighbors is: \", round((meanAccuracy / numberOfSplits),2))"
   ]
  },
  {
   "cell_type": "markdown",
   "metadata": {},
   "source": [
    "### SVM"
   ]
  },
  {
   "cell_type": "code",
   "execution_count": 102,
   "metadata": {},
   "outputs": [
    {
     "name": "stdout",
     "output_type": "stream",
     "text": [
      "[[0 0 1 2]\n",
      " [0 0 1 4]\n",
      " [0 0 1 5]\n",
      " [0 0 2 4]]\n",
      "              precision    recall  f1-score   support\n",
      "\n",
      "  distortion       0.00      0.00      0.00         3\n",
      "    emphasis       0.00      0.00      0.00         5\n",
      "exaggeration       0.20      0.17      0.18         6\n",
      "   unfounded       0.27      0.67      0.38         6\n",
      "\n",
      "    accuracy                           0.25        20\n",
      "   macro avg       0.12      0.21      0.14        20\n",
      "weighted avg       0.14      0.25      0.17        20\n",
      "\n",
      "0.25\n"
     ]
    },
    {
     "name": "stderr",
     "output_type": "stream",
     "text": [
      "/usr/local/lib/python3.8/dist-packages/sklearn/metrics/_classification.py:1318: UndefinedMetricWarning: Precision and F-score are ill-defined and being set to 0.0 in labels with no predicted samples. Use `zero_division` parameter to control this behavior.\n",
      "  _warn_prf(average, modifier, msg_start, len(result))\n",
      "/usr/local/lib/python3.8/dist-packages/sklearn/metrics/_classification.py:1318: UndefinedMetricWarning: Precision and F-score are ill-defined and being set to 0.0 in labels with no predicted samples. Use `zero_division` parameter to control this behavior.\n",
      "  _warn_prf(average, modifier, msg_start, len(result))\n",
      "/usr/local/lib/python3.8/dist-packages/sklearn/metrics/_classification.py:1318: UndefinedMetricWarning: Precision and F-score are ill-defined and being set to 0.0 in labels with no predicted samples. Use `zero_division` parameter to control this behavior.\n",
      "  _warn_prf(average, modifier, msg_start, len(result))\n"
     ]
    }
   ],
   "source": [
    "from sklearn.svm import SVC\n",
    "\n",
    "# SVM Classifier\n",
    "svmClas = SVC()\n",
    "svmClas.fit(XTrain,yTrainLabels)\n",
    "\n",
    "yPredLabels = svmClas.predict(XTest)\n",
    "\n",
    "# Evaluate Results\n",
    "print(confusion_matrix(yTestLabels,yPredLabels))\n",
    "print(classification_report(yTestLabels,yPredLabels))\n",
    "print(accuracy_score(yTestLabels,yPredLabels))"
   ]
  },
  {
   "cell_type": "code",
   "execution_count": 103,
   "metadata": {},
   "outputs": [
    {
     "name": "stdout",
     "output_type": "stream",
     "text": [
      "Mean Accuracy Score for kNeighbors is:  0.22\n"
     ]
    }
   ],
   "source": [
    "meanAccuracy = 0.0\n",
    "for train, test in kf.split(XTotal):\n",
    "    Xtrain, Xtest, Ytrain, Ytest = XTotal[train], XTotal[test], yTotalLabels[train], yTotalLabels[test]\n",
    "    svmClas.fit(Xtrain,Ytrain)\n",
    "    \n",
    "    yPred = svmClas.predict(Xtest)\n",
    "    meanAccuracy += accuracy_score(Ytest,yPred)\n",
    "\n",
    "print(\"Mean Accuracy Score for kNeighbors is: \", round((meanAccuracy / numberOfSplits),2))"
   ]
  },
  {
   "cell_type": "code",
   "execution_count": 119,
   "metadata": {},
   "outputs": [
    {
     "name": "stdout",
     "output_type": "stream",
     "text": [
      "Mean Accuracy Score for kNeighbors is:  0.38\n"
     ]
    }
   ],
   "source": [
    "meanAccuracy = 0.0\n",
    "for train, test in skf.split(XTotal,yTotalLabels):\n",
    "    Xtrain, Xtest, Ytrain, Ytest = XTotal[train], XTotal[test], yTotalLabels[train], yTotalLabels[test]\n",
    "    svmClas.fit(Xtrain,Ytrain)\n",
    "    \n",
    "    yPred = svmClas.predict(Xtest)\n",
    "    meanAccuracy += accuracy_score(Ytest,yPred)\n",
    "\n",
    "print(\"Mean Accuracy Score for kNeighbors is: \", round((meanAccuracy / numberOfSplits),2))"
   ]
  },
  {
   "cell_type": "markdown",
   "metadata": {},
   "source": [
    "### Gaussian Process"
   ]
  },
  {
   "cell_type": "code",
   "execution_count": 15,
   "metadata": {},
   "outputs": [
    {
     "name": "stdout",
     "output_type": "stream",
     "text": [
      "[[0 0 1 2]\n",
      " [0 0 1 4]\n",
      " [0 1 1 4]\n",
      " [0 0 2 4]]\n",
      "              precision    recall  f1-score   support\n",
      "\n",
      "  distortion       0.00      0.00      0.00         3\n",
      "    emphasis       0.00      0.00      0.00         5\n",
      "exaggeration       0.20      0.17      0.18         6\n",
      "   unfounded       0.29      0.67      0.40         6\n",
      "\n",
      "    accuracy                           0.25        20\n",
      "   macro avg       0.12      0.21      0.15        20\n",
      "weighted avg       0.15      0.25      0.17        20\n",
      "\n",
      "0.25\n"
     ]
    },
    {
     "name": "stderr",
     "output_type": "stream",
     "text": [
      "/usr/local/lib/python3.8/dist-packages/sklearn/metrics/_classification.py:1318: UndefinedMetricWarning: Precision and F-score are ill-defined and being set to 0.0 in labels with no predicted samples. Use `zero_division` parameter to control this behavior.\n",
      "  _warn_prf(average, modifier, msg_start, len(result))\n",
      "/usr/local/lib/python3.8/dist-packages/sklearn/metrics/_classification.py:1318: UndefinedMetricWarning: Precision and F-score are ill-defined and being set to 0.0 in labels with no predicted samples. Use `zero_division` parameter to control this behavior.\n",
      "  _warn_prf(average, modifier, msg_start, len(result))\n",
      "/usr/local/lib/python3.8/dist-packages/sklearn/metrics/_classification.py:1318: UndefinedMetricWarning: Precision and F-score are ill-defined and being set to 0.0 in labels with no predicted samples. Use `zero_division` parameter to control this behavior.\n",
      "  _warn_prf(average, modifier, msg_start, len(result))\n"
     ]
    }
   ],
   "source": [
    "from sklearn.gaussian_process import GaussianProcessClassifier\n",
    "\n",
    "# Gaussian Process Classifier\n",
    "gaussianProcClas = GaussianProcessClassifier()\n",
    "gaussianProcClas.fit(XTrain,yTrainLabels)\n",
    "\n",
    "yPredLabels = gaussianProcClas.predict(XTest)\n",
    "\n",
    "# Evaluate Results\n",
    "print(confusion_matrix(yTestLabels,yPredLabels))\n",
    "print(classification_report(yTestLabels,yPredLabels))\n",
    "print(accuracy_score(yTestLabels,yPredLabels))"
   ]
  },
  {
   "cell_type": "code",
   "execution_count": 107,
   "metadata": {},
   "outputs": [
    {
     "name": "stdout",
     "output_type": "stream",
     "text": [
      "Mean Accuracy Score for kNeighbors is:  0.22\n"
     ]
    }
   ],
   "source": [
    "meanAccuracy = 0.0\n",
    "for train, test in kf.split(XTotal):\n",
    "    Xtrain, Xtest, Ytrain, Ytest = XTotal[train], XTotal[test], yTotalLabels[train], yTotalLabels[test]\n",
    "    gaussianProcClas.fit(Xtrain,Ytrain)\n",
    "    \n",
    "    yPred = gaussianProcClas.predict(Xtest)\n",
    "    meanAccuracy += accuracy_score(Ytest,yPred)\n",
    "\n",
    "print(\"Mean Accuracy Score for kNeighbors is: \", round((meanAccuracy / numberOfSplits),2))"
   ]
  },
  {
   "cell_type": "code",
   "execution_count": 120,
   "metadata": {},
   "outputs": [
    {
     "name": "stdout",
     "output_type": "stream",
     "text": [
      "Mean Accuracy Score for kNeighbors is:  0.43\n"
     ]
    }
   ],
   "source": [
    "meanAccuracy = 0.0\n",
    "for train, test in skf.split(XTotal,yTotalLabels):\n",
    "    Xtrain, Xtest, Ytrain, Ytest = XTotal[train], XTotal[test], yTotalLabels[train], yTotalLabels[test]\n",
    "    gaussianProcClas.fit(Xtrain,Ytrain)\n",
    "    \n",
    "    yPred = gaussianProcClas.predict(Xtest)\n",
    "    meanAccuracy += accuracy_score(Ytest,yPred)\n",
    "\n",
    "print(\"Mean Accuracy Score for kNeighbors is: \", round((meanAccuracy / numberOfSplits),2))"
   ]
  },
  {
   "cell_type": "markdown",
   "metadata": {},
   "source": [
    "### Decision Tree"
   ]
  },
  {
   "cell_type": "code",
   "execution_count": 16,
   "metadata": {},
   "outputs": [
    {
     "name": "stdout",
     "output_type": "stream",
     "text": [
      "[[1 0 0 2]\n",
      " [1 2 1 1]\n",
      " [1 2 1 2]\n",
      " [2 1 1 2]]\n",
      "              precision    recall  f1-score   support\n",
      "\n",
      "  distortion       0.20      0.33      0.25         3\n",
      "    emphasis       0.40      0.40      0.40         5\n",
      "exaggeration       0.33      0.17      0.22         6\n",
      "   unfounded       0.29      0.33      0.31         6\n",
      "\n",
      "    accuracy                           0.30        20\n",
      "   macro avg       0.30      0.31      0.29        20\n",
      "weighted avg       0.32      0.30      0.30        20\n",
      "\n",
      "0.3\n"
     ]
    }
   ],
   "source": [
    "from sklearn.tree import DecisionTreeClassifier\n",
    "\n",
    "# Decision Tree Classifier\n",
    "decisionTreeClas = DecisionTreeClassifier()\n",
    "decisionTreeClas.fit(XTrain,yTrainLabels)\n",
    "\n",
    "yPredLabels = decisionTreeClas.predict(XTest)\n",
    "\n",
    "# Evaluate Results\n",
    "print(confusion_matrix(yTestLabels,yPredLabels))\n",
    "print(classification_report(yTestLabels,yPredLabels))\n",
    "print(accuracy_score(yTestLabels,yPredLabels))"
   ]
  },
  {
   "cell_type": "code",
   "execution_count": 108,
   "metadata": {},
   "outputs": [
    {
     "name": "stdout",
     "output_type": "stream",
     "text": [
      "Mean Accuracy Score for kNeighbors is:  0.2\n"
     ]
    }
   ],
   "source": [
    "meanAccuracy = 0.0\n",
    "for train, test in kf.split(XTotal):\n",
    "    Xtrain, Xtest, Ytrain, Ytest = XTotal[train], XTotal[test], yTotalLabels[train], yTotalLabels[test]\n",
    "    decisionTreeClas.fit(Xtrain,Ytrain)\n",
    "    \n",
    "    yPred = decisionTreeClas.predict(Xtest)\n",
    "    meanAccuracy += accuracy_score(Ytest,yPred)\n",
    "\n",
    "print(\"Mean Accuracy Score for kNeighbors is: \", round((meanAccuracy / numberOfSplits),2))"
   ]
  },
  {
   "cell_type": "code",
   "execution_count": 121,
   "metadata": {},
   "outputs": [
    {
     "name": "stdout",
     "output_type": "stream",
     "text": [
      "Mean Accuracy Score for kNeighbors is:  0.2\n"
     ]
    }
   ],
   "source": [
    "meanAccuracy = 0.0\n",
    "for train, test in skf.split(XTotal,yTotalLabels):\n",
    "    Xtrain, Xtest, Ytrain, Ytest = XTotal[train], XTotal[test], yTotalLabels[train], yTotalLabels[test]\n",
    "    decisionTreeClas.fit(Xtrain,Ytrain)\n",
    "    \n",
    "    yPred = decisionTreeClas.predict(Xtest)\n",
    "    meanAccuracy += accuracy_score(Ytest,yPred)\n",
    "\n",
    "print(\"Mean Accuracy Score for kNeighbors is: \", round((meanAccuracy / numberOfSplits),2))"
   ]
  },
  {
   "cell_type": "markdown",
   "metadata": {},
   "source": [
    "### Ada Boost"
   ]
  },
  {
   "cell_type": "code",
   "execution_count": 17,
   "metadata": {},
   "outputs": [
    {
     "name": "stdout",
     "output_type": "stream",
     "text": [
      "[[1 0 0 2]\n",
      " [1 0 1 3]\n",
      " [1 0 1 4]\n",
      " [2 0 2 2]]\n",
      "              precision    recall  f1-score   support\n",
      "\n",
      "  distortion       0.20      0.33      0.25         3\n",
      "    emphasis       0.00      0.00      0.00         5\n",
      "exaggeration       0.25      0.17      0.20         6\n",
      "   unfounded       0.18      0.33      0.24         6\n",
      "\n",
      "    accuracy                           0.20        20\n",
      "   macro avg       0.16      0.21      0.17        20\n",
      "weighted avg       0.16      0.20      0.17        20\n",
      "\n",
      "0.2\n"
     ]
    },
    {
     "name": "stderr",
     "output_type": "stream",
     "text": [
      "/usr/local/lib/python3.8/dist-packages/sklearn/metrics/_classification.py:1318: UndefinedMetricWarning: Precision and F-score are ill-defined and being set to 0.0 in labels with no predicted samples. Use `zero_division` parameter to control this behavior.\n",
      "  _warn_prf(average, modifier, msg_start, len(result))\n",
      "/usr/local/lib/python3.8/dist-packages/sklearn/metrics/_classification.py:1318: UndefinedMetricWarning: Precision and F-score are ill-defined and being set to 0.0 in labels with no predicted samples. Use `zero_division` parameter to control this behavior.\n",
      "  _warn_prf(average, modifier, msg_start, len(result))\n",
      "/usr/local/lib/python3.8/dist-packages/sklearn/metrics/_classification.py:1318: UndefinedMetricWarning: Precision and F-score are ill-defined and being set to 0.0 in labels with no predicted samples. Use `zero_division` parameter to control this behavior.\n",
      "  _warn_prf(average, modifier, msg_start, len(result))\n"
     ]
    }
   ],
   "source": [
    "from sklearn.ensemble import AdaBoostClassifier\n",
    "\n",
    "# Ada Boost Classifier\n",
    "adaBoostClas = AdaBoostClassifier()\n",
    "adaBoostClas.fit(XTrain,yTrainLabels)\n",
    "\n",
    "yPredLabels = adaBoostClas.predict(XTest)\n",
    "\n",
    "# Evaluate Results\n",
    "print(confusion_matrix(yTestLabels,yPredLabels))\n",
    "print(classification_report(yTestLabels,yPredLabels))\n",
    "print(accuracy_score(yTestLabels,yPredLabels))"
   ]
  },
  {
   "cell_type": "code",
   "execution_count": 109,
   "metadata": {},
   "outputs": [
    {
     "name": "stdout",
     "output_type": "stream",
     "text": [
      "Mean Accuracy Score for kNeighbors is:  0.22\n"
     ]
    }
   ],
   "source": [
    "meanAccuracy = 0.0\n",
    "for train, test in kf.split(XTotal):\n",
    "    Xtrain, Xtest, Ytrain, Ytest = XTotal[train], XTotal[test], yTotalLabels[train], yTotalLabels[test]\n",
    "    adaBoostClas.fit(Xtrain,Ytrain)\n",
    "    \n",
    "    yPred = adaBoostClas.predict(Xtest)\n",
    "    meanAccuracy += accuracy_score(Ytest,yPred)\n",
    "\n",
    "print(\"Mean Accuracy Score for kNeighbors is: \", round((meanAccuracy / numberOfSplits),2))"
   ]
  },
  {
   "cell_type": "code",
   "execution_count": 122,
   "metadata": {},
   "outputs": [
    {
     "name": "stdout",
     "output_type": "stream",
     "text": [
      "Mean Accuracy Score for kNeighbors is:  0.18\n"
     ]
    }
   ],
   "source": [
    "meanAccuracy = 0.0\n",
    "for train, test in skf.split(XTotal,yTotalLabels):\n",
    "    Xtrain, Xtest, Ytrain, Ytest = XTotal[train], XTotal[test], yTotalLabels[train], yTotalLabels[test]\n",
    "    adaBoostClas.fit(Xtrain,Ytrain)\n",
    "    \n",
    "    yPred = adaBoostClas.predict(Xtest)\n",
    "    meanAccuracy += accuracy_score(Ytest,yPred)\n",
    "\n",
    "print(\"Mean Accuracy Score for kNeighbors is: \", round((meanAccuracy / numberOfSplits),2))"
   ]
  },
  {
   "cell_type": "markdown",
   "metadata": {},
   "source": [
    "### Naive Bayes"
   ]
  },
  {
   "cell_type": "code",
   "execution_count": 18,
   "metadata": {},
   "outputs": [
    {
     "name": "stdout",
     "output_type": "stream",
     "text": [
      "[[0 1 2 0]\n",
      " [0 2 1 2]\n",
      " [0 2 2 2]\n",
      " [0 1 2 3]]\n",
      "              precision    recall  f1-score   support\n",
      "\n",
      "  distortion       0.00      0.00      0.00         3\n",
      "    emphasis       0.33      0.40      0.36         5\n",
      "exaggeration       0.29      0.33      0.31         6\n",
      "   unfounded       0.43      0.50      0.46         6\n",
      "\n",
      "    accuracy                           0.35        20\n",
      "   macro avg       0.26      0.31      0.28        20\n",
      "weighted avg       0.30      0.35      0.32        20\n",
      "\n",
      "0.35\n"
     ]
    },
    {
     "name": "stderr",
     "output_type": "stream",
     "text": [
      "/usr/local/lib/python3.8/dist-packages/sklearn/metrics/_classification.py:1318: UndefinedMetricWarning: Precision and F-score are ill-defined and being set to 0.0 in labels with no predicted samples. Use `zero_division` parameter to control this behavior.\n",
      "  _warn_prf(average, modifier, msg_start, len(result))\n",
      "/usr/local/lib/python3.8/dist-packages/sklearn/metrics/_classification.py:1318: UndefinedMetricWarning: Precision and F-score are ill-defined and being set to 0.0 in labels with no predicted samples. Use `zero_division` parameter to control this behavior.\n",
      "  _warn_prf(average, modifier, msg_start, len(result))\n",
      "/usr/local/lib/python3.8/dist-packages/sklearn/metrics/_classification.py:1318: UndefinedMetricWarning: Precision and F-score are ill-defined and being set to 0.0 in labels with no predicted samples. Use `zero_division` parameter to control this behavior.\n",
      "  _warn_prf(average, modifier, msg_start, len(result))\n"
     ]
    }
   ],
   "source": [
    "from sklearn.naive_bayes import GaussianNB\n",
    "\n",
    "# Naive Bayes Classifier\n",
    "gaussianNBClas = GaussianNB()\n",
    "gaussianNBClas.fit(XTrain,yTrainLabels)\n",
    "\n",
    "yPredLabels = gaussianNBClas.predict(XTest)\n",
    "\n",
    "# Evaluate Results\n",
    "print(confusion_matrix(yTestLabels,yPredLabels))\n",
    "print(classification_report(yTestLabels,yPredLabels))\n",
    "print(accuracy_score(yTestLabels,yPredLabels))"
   ]
  },
  {
   "cell_type": "code",
   "execution_count": 110,
   "metadata": {},
   "outputs": [
    {
     "name": "stdout",
     "output_type": "stream",
     "text": [
      "Mean Accuracy Score for kNeighbors is:  0.3\n"
     ]
    }
   ],
   "source": [
    "meanAccuracy = 0.0\n",
    "for train, test in kf.split(XTotal):\n",
    "    Xtrain, Xtest, Ytrain, Ytest = XTotal[train], XTotal[test], yTotalLabels[train], yTotalLabels[test]\n",
    "    gaussianNBClas.fit(Xtrain,Ytrain)\n",
    "    \n",
    "    yPred = gaussianNBClas.predict(Xtest)\n",
    "    meanAccuracy += accuracy_score(Ytest,yPred)\n",
    "\n",
    "print(\"Mean Accuracy Score for kNeighbors is: \", round((meanAccuracy / numberOfSplits),2))"
   ]
  },
  {
   "cell_type": "code",
   "execution_count": 123,
   "metadata": {},
   "outputs": [
    {
     "name": "stdout",
     "output_type": "stream",
     "text": [
      "Mean Accuracy Score for kNeighbors is:  0.35\n"
     ]
    }
   ],
   "source": [
    "meanAccuracy = 0.0\n",
    "for train, test in skf.split(XTotal,yTotalLabels):\n",
    "    Xtrain, Xtest, Ytrain, Ytest = XTotal[train], XTotal[test], yTotalLabels[train], yTotalLabels[test]\n",
    "    gaussianNBClas.fit(Xtrain,Ytrain)\n",
    "    \n",
    "    yPred = gaussianNBClas.predict(Xtest)\n",
    "    meanAccuracy += accuracy_score(Ytest,yPred)\n",
    "\n",
    "print(\"Mean Accuracy Score for kNeighbors is: \", round((meanAccuracy / numberOfSplits),2))"
   ]
  },
  {
   "cell_type": "markdown",
   "metadata": {},
   "source": [
    "### Quadratic Discriminant Analysis"
   ]
  },
  {
   "cell_type": "code",
   "execution_count": 19,
   "metadata": {},
   "outputs": [
    {
     "name": "stdout",
     "output_type": "stream",
     "text": [
      "[[1 0 0 2]\n",
      " [0 0 2 3]\n",
      " [0 0 3 3]\n",
      " [0 1 1 4]]\n",
      "              precision    recall  f1-score   support\n",
      "\n",
      "  distortion       1.00      0.33      0.50         3\n",
      "    emphasis       0.00      0.00      0.00         5\n",
      "exaggeration       0.50      0.50      0.50         6\n",
      "   unfounded       0.33      0.67      0.44         6\n",
      "\n",
      "    accuracy                           0.40        20\n",
      "   macro avg       0.46      0.38      0.36        20\n",
      "weighted avg       0.40      0.40      0.36        20\n",
      "\n",
      "0.4\n"
     ]
    },
    {
     "name": "stderr",
     "output_type": "stream",
     "text": [
      "/usr/local/lib/python3.8/dist-packages/sklearn/discriminant_analysis.py:878: UserWarning: Variables are collinear\n",
      "  warnings.warn(\"Variables are collinear\")\n"
     ]
    }
   ],
   "source": [
    "from sklearn.discriminant_analysis import QuadraticDiscriminantAnalysis\n",
    "\n",
    "# Quadratic Discriminant Analysis\n",
    "quadrDAClas = QuadraticDiscriminantAnalysis()\n",
    "quadrDAClas.fit(XTrain,yTrainLabels)\n",
    "\n",
    "yPredLabels = quadrDAClas.predict(XTest)\n",
    "\n",
    "# Evaluate Results\n",
    "print(confusion_matrix(yTestLabels,yPredLabels))\n",
    "print(classification_report(yTestLabels,yPredLabels))\n",
    "print(accuracy_score(yTestLabels,yPredLabels))"
   ]
  },
  {
   "cell_type": "code",
   "execution_count": 111,
   "metadata": {},
   "outputs": [
    {
     "name": "stdout",
     "output_type": "stream",
     "text": [
      "Mean Accuracy Score for kNeighbors is:  0.25\n"
     ]
    },
    {
     "name": "stderr",
     "output_type": "stream",
     "text": [
      "/usr/local/lib/python3.8/dist-packages/sklearn/discriminant_analysis.py:878: UserWarning: Variables are collinear\n",
      "  warnings.warn(\"Variables are collinear\")\n",
      "/usr/local/lib/python3.8/dist-packages/sklearn/discriminant_analysis.py:878: UserWarning: Variables are collinear\n",
      "  warnings.warn(\"Variables are collinear\")\n",
      "/usr/local/lib/python3.8/dist-packages/sklearn/discriminant_analysis.py:878: UserWarning: Variables are collinear\n",
      "  warnings.warn(\"Variables are collinear\")\n",
      "/usr/local/lib/python3.8/dist-packages/sklearn/discriminant_analysis.py:878: UserWarning: Variables are collinear\n",
      "  warnings.warn(\"Variables are collinear\")\n"
     ]
    }
   ],
   "source": [
    "meanAccuracy = 0.0\n",
    "for train, test in kf.split(XTotal):\n",
    "    Xtrain, Xtest, Ytrain, Ytest = XTotal[train], XTotal[test], yTotalLabels[train], yTotalLabels[test]\n",
    "    quadrDAClas.fit(Xtrain,Ytrain)\n",
    "    \n",
    "    yPred = quadrDAClas.predict(Xtest)\n",
    "    meanAccuracy += accuracy_score(Ytest,yPred)\n",
    "\n",
    "print(\"Mean Accuracy Score for kNeighbors is: \", round((meanAccuracy / numberOfSplits),2))"
   ]
  },
  {
   "cell_type": "code",
   "execution_count": 124,
   "metadata": {},
   "outputs": [
    {
     "name": "stdout",
     "output_type": "stream",
     "text": [
      "Mean Accuracy Score for kNeighbors is:  0.28\n"
     ]
    },
    {
     "name": "stderr",
     "output_type": "stream",
     "text": [
      "/usr/local/lib/python3.8/dist-packages/sklearn/discriminant_analysis.py:878: UserWarning: Variables are collinear\n",
      "  warnings.warn(\"Variables are collinear\")\n",
      "/usr/local/lib/python3.8/dist-packages/sklearn/discriminant_analysis.py:878: UserWarning: Variables are collinear\n",
      "  warnings.warn(\"Variables are collinear\")\n",
      "/usr/local/lib/python3.8/dist-packages/sklearn/discriminant_analysis.py:878: UserWarning: Variables are collinear\n",
      "  warnings.warn(\"Variables are collinear\")\n",
      "/usr/local/lib/python3.8/dist-packages/sklearn/discriminant_analysis.py:878: UserWarning: Variables are collinear\n",
      "  warnings.warn(\"Variables are collinear\")\n"
     ]
    }
   ],
   "source": [
    "meanAccuracy = 0.0\n",
    "for train, test in skf.split(XTotal,yTotalLabels):\n",
    "    Xtrain, Xtest, Ytrain, Ytest = XTotal[train], XTotal[test], yTotalLabels[train], yTotalLabels[test]\n",
    "    quadrDAClas.fit(Xtrain,Ytrain)\n",
    "    \n",
    "    yPred = quadrDAClas.predict(Xtest)\n",
    "    meanAccuracy += accuracy_score(Ytest,yPred)\n",
    "\n",
    "print(\"Mean Accuracy Score for kNeighbors is: \", round((meanAccuracy / numberOfSplits),2))"
   ]
  }
 ],
 "metadata": {
  "kernelspec": {
   "display_name": "Python 3",
   "language": "python",
   "name": "python3"
  },
  "language_info": {
   "codemirror_mode": {
    "name": "ipython",
    "version": 3
   },
   "file_extension": ".py",
   "mimetype": "text/x-python",
   "name": "python",
   "nbconvert_exporter": "python",
   "pygments_lexer": "ipython3",
   "version": "3.8.10"
  }
 },
 "nbformat": 4,
 "nbformat_minor": 4
}
